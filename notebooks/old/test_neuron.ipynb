{
 "cells": [
  {
   "cell_type": "code",
   "execution_count": 1,
   "metadata": {},
   "outputs": [
    {
     "name": "stderr",
     "output_type": "stream",
     "text": [
      "Warning: no DISPLAY environment variable.\n",
      "--No graphics will be displayed.\n"
     ]
    }
   ],
   "source": [
    "import matplotlib\n",
    "import os\n",
    "import json\n",
    "import model_helpers as mh\n",
    "from neuron import h, load_mechanisms\n",
    "%matplotlib inline"
   ]
  },
  {
   "cell_type": "markdown",
   "metadata": {},
   "source": [
    "## Test Hay el al 2011 Model from ModelDB"
   ]
  },
  {
   "cell_type": "code",
   "execution_count": 2,
   "metadata": {},
   "outputs": [],
   "source": [
    "# nmldb_id = \"NMLCL000073\"\n",
    "model_source = 'ModelDB'\n",
    "model_name = \"L5PCbiophys\"\n",
    "model_version = '1'  # '1', '2', '3', '4'"
   ]
  },
  {
   "cell_type": "code",
   "execution_count": 3,
   "metadata": {},
   "outputs": [],
   "source": [
    "cwd = os.getcwd()\n",
    "models_dir = os.path.join(cwd, 'models')\n",
    "model_dir = os.path.join(models_dir, model_source, 'L5bPCmodelsEH')\n",
    "hocs_dir = os.path.join(model_dir,'models')\n",
    "mod_dir = os.path.join(model_dir, 'mod')"
   ]
  },
  {
   "cell_type": "code",
   "execution_count": 4,
   "metadata": {},
   "outputs": [
    {
     "name": "stdout",
     "output_type": "stream",
     "text": [
      "Mechanisms already compiled!\n"
     ]
    }
   ],
   "source": [
    "load_mechanisms(mod_dir)\n",
    "mh.compile_mechs(cwd, hocs_dir, mod_dir)"
   ]
  },
  {
   "cell_type": "code",
   "execution_count": 5,
   "metadata": {},
   "outputs": [],
   "source": [
    "hoc_file = os.path.join(hocs_dir, model_name+model_version+'.hoc')"
   ]
  },
  {
   "cell_type": "code",
   "execution_count": 6,
   "metadata": {},
   "outputs": [],
   "source": [
    "# from neuron import h\n",
    "\n",
    "# h.load_file(hoc_file)"
   ]
  },
  {
   "cell_type": "code",
   "execution_count": 7,
   "metadata": {},
   "outputs": [],
   "source": [
    "from netpyne import specs, sim\n",
    "\n",
    "# Network parameters\n",
    "netParams = specs.NetParams()"
   ]
  },
  {
   "cell_type": "code",
   "execution_count": 8,
   "metadata": {},
   "outputs": [
    {
     "data": {
      "text/plain": [
       "{conds: {cellType: 'PYR', cellModel: 'Hay2011'}, secs: {}, secLists: {SectionList[0]: [], SectionList[1]: []}, globals: {}, _repr_mimebundle_: {}}"
      ]
     },
     "execution_count": 8,
     "metadata": {},
     "output_type": "execute_result"
    }
   ],
   "source": [
    "netParams.importCellParams(\n",
    "    label='L5PCbiophys1_hoc',\n",
    "    conds={'cellType': 'PYR', 'cellModel': 'Hay2011'},\n",
    "    fileName=hoc_file,\n",
    "    cellName=model_name,\n",
    "    importSynMechs=False\n",
    ")"
   ]
  },
  {
   "cell_type": "markdown",
   "metadata": {},
   "source": [
    "## Test Hay el al 2011 Model from NeuroML"
   ]
  },
  {
   "cell_type": "code",
   "execution_count": 14,
   "metadata": {},
   "outputs": [],
   "source": [
    "nmldb_id = \"NMLCL000073\"\n",
    "model_source = 'NeuroML'\n",
    "model_name = \"L5PC\""
   ]
  },
  {
   "cell_type": "code",
   "execution_count": 7,
   "metadata": {},
   "outputs": [],
   "source": [
    "cwd = os.getcwd()\n",
    "models_dir = os.path.join(cwd, 'models')\n",
    "model_dir = os.path.join(models_dir, model_source, nmldb_id)"
   ]
  },
  {
   "cell_type": "code",
   "execution_count": 5,
   "metadata": {},
   "outputs": [
    {
     "name": "stdout",
     "output_type": "stream",
     "text": [
      "Model NMLCL000073 successfully downloaded!\n"
     ]
    }
   ],
   "source": [
    "mh.download_from_nmldb(nmldb_id, model_source)"
   ]
  },
  {
   "cell_type": "code",
   "execution_count": 17,
   "metadata": {},
   "outputs": [],
   "source": [
    "from netpyne import sim\n",
    "from netpyne import specs"
   ]
  },
  {
   "cell_type": "code",
   "execution_count": 18,
   "metadata": {},
   "outputs": [],
   "source": [
    "simConfig = specs.SimConfig()\n",
    "\n",
    "# simulation parameters\n",
    "simConfig.duration = 5\n",
    "simConfig.dt = 0.1\n",
    "simConfig.verbose = True\n",
    "\n",
    "simConfig.recordCells = ['all']\n",
    "simConfig.recordTraces = {'Vsoma': {'sec': 'soma', 'loc': 0.5, 'var': 'v'}}\n",
    "simConfig.filename = f'test_{nmldb_id}'\n",
    "simConfig.saveDat = True\n",
    "simConfig.saveJson = True\n",
    "\n",
    "simConfig.plotRaster = True\n",
    "simConfig.plotCells = ['all']"
   ]
  },
  {
   "cell_type": "code",
   "execution_count": 19,
   "metadata": {},
   "outputs": [
    {
     "name": "stdout",
     "output_type": "stream",
     "text": [
      "Importing NeuroML 2 network from: /home/kedoxey/CRCNS/PyramidalCellSimulations/models/NeuroML/NMLCL000073/L5PC.cell.nml\n",
      "Parsing: /home/kedoxey/CRCNS/PyramidalCellSimulations/models/NeuroML/NMLCL000073/L5PC.cell.nml\n",
      "Loaded: /home/kedoxey/CRCNS/PyramidalCellSimulations/models/NeuroML/NMLCL000073/L5PC.cell.nml as NeuroMLDocument\n",
      "Finished import of NeuroML2; populations vs gids NML has calculated: \n",
      "\n",
      "Start time:  2023-09-27 17:24:39.344397\n",
      "\n",
      "Creating network of 0 cell populations on 1 hosts...\n",
      "  Number of cells on node 0: 0 \n",
      "  Done; cell creation time = 0.00 s.\n",
      "  Number of connections on node 0: 0 \n",
      "  Number of stims on node 0: 0 \n",
      "  Done; cell stims creation time = 0.00 s.\n",
      "   Recording: spkt:\n",
      "   Recording: spkid:\n",
      "   Recording: Vsoma:\n",
      "   Recording: t:\n",
      "Recording 0 traces of 0 types on node 0\n",
      "\n",
      "Setting h global variables ...\n",
      "  h.celsius = 6.3\n",
      "  h.v_init = -65.0\n",
      "  h.clamp_resist = 0.001\n",
      "  h.tstop = 5.0\n",
      "Minimum delay (time-step for queue exchange) is 10.00\n",
      "\n",
      "Running simulation using NEURON for 5.0 ms...\n",
      "  Done; run time = 0.00 s; real-time ratio: 17.39.\n",
      "\n",
      "Gathering data...\n",
      "  Done; gather time = 0.00 s.\n",
      "\n",
      "Analyzing...\n",
      "  Cells: 0\n",
      "  Connections: 0 (0.00 per cell)\n",
      "  Spikes: 0 (0.00 Hz)\n",
      "  Simulated time: 0.0 s; 1 workers\n",
      "  Run time: 0.00 s\n",
      "Saving output as test_NMLCL000073_data.json ... \n",
      "Finished saving!\n",
      "Finished saving!\n",
      "  Done; saving time = 0.01 s.\n",
      "  Done; plotting time = 0.00 s\n",
      "\n",
      "Total time = 0.01 s\n"
     ]
    },
    {
     "data": {
      "text/plain": [
       "OrderedDict()"
      ]
     },
     "execution_count": 19,
     "metadata": {},
     "output_type": "execute_result"
    }
   ],
   "source": [
    "cell_fname = os.path.join(model_dir,model_name) + '.cell.nml'\n",
    "\n",
    "sim.importNeuroML2SimulateAnalyze(cell_fname, simConfig)"
   ]
  },
  {
   "cell_type": "code",
   "execution_count": null,
   "metadata": {},
   "outputs": [],
   "source": []
  },
  {
   "cell_type": "markdown",
   "metadata": {},
   "source": [
    "## Test Hay et al 2011 Model from OSB"
   ]
  },
  {
   "cell_type": "code",
   "execution_count": 2,
   "metadata": {},
   "outputs": [],
   "source": [
    "model = 'L5bPyrCellHayEtAl2011'"
   ]
  },
  {
   "cell_type": "code",
   "execution_count": 3,
   "metadata": {},
   "outputs": [],
   "source": [
    "cwd = os.getcwd()\n",
    "model_dir = os.path.join(cwd, model)\n",
    "neuron_dir = os.path.join(model_dir, 'NEURON')\n",
    "mod_dir = os.path.join(neuron_dir, 'mod')\n",
    "models_dir = os.path.join(neuron_dir, 'models')"
   ]
  },
  {
   "cell_type": "code",
   "execution_count": 6,
   "metadata": {},
   "outputs": [
    {
     "name": "stdout",
     "output_type": "stream",
     "text": [
      "/home/kedoxey/CRCNS/PyramidalCellSimulations/L5bPyrCellHayEtAl2011/NEURON/mod\n",
      "Mod files: \"./CaDynamics_E2.mod\" \"./Ca_HVA.mod\" \"./Ca_LVAst.mod\" \"./epsp.mod\" \"./Ih.mod\" \"./Im.mod\" \"./K_Pst.mod\" \"./K_Tst.mod\" \"./Nap_Et2.mod\" \"./NaTa_t.mod\" \"./NaTs2_t.mod\" \"./SK_E2.mod\" \"./SKv3_1.mod\"\n",
      "\n",
      "Creating x86_64 directory for .o files.\n",
      "\n",
      "COBJS=''\n",
      " -> \u001b[32mCompiling\u001b[0m mod_func.c\n",
      " -> \u001b[32mNMODL\u001b[0m .././CaDynamics_E2.mod\n",
      "gcc -O2   -I.   -I/home/kedoxey/.conda/envs/OBModel_linux/lib/python3.7/site-packages/neuron/.data/include  -I/nrnwheel/openmpi/include -fPIC -c mod_func.c -o mod_func.o\n",
      "(cd \"../.\"; MODLUNIT=/home/kedoxey/.conda/envs/OBModel_linux/lib/python3.7/site-packages/neuron/.data/share/nrn/lib/nrnunits.lib /home/kedoxey/.conda/envs/OBModel_linux/lib/python3.7/site-packages/neuron/.data/bin/nocmodl CaDynamics_E2.mod -o \"/home/kedoxey/CRCNS/PyramidalCellSimulations/L5bPyrCellHayEtAl2011/NEURON/mod/x86_64\")\n",
      " -> \u001b[32mNMODL\u001b[0m .././Ca_HVA.mod\n",
      "(cd \"../.\"; MODLUNIT=/home/kedoxey/.conda/envs/OBModel_linux/lib/python3.7/site-packages/neuron/.data/share/nrn/lib/nrnunits.lib /home/kedoxey/.conda/envs/OBModel_linux/lib/python3.7/site-packages/neuron/.data/bin/nocmodl Ca_HVA.mod -o \"/home/kedoxey/CRCNS/PyramidalCellSimulations/L5bPyrCellHayEtAl2011/NEURON/mod/x86_64\")\n",
      " -> \u001b[32mNMODL\u001b[0m .././Ca_LVAst.mod\n",
      "(cd \"../.\"; MODLUNIT=/home/kedoxey/.conda/envs/OBModel_linux/lib/python3.7/site-packages/neuron/.data/share/nrn/lib/nrnunits.lib /home/kedoxey/.conda/envs/OBModel_linux/lib/python3.7/site-packages/neuron/.data/bin/nocmodl Ca_LVAst.mod -o \"/home/kedoxey/CRCNS/PyramidalCellSimulations/L5bPyrCellHayEtAl2011/NEURON/mod/x86_64\")\n",
      " -> \u001b[32mNMODL\u001b[0m .././epsp.mod\n",
      " -> \u001b[32mNMODL\u001b[0m .././Ih.mod\n",
      "(cd \"../.\"; MODLUNIT=/home/kedoxey/.conda/envs/OBModel_linux/lib/python3.7/site-packages/neuron/.data/share/nrn/lib/nrnunits.lib /home/kedoxey/.conda/envs/OBModel_linux/lib/python3.7/site-packages/neuron/.data/bin/nocmodl epsp.mod -o \"/home/kedoxey/CRCNS/PyramidalCellSimulations/L5bPyrCellHayEtAl2011/NEURON/mod/x86_64\")\n",
      "(cd \"../.\"; MODLUNIT=/home/kedoxey/.conda/envs/OBModel_linux/lib/python3.7/site-packages/neuron/.data/share/nrn/lib/nrnunits.lib /home/kedoxey/.conda/envs/OBModel_linux/lib/python3.7/site-packages/neuron/.data/bin/nocmodl Ih.mod -o \"/home/kedoxey/CRCNS/PyramidalCellSimulations/L5bPyrCellHayEtAl2011/NEURON/mod/x86_64\")\n",
      " -> \u001b[32mNMODL\u001b[0m .././Im.mod\n",
      "(cd \"../.\"; MODLUNIT=/home/kedoxey/.conda/envs/OBModel_linux/lib/python3.7/site-packages/neuron/.data/share/nrn/lib/nrnunits.lib /home/kedoxey/.conda/envs/OBModel_linux/lib/python3.7/site-packages/neuron/.data/bin/nocmodl Im.mod -o \"/home/kedoxey/CRCNS/PyramidalCellSimulations/L5bPyrCellHayEtAl2011/NEURON/mod/x86_64\")\n",
      " -> \u001b[32mNMODL\u001b[0m .././K_Pst.mod\n",
      "(cd \"../.\"; MODLUNIT=/home/kedoxey/.conda/envs/OBModel_linux/lib/python3.7/site-packages/neuron/.data/share/nrn/lib/nrnunits.lib /home/kedoxey/.conda/envs/OBModel_linux/lib/python3.7/site-packages/neuron/.data/bin/nocmodl K_Pst.mod -o \"/home/kedoxey/CRCNS/PyramidalCellSimulations/L5bPyrCellHayEtAl2011/NEURON/mod/x86_64\")\n",
      " -> \u001b[32mNMODL\u001b[0m .././K_Tst.mod\n",
      "(cd \"../.\"; MODLUNIT=/home/kedoxey/.conda/envs/OBModel_linux/lib/python3.7/site-packages/neuron/.data/share/nrn/lib/nrnunits.lib /home/kedoxey/.conda/envs/OBModel_linux/lib/python3.7/site-packages/neuron/.data/bin/nocmodl K_Tst.mod -o \"/home/kedoxey/CRCNS/PyramidalCellSimulations/L5bPyrCellHayEtAl2011/NEURON/mod/x86_64\")\n",
      " -> \u001b[32mNMODL\u001b[0m .././Nap_Et2.mod\n",
      "(cd \"../.\"; MODLUNIT=/home/kedoxey/.conda/envs/OBModel_linux/lib/python3.7/site-packages/neuron/.data/share/nrn/lib/nrnunits.lib /home/kedoxey/.conda/envs/OBModel_linux/lib/python3.7/site-packages/neuron/.data/bin/nocmodl Nap_Et2.mod -o \"/home/kedoxey/CRCNS/PyramidalCellSimulations/L5bPyrCellHayEtAl2011/NEURON/mod/x86_64\")\n",
      " -> \u001b[32mNMODL\u001b[0m .././NaTa_t.mod\n",
      "(cd \"../.\"; MODLUNIT=/home/kedoxey/.conda/envs/OBModel_linux/lib/python3.7/site-packages/neuron/.data/share/nrn/lib/nrnunits.lib /home/kedoxey/.conda/envs/OBModel_linux/lib/python3.7/site-packages/neuron/.data/bin/nocmodl NaTa_t.mod -o \"/home/kedoxey/CRCNS/PyramidalCellSimulations/L5bPyrCellHayEtAl2011/NEURON/mod/x86_64\")\n",
      " -> \u001b[32mNMODL\u001b[0m .././NaTs2_t.mod\n",
      "(cd \"../.\"; MODLUNIT=/home/kedoxey/.conda/envs/OBModel_linux/lib/python3.7/site-packages/neuron/.data/share/nrn/lib/nrnunits.lib /home/kedoxey/.conda/envs/OBModel_linux/lib/python3.7/site-packages/neuron/.data/bin/nocmodl NaTs2_t.mod -o \"/home/kedoxey/CRCNS/PyramidalCellSimulations/L5bPyrCellHayEtAl2011/NEURON/mod/x86_64\")\n",
      " -> \u001b[32mNMODL\u001b[0m .././SK_E2.mod\n",
      "(cd \"../.\"; MODLUNIT=/home/kedoxey/.conda/envs/OBModel_linux/lib/python3.7/site-packages/neuron/.data/share/nrn/lib/nrnunits.lib /home/kedoxey/.conda/envs/OBModel_linux/lib/python3.7/site-packages/neuron/.data/bin/nocmodl SK_E2.mod -o \"/home/kedoxey/CRCNS/PyramidalCellSimulations/L5bPyrCellHayEtAl2011/NEURON/mod/x86_64\")\n",
      " -> \u001b[32mNMODL\u001b[0m .././SKv3_1.mod\n",
      "(cd \"../.\"; MODLUNIT=/home/kedoxey/.conda/envs/OBModel_linux/lib/python3.7/site-packages/neuron/.data/share/nrn/lib/nrnunits.lib /home/kedoxey/.conda/envs/OBModel_linux/lib/python3.7/site-packages/neuron/.data/bin/nocmodl SKv3_1.mod -o \"/home/kedoxey/CRCNS/PyramidalCellSimulations/L5bPyrCellHayEtAl2011/NEURON/mod/x86_64\")\n",
      " -> \u001b[32mCompiling\u001b[0m CaDynamics_E2.c\n",
      "gcc -O2   -I\"../.\" -I.   -I/home/kedoxey/.conda/envs/OBModel_linux/lib/python3.7/site-packages/neuron/.data/include  -I/nrnwheel/openmpi/include -fPIC -c CaDynamics_E2.c -o CaDynamics_E2.o\n",
      " -> \u001b[32mCompiling\u001b[0m Ca_HVA.c\n",
      "gcc -O2   -I\"../.\" -I.   -I/home/kedoxey/.conda/envs/OBModel_linux/lib/python3.7/site-packages/neuron/.data/include  -I/nrnwheel/openmpi/include -fPIC -c Ca_HVA.c -o Ca_HVA.o\n",
      " -> \u001b[32mCompiling\u001b[0m Ca_LVAst.c\n",
      "gcc -O2   -I\"../.\" -I.   -I/home/kedoxey/.conda/envs/OBModel_linux/lib/python3.7/site-packages/neuron/.data/include  -I/nrnwheel/openmpi/include -fPIC -c Ca_LVAst.c -o Ca_LVAst.o\n",
      " -> \u001b[32mCompiling\u001b[0m epsp.c\n",
      "gcc -O2   -I\"../.\" -I.   -I/home/kedoxey/.conda/envs/OBModel_linux/lib/python3.7/site-packages/neuron/.data/include  -I/nrnwheel/openmpi/include -fPIC -c epsp.c -o epsp.o\n"
     ]
    },
    {
     "name": "stderr",
     "output_type": "stream",
     "text": [
      "Translating CaDynamics_E2.mod into /home/kedoxey/CRCNS/PyramidalCellSimulations/L5bPyrCellHayEtAl2011/NEURON/mod/x86_64/CaDynamics_E2.c\n",
      "Translating Ca_HVA.mod into /home/kedoxey/CRCNS/PyramidalCellSimulations/L5bPyrCellHayEtAl2011/NEURON/mod/x86_64/Ca_HVA.c\n",
      "Translating Ca_LVAst.mod into /home/kedoxey/CRCNS/PyramidalCellSimulations/L5bPyrCellHayEtAl2011/NEURON/mod/x86_64/Ca_LVAst.c\n",
      "Thread Safe\n",
      "Thread Safe\n",
      "Thread Safe\n",
      "Translating epsp.mod into /home/kedoxey/CRCNS/PyramidalCellSimulations/L5bPyrCellHayEtAl2011/NEURON/mod/x86_64/epsp.c\n",
      "Thread Safe\n",
      "Translating Im.mod into /home/kedoxey/CRCNS/PyramidalCellSimulations/L5bPyrCellHayEtAl2011/NEURON/mod/x86_64/Im.c\n",
      "Translating Ih.mod into /home/kedoxey/CRCNS/PyramidalCellSimulations/L5bPyrCellHayEtAl2011/NEURON/mod/x86_64/Ih.c\n",
      "Thread Safe\n",
      "Thread Safe\n",
      "Translating K_Pst.mod into /home/kedoxey/CRCNS/PyramidalCellSimulations/L5bPyrCellHayEtAl2011/NEURON/mod/x86_64/K_Pst.c\n",
      "Translating K_Tst.mod into /home/kedoxey/CRCNS/PyramidalCellSimulations/L5bPyrCellHayEtAl2011/NEURON/mod/x86_64/K_Tst.c\n",
      "Thread Safe\n",
      "Thread Safe\n",
      "Translating Nap_Et2.mod into /home/kedoxey/CRCNS/PyramidalCellSimulations/L5bPyrCellHayEtAl2011/NEURON/mod/x86_64/Nap_Et2.c\n",
      "Thread Safe\n",
      "Translating NaTa_t.mod into /home/kedoxey/CRCNS/PyramidalCellSimulations/L5bPyrCellHayEtAl2011/NEURON/mod/x86_64/NaTa_t.c\n",
      "Translating NaTs2_t.mod into /home/kedoxey/CRCNS/PyramidalCellSimulations/L5bPyrCellHayEtAl2011/NEURON/mod/x86_64/NaTs2_t.c\n",
      "Thread Safe\n",
      "Thread Safe\n",
      "Translating SK_E2.mod into /home/kedoxey/CRCNS/PyramidalCellSimulations/L5bPyrCellHayEtAl2011/NEURON/mod/x86_64/SK_E2.c\n",
      "Thread Safe\n",
      "Translating SKv3_1.mod into /home/kedoxey/CRCNS/PyramidalCellSimulations/L5bPyrCellHayEtAl2011/NEURON/mod/x86_64/SKv3_1.c\n",
      "Thread Safe\n"
     ]
    },
    {
     "name": "stdout",
     "output_type": "stream",
     "text": [
      " -> \u001b[32mCompiling\u001b[0m Ih.c\n",
      "gcc -O2   -I\"../.\" -I.   -I/home/kedoxey/.conda/envs/OBModel_linux/lib/python3.7/site-packages/neuron/.data/include  -I/nrnwheel/openmpi/include -fPIC -c Ih.c -o Ih.o\n",
      " -> \u001b[32mCompiling\u001b[0m Im.c\n",
      "gcc -O2   -I\"../.\" -I.   -I/home/kedoxey/.conda/envs/OBModel_linux/lib/python3.7/site-packages/neuron/.data/include  -I/nrnwheel/openmpi/include -fPIC -c Im.c -o Im.o\n",
      " -> \u001b[32mCompiling\u001b[0m K_Pst.c\n",
      "gcc -O2   -I\"../.\" -I.   -I/home/kedoxey/.conda/envs/OBModel_linux/lib/python3.7/site-packages/neuron/.data/include  -I/nrnwheel/openmpi/include -fPIC -c K_Pst.c -o K_Pst.o\n",
      " -> \u001b[32mCompiling\u001b[0m K_Tst.c\n",
      "gcc -O2   -I\"../.\" -I.   -I/home/kedoxey/.conda/envs/OBModel_linux/lib/python3.7/site-packages/neuron/.data/include  -I/nrnwheel/openmpi/include -fPIC -c K_Tst.c -o K_Tst.o\n",
      " -> \u001b[32mCompiling\u001b[0m Nap_Et2.c\n",
      "gcc -O2   -I\"../.\" -I.   -I/home/kedoxey/.conda/envs/OBModel_linux/lib/python3.7/site-packages/neuron/.data/include  -I/nrnwheel/openmpi/include -fPIC -c Nap_Et2.c -o Nap_Et2.o\n",
      " -> \u001b[32mCompiling\u001b[0m NaTa_t.c\n",
      "gcc -O2   -I\"../.\" -I.   -I/home/kedoxey/.conda/envs/OBModel_linux/lib/python3.7/site-packages/neuron/.data/include  -I/nrnwheel/openmpi/include -fPIC -c NaTa_t.c -o NaTa_t.o\n",
      " -> \u001b[32mCompiling\u001b[0m NaTs2_t.c\n",
      "gcc -O2   -I\"../.\" -I.   -I/home/kedoxey/.conda/envs/OBModel_linux/lib/python3.7/site-packages/neuron/.data/include  -I/nrnwheel/openmpi/include -fPIC -c NaTs2_t.c -o NaTs2_t.o\n",
      " -> \u001b[32mCompiling\u001b[0m SK_E2.c\n",
      "gcc -O2   -I\"../.\" -I.   -I/home/kedoxey/.conda/envs/OBModel_linux/lib/python3.7/site-packages/neuron/.data/include  -I/nrnwheel/openmpi/include -fPIC -c SK_E2.c -o SK_E2.o\n",
      " -> \u001b[32mCompiling\u001b[0m SKv3_1.c\n",
      "gcc -O2   -I\"../.\" -I.   -I/home/kedoxey/.conda/envs/OBModel_linux/lib/python3.7/site-packages/neuron/.data/include  -I/nrnwheel/openmpi/include -fPIC -c SKv3_1.c -o SKv3_1.o\n",
      " => \u001b[32mLINKING\u001b[0m shared library ./libnrnmech.so\n",
      "g++ -O2 -DVERSION_INFO='7.8.2' -std=c++11 -shared -fPIC  -I /home/kedoxey/.conda/envs/OBModel_linux/lib/python3.7/site-packages/neuron/.data/include -o ./libnrnmech.so -Wl,-soname,libnrnmech.so \\\n",
      "  ./mod_func.o ./CaDynamics_E2.o ./Ca_HVA.o ./Ca_LVAst.o ./epsp.o ./Ih.o ./Im.o ./K_Pst.o ./K_Tst.o ./Nap_Et2.o ./NaTa_t.o ./NaTs2_t.o ./SK_E2.o ./SKv3_1.o  -L/home/kedoxey/.conda/envs/OBModel_linux/lib/python3.7/site-packages/neuron/.data/lib -lnrniv -Wl,-rpath,/home/kedoxey/.conda/envs/OBModel_linux/lib/python3.7/site-packages/neuron/.data/lib   \n",
      "rm -f ./.libs/libnrnmech.so ; mkdir -p ./.libs ; cp ./libnrnmech.so ./.libs/libnrnmech.so\n",
      "Successfully created x86_64/special\n"
     ]
    }
   ],
   "source": [
    "mh.compile_mechs(cwd, mod_dir)"
   ]
  },
  {
   "cell_type": "code",
   "execution_count": 4,
   "metadata": {},
   "outputs": [],
   "source": [
    "hoc_file = os.path.join(models_dir,'L5PCbiophys1.hoc')"
   ]
  },
  {
   "cell_type": "code",
   "execution_count": 7,
   "metadata": {},
   "outputs": [
    {
     "data": {
      "text/plain": [
       "1.0"
      ]
     },
     "execution_count": 7,
     "metadata": {},
     "output_type": "execute_result"
    }
   ],
   "source": [
    "from neuron import h\n",
    "\n",
    "h.load_file(hoc_file)"
   ]
  },
  {
   "cell_type": "code",
   "execution_count": null,
   "metadata": {},
   "outputs": [],
   "source": []
  }
 ],
 "metadata": {
  "kernelspec": {
   "display_name": "Python 3",
   "language": "python",
   "name": "python3"
  },
  "language_info": {
   "codemirror_mode": {
    "name": "ipython",
    "version": 3
   },
   "file_extension": ".py",
   "mimetype": "text/x-python",
   "name": "python",
   "nbconvert_exporter": "python",
   "pygments_lexer": "ipython3",
   "version": "3.9.15"
  }
 },
 "nbformat": 4,
 "nbformat_minor": 4
}
