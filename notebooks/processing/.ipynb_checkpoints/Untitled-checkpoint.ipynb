{
 "cells": [
  {
   "cell_type": "code",
   "execution_count": null,
   "id": "0301c2bd-7b04-421a-8fc1-4f2b65464c56",
   "metadata": {},
   "outputs": [],
   "source": [
    "import pickle\n",
    "import os\n",
    "import matplotlib.pyplot as plt"
   ]
  },
  {
   "cell_type": "code",
   "execution_count": null,
   "id": "ce6d564f-c861-4222-b71e-b093f8b925fb",
   "metadata": {},
   "outputs": [],
   "source": [
    "output_dir = os.path.join(os.getcwd(),'models/NEURON/NMLCL000073-NEURON','output')\n",
    "firing_rates_fname = 'firing_rates.pkl'\n",
    "firing_rates_path = os.path.join(output_dir,firing_rates_fname)\n",
    "\n",
    "with open(firing_rates_path,'rb') as fp:\n",
    "    firing_rates = pickle.load(fp)"
   ]
  },
  {
   "cell_type": "code",
   "execution_count": null,
   "id": "10c34972-1910-4c92-ba71-c5bed532127c",
   "metadata": {},
   "outputs": [],
   "source": [
    "# TODO: create dictionary of colors for each syns_type with a colormap\n",
    "\n",
    "for syns_type, syns_sim in firing_rates.items():\n",
    "    \n",
    "    fig, axs = plt.subplots(1,1, figsize=(8,5))\n",
    "    \n",
    "    for num_syns, firing_rate in syns_sim.items():\n",
    "        axs.plot(num_syns, firing_rate, 'o', color=colors[syns_type])\n",
    "        \n",
    "    axs.set_xtitle('Number of Synapses')\n",
    "    axs.set_ytitle('Firing Rate')\n",
    "    axs.set_title(f'{syns_type} Firing Rates vs Synaptic Input Level')\n",
    "    fig.tight_layout()\n",
    "        "
   ]
  }
 ],
 "metadata": {
  "kernelspec": {
   "display_name": "Python 3",
   "language": "python",
   "name": "python3"
  },
  "language_info": {
   "codemirror_mode": {
    "name": "ipython",
    "version": 3
   },
   "file_extension": ".py",
   "mimetype": "text/x-python",
   "name": "python",
   "nbconvert_exporter": "python",
   "pygments_lexer": "ipython3",
   "version": "3.9.15"
  }
 },
 "nbformat": 4,
 "nbformat_minor": 5
}
