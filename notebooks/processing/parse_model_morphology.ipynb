{
 "cells": [
  {
   "cell_type": "code",
   "execution_count": 1,
   "metadata": {},
   "outputs": [],
   "source": [
    "import os\n",
    "from utils import *\n",
    "from os.path import join\n",
    "from pprint import pprint\n",
    "\n",
    "import numpy as np\n",
    "from scipy.stats import circmean\n",
    "from math import radians\n",
    "\n",
    "import requests\n",
    "import xml.etree.ElementTree as ET"
   ]
  },
  {
   "cell_type": "code",
   "execution_count": 4,
   "metadata": {},
   "outputs": [],
   "source": [
    "spacing = 10\n",
    "\n",
    "# NOTE: can set bounds to np.inf if desired\n",
    "# NOTE: Works for cylindrical bounds\n",
    "\n",
    "# bound in Y\n",
    "if spacing == 10:\n",
    "    y_lb, y_ub = -155, 155\n",
    "elif spacing == 20:\n",
    "    y_lb, y_ub = -310,310\n",
    "else:\n",
    "    pass\n",
    "    \n",
    "\n",
    "# bound in XZ-plane\n",
    "rad_ub = 100"
   ]
  },
  {
   "cell_type": "code",
   "execution_count": 3,
   "metadata": {},
   "outputs": [],
   "source": [
    "def get_model(nmldb_id,save=False,path_to_save=None):\n",
    "    '''\n",
    "        NeuroML-DB API query for model\n",
    "        TODO: Check if file is store already somewhere and load that instead of calling API.\n",
    "        ----\n",
    "        PARAMETER:\n",
    "            - nmldb_id : (str) Contains NML ID\n",
    "            - save : (bool)\n",
    "            - path_to_save : (str)\n",
    "        OUTPUT:\n",
    "            - mldb_model_response : (str) Contains all model specifications\n",
    "    '''\n",
    "\n",
    "\n",
    "    nmldb_xml_url = 'https://neuroml-db.org/render_xml_file?modelID='\n",
    "\n",
    "    model_xml_url = nmldb_xml_url + nmldb_id\n",
    "\n",
    "    xml_name = nmldb_id+'.xml'\n",
    "\n",
    "    filename = join(path_to_save,xml_name)\n",
    "    \n",
    "    model_xml_response = requests.get(model_xml_url)\n",
    "\n",
    "    # If file exists, load and return\n",
    "    if os.path.isfile(filename):\n",
    "           \n",
    "        \n",
    "        print('Returning model file as string')\n",
    "        return model_xml_response.text\n",
    "    \n",
    "    else:\n",
    "        # save file\n",
    "        if save:\n",
    "\n",
    "            if path_to_save:\n",
    "                filename = join(path_to_save,xml_name)\n",
    "            else:\n",
    "                filename = xml_name\n",
    "\n",
    "            with open(filename, 'wb') as file:\n",
    "                file.write(model_xml_response.content)\n",
    "        \n",
    "\n",
    "\n",
    "   \n",
    "   \n"
   ]
  },
  {
   "cell_type": "code",
   "execution_count": 4,
   "metadata": {},
   "outputs": [],
   "source": [
    "cwd = os.getcwd()\n",
    "path_to_save = cwd"
   ]
  },
  {
   "cell_type": "code",
   "execution_count": 5,
   "metadata": {},
   "outputs": [],
   "source": [
    "# NMLDB_ID = 'NMLCL000687'\n",
    "NMLDB_ID = 'NMLCL000073'"
   ]
  },
  {
   "cell_type": "code",
   "execution_count": 3,
   "metadata": {},
   "outputs": [
    {
     "ename": "NameError",
     "evalue": "name 'NMLDB_ID' is not defined",
     "output_type": "error",
     "traceback": [
      "\u001b[0;31m---------------------------------------------------------------------------\u001b[0m",
      "\u001b[0;31mNameError\u001b[0m                                 Traceback (most recent call last)",
      "Cell \u001b[0;32mIn[3], line 1\u001b[0m\n\u001b[0;32m----> 1\u001b[0m neuron_model \u001b[38;5;241m=\u001b[39m get_model(\u001b[43mNMLDB_ID\u001b[49m,save\u001b[38;5;241m=\u001b[39m\u001b[38;5;28;01mTrue\u001b[39;00m,path_to_save\u001b[38;5;241m=\u001b[39mpath_to_save)\n",
      "\u001b[0;31mNameError\u001b[0m: name 'NMLDB_ID' is not defined"
     ]
    }
   ],
   "source": [
    "neuron_model = get_model(NMLDB_ID,save=True,path_to_save=path_to_save)"
   ]
  },
  {
   "cell_type": "code",
   "execution_count": 7,
   "metadata": {},
   "outputs": [
    {
     "data": {
      "text/plain": [
       "str"
      ]
     },
     "execution_count": 7,
     "metadata": {},
     "output_type": "execute_result"
    }
   ],
   "source": [
    "type(neuron_model)"
   ]
  },
  {
   "cell_type": "code",
   "execution_count": 8,
   "metadata": {},
   "outputs": [],
   "source": [
    "# parse neuron_model file\n",
    "model_file = join(path_to_save,NMLDB_ID+'.xml')\n",
    "model_tree = ET.parse(model_file)"
   ]
  },
  {
   "cell_type": "code",
   "execution_count": 9,
   "metadata": {},
   "outputs": [],
   "source": [
    "root = model_tree.getroot()"
   ]
  },
  {
   "cell_type": "code",
   "execution_count": 10,
   "metadata": {},
   "outputs": [
    {
     "data": {
      "text/plain": [
       "('{http://www.neuroml.org/schema/neuroml2}neuroml',\n",
       " {'{http://www.w3.org/2001/XMLSchema-instance}schemaLocation': 'http://www.neuroml.org/schema/neuroml2  https://raw.githubusercontent.com/NeuroML/NeuroML2/development/Schemas/NeuroML2/NeuroML_v2beta4.xsd',\n",
       "  'id': 'L5PC'})"
      ]
     },
     "execution_count": 10,
     "metadata": {},
     "output_type": "execute_result"
    }
   ],
   "source": [
    "root.tag, root.attrib"
   ]
  },
  {
   "cell_type": "code",
   "execution_count": 11,
   "metadata": {},
   "outputs": [
    {
     "name": "stdout",
     "output_type": "stream",
     "text": [
      "{http://www.neuroml.org/schema/neuroml2}include {'href': 'Ca_HVA.channel.nml'}\n",
      "{http://www.neuroml.org/schema/neuroml2}include {'href': 'Ca_LVAst.channel.nml'}\n",
      "{http://www.neuroml.org/schema/neuroml2}include {'href': 'CaDynamics_E2_NML2__decay122__gamma5_09Emin4.nml'}\n",
      "{http://www.neuroml.org/schema/neuroml2}include {'href': 'CaDynamics_E2_NML2__decay460__gamma5_01Emin4.nml'}\n",
      "{http://www.neuroml.org/schema/neuroml2}include {'href': 'Ih.channel.nml'}\n",
      "{http://www.neuroml.org/schema/neuroml2}include {'href': 'Im.channel.nml'}\n",
      "{http://www.neuroml.org/schema/neuroml2}include {'href': 'K_Pst.channel.nml'}\n",
      "{http://www.neuroml.org/schema/neuroml2}include {'href': 'K_Tst.channel.nml'}\n",
      "{http://www.neuroml.org/schema/neuroml2}include {'href': 'Nap_Et2.channel.nml'}\n",
      "{http://www.neuroml.org/schema/neuroml2}include {'href': 'NaTa_t.channel.nml'}\n",
      "{http://www.neuroml.org/schema/neuroml2}include {'href': 'pas.channel.nml'}\n",
      "{http://www.neuroml.org/schema/neuroml2}include {'href': 'SK_E2.channel.nml'}\n",
      "{http://www.neuroml.org/schema/neuroml2}include {'href': 'SKv3_1.channel.nml'}\n",
      "{http://www.neuroml.org/schema/neuroml2}cell {'id': 'L5PC'}\n"
     ]
    }
   ],
   "source": [
    "for child in root:\n",
    "    print(child.tag, child.attrib)"
   ]
  },
  {
   "cell_type": "code",
   "execution_count": 12,
   "metadata": {},
   "outputs": [],
   "source": [
    "# or directly from neuron_model string\n",
    "root = ET.fromstring(neuron_model)"
   ]
  },
  {
   "cell_type": "code",
   "execution_count": 13,
   "metadata": {},
   "outputs": [
    {
     "data": {
      "text/plain": [
       "('{http://www.neuroml.org/schema/neuroml2}neuroml',\n",
       " {'{http://www.w3.org/2001/XMLSchema-instance}schemaLocation': 'http://www.neuroml.org/schema/neuroml2  https://raw.githubusercontent.com/NeuroML/NeuroML2/development/Schemas/NeuroML2/NeuroML_v2beta4.xsd',\n",
       "  'id': 'L5PC'})"
      ]
     },
     "execution_count": 13,
     "metadata": {},
     "output_type": "execute_result"
    }
   ],
   "source": [
    "root.tag, root.attrib"
   ]
  },
  {
   "cell_type": "code",
   "execution_count": 14,
   "metadata": {},
   "outputs": [
    {
     "name": "stdout",
     "output_type": "stream",
     "text": [
      "{http://www.neuroml.org/schema/neuroml2}include {'href': 'Ca_HVA.channel.nml'}\n",
      "{http://www.neuroml.org/schema/neuroml2}include {'href': 'Ca_LVAst.channel.nml'}\n",
      "{http://www.neuroml.org/schema/neuroml2}include {'href': 'CaDynamics_E2_NML2__decay122__gamma5_09Emin4.nml'}\n",
      "{http://www.neuroml.org/schema/neuroml2}include {'href': 'CaDynamics_E2_NML2__decay460__gamma5_01Emin4.nml'}\n",
      "{http://www.neuroml.org/schema/neuroml2}include {'href': 'Ih.channel.nml'}\n",
      "{http://www.neuroml.org/schema/neuroml2}include {'href': 'Im.channel.nml'}\n",
      "{http://www.neuroml.org/schema/neuroml2}include {'href': 'K_Pst.channel.nml'}\n",
      "{http://www.neuroml.org/schema/neuroml2}include {'href': 'K_Tst.channel.nml'}\n",
      "{http://www.neuroml.org/schema/neuroml2}include {'href': 'Nap_Et2.channel.nml'}\n",
      "{http://www.neuroml.org/schema/neuroml2}include {'href': 'NaTa_t.channel.nml'}\n",
      "{http://www.neuroml.org/schema/neuroml2}include {'href': 'pas.channel.nml'}\n",
      "{http://www.neuroml.org/schema/neuroml2}include {'href': 'SK_E2.channel.nml'}\n",
      "{http://www.neuroml.org/schema/neuroml2}include {'href': 'SKv3_1.channel.nml'}\n",
      "{http://www.neuroml.org/schema/neuroml2}cell {'id': 'L5PC'}\n"
     ]
    }
   ],
   "source": [
    "for child in root:\n",
    "    print(child.tag, child.attrib)"
   ]
  },
  {
   "cell_type": "markdown",
   "metadata": {},
   "source": [
    "# look at cell stuff"
   ]
  },
  {
   "cell_type": "code",
   "execution_count": 15,
   "metadata": {},
   "outputs": [],
   "source": [
    "cell = root[-1]"
   ]
  },
  {
   "cell_type": "code",
   "execution_count": 16,
   "metadata": {},
   "outputs": [
    {
     "name": "stdout",
     "output_type": "stream",
     "text": [
      "{http://www.neuroml.org/schema/neuroml2}notes {}\n",
      "{http://www.neuroml.org/schema/neuroml2}morphology {'id': 'morphology_L5PC'}\n",
      "{http://www.neuroml.org/schema/neuroml2}biophysicalProperties {'id': 'biophys'}\n"
     ]
    }
   ],
   "source": [
    "for child in cell:\n",
    "    print(child.tag, child.attrib)"
   ]
  },
  {
   "cell_type": "markdown",
   "metadata": {},
   "source": [
    "# look at morphology stuff"
   ]
  },
  {
   "cell_type": "code",
   "execution_count": 17,
   "metadata": {},
   "outputs": [],
   "source": [
    "morpho = cell[1]"
   ]
  },
  {
   "cell_type": "code",
   "execution_count": 18,
   "metadata": {},
   "outputs": [
    {
     "data": {
      "text/plain": [
       "<Element '{http://www.neuroml.org/schema/neuroml2}morphology' at 0x7fbaeecee400>"
      ]
     },
     "execution_count": 18,
     "metadata": {},
     "output_type": "execute_result"
    }
   ],
   "source": [
    "morpho"
   ]
  },
  {
   "cell_type": "code",
   "execution_count": 19,
   "metadata": {},
   "outputs": [
    {
     "name": "stdout",
     "output_type": "stream",
     "text": [
      "{'id': 'OneSecGrp_SectionRef_196'}\n"
     ]
    }
   ],
   "source": [
    "for i, child in enumerate(morpho):\n",
    "     if i == len(morpho)-1:\n",
    "        print(child.attrib)"
   ]
  },
  {
   "cell_type": "code",
   "execution_count": 20,
   "metadata": {},
   "outputs": [],
   "source": [
    "segmentGroups = {}\n",
    "for i, group in enumerate(morpho.findall('{http://www.neuroml.org/schema/neuroml2}segmentGroup')):\n",
    "    \n",
    "    segmentGroups.update({i:group})\n",
    "    "
   ]
  },
  {
   "cell_type": "code",
   "execution_count": 21,
   "metadata": {},
   "outputs": [
    {
     "data": {
      "text/plain": [
       "{'id': 'dend_0', 'neuroLexId': 'sao864921383'}"
      ]
     },
     "execution_count": 21,
     "metadata": {},
     "output_type": "execute_result"
    }
   ],
   "source": [
    "segmentGroups[10].attrib"
   ]
  },
  {
   "cell_type": "code",
   "execution_count": 22,
   "metadata": {},
   "outputs": [],
   "source": [
    "comp_domains = {}\n",
    "for key, val in segmentGroups.items():\n",
    "    # if val.attrib['id'] in ['somatic','basal','axonal','apical']:\n",
    "    # if any(ext in url_string for ext in extensionsToCheck):\n",
    "    if any(seg in val.attrib['id'] for seg in ['soma', 'axon', 'apic', 'dend']):\n",
    "        \n",
    "        comp_domains.update({val.attrib['id']:val})\n"
   ]
  },
  {
   "cell_type": "markdown",
   "metadata": {},
   "source": [
    "# Find all somatic compartments"
   ]
  },
  {
   "cell_type": "code",
   "execution_count": 23,
   "metadata": {},
   "outputs": [
    {
     "data": {
      "text/plain": [
       "<Element '{http://www.neuroml.org/schema/neuroml2}segmentGroup' at 0x7fbaee3f1d60>"
      ]
     },
     "execution_count": 23,
     "metadata": {},
     "output_type": "execute_result"
    }
   ],
   "source": [
    "comp_domains['soma_0']"
   ]
  },
  {
   "cell_type": "code",
   "execution_count": 24,
   "metadata": {},
   "outputs": [
    {
     "name": "stdout",
     "output_type": "stream",
     "text": [
      "{http://www.neuroml.org/schema/neuroml2}member {'segment': '0'}\n",
      "{http://www.neuroml.org/schema/neuroml2}member {'segment': '2'}\n",
      "{http://www.neuroml.org/schema/neuroml2}member {'segment': '3'}\n",
      "{http://www.neuroml.org/schema/neuroml2}member {'segment': '4'}\n",
      "{http://www.neuroml.org/schema/neuroml2}member {'segment': '5'}\n",
      "{http://www.neuroml.org/schema/neuroml2}member {'segment': '6'}\n",
      "{http://www.neuroml.org/schema/neuroml2}member {'segment': '7'}\n",
      "{http://www.neuroml.org/schema/neuroml2}member {'segment': '8'}\n",
      "{http://www.neuroml.org/schema/neuroml2}member {'segment': '9'}\n",
      "{http://www.neuroml.org/schema/neuroml2}member {'segment': '10'}\n",
      "{http://www.neuroml.org/schema/neuroml2}member {'segment': '11'}\n",
      "{http://www.neuroml.org/schema/neuroml2}member {'segment': '12'}\n",
      "{http://www.neuroml.org/schema/neuroml2}member {'segment': '13'}\n",
      "{http://www.neuroml.org/schema/neuroml2}member {'segment': '14'}\n",
      "{http://www.neuroml.org/schema/neuroml2}member {'segment': '15'}\n",
      "{http://www.neuroml.org/schema/neuroml2}member {'segment': '16'}\n",
      "{http://www.neuroml.org/schema/neuroml2}member {'segment': '17'}\n",
      "{http://www.neuroml.org/schema/neuroml2}member {'segment': '18'}\n",
      "{http://www.neuroml.org/schema/neuroml2}member {'segment': '19'}\n",
      "{http://www.neuroml.org/schema/neuroml2}member {'segment': '20'}\n"
     ]
    }
   ],
   "source": [
    "for child in comp_domains['soma_0']:\n",
    "    print(child.tag,child.attrib)"
   ]
  },
  {
   "cell_type": "code",
   "execution_count": 25,
   "metadata": {},
   "outputs": [
    {
     "data": {
      "text/plain": [
       "'0'"
      ]
     },
     "execution_count": 25,
     "metadata": {},
     "output_type": "execute_result"
    }
   ],
   "source": [
    "soma_group = comp_domains['soma_0'][0].attrib['segment']\n",
    "soma_group"
   ]
  },
  {
   "cell_type": "code",
   "execution_count": 26,
   "metadata": {},
   "outputs": [],
   "source": [
    "soma_segments = {}\n",
    "for segment in morpho.findall('{http://www.neuroml.org/schema/neuroml2}segment'):\n",
    "    if soma_group in segment.attrib['name']:\n",
    "        soma_segments.update({segment.attrib['id']:segment.attrib['name']})"
   ]
  },
  {
   "cell_type": "code",
   "execution_count": 27,
   "metadata": {},
   "outputs": [
    {
     "data": {
      "text/plain": [
       "{'0': 'Seg0_soma_0',\n",
       " '2': 'Seg1_soma_0',\n",
       " '3': 'Seg2_soma_0',\n",
       " '4': 'Seg3_soma_0',\n",
       " '5': 'Seg4_soma_0',\n",
       " '6': 'Seg5_soma_0',\n",
       " '7': 'Seg6_soma_0',\n",
       " '8': 'Seg7_soma_0',\n",
       " '9': 'Seg8_soma_0',\n",
       " '10': 'Seg9_soma_0',\n",
       " '11': 'Seg10_soma_0',\n",
       " '12': 'Seg11_soma_0',\n",
       " '13': 'Seg12_soma_0',\n",
       " '14': 'Seg13_soma_0',\n",
       " '15': 'Seg14_soma_0',\n",
       " '16': 'Seg15_soma_0',\n",
       " '17': 'Seg16_soma_0',\n",
       " '18': 'Seg17_soma_0',\n",
       " '19': 'Seg18_soma_0',\n",
       " '20': 'Seg19_soma_0',\n",
       " '4067': 'Seg0_axon_0',\n",
       " '4068': 'Seg1_axon_0',\n",
       " '1660': 'Seg0_apic_0',\n",
       " '1662': 'Seg2_apic_0',\n",
       " '1663': 'Seg3_apic_0',\n",
       " '1664': 'Seg4_apic_0',\n",
       " '1665': 'Seg5_apic_0',\n",
       " '1666': 'Seg6_apic_0',\n",
       " '1667': 'Seg7_apic_0',\n",
       " '1668': 'Seg8_apic_0',\n",
       " '1669': 'Seg9_apic_0',\n",
       " '1670': 'Seg10_apic_0',\n",
       " '1671': 'Seg11_apic_0',\n",
       " '1594': 'Seg0_dend_79',\n",
       " '1585': 'Seg0_dend_78',\n",
       " '1260': 'Seg0_dend_63',\n",
       " '827': 'Seg0_dend_42',\n",
       " '749': 'Seg0_dend_39',\n",
       " '759': 'Seg10_dend_39',\n",
       " '769': 'Seg20_dend_39',\n",
       " '779': 'Seg30_dend_39',\n",
       " '353': 'Seg0_dend_16',\n",
       " '206': 'Seg0_dend_7',\n",
       " '21': 'Seg0_dend_0',\n",
       " '22': 'Seg1_dend_0',\n",
       " '23': 'Seg2_dend_0',\n",
       " '24': 'Seg3_dend_0',\n",
       " '25': 'Seg4_dend_0',\n",
       " '26': 'Seg5_dend_0',\n",
       " '27': 'Seg6_dend_0',\n",
       " '4069': 'Seg0_axon_1',\n",
       " '4004': 'Seg0_apic_104',\n",
       " '4005': 'Seg1_apic_104',\n",
       " '4006': 'Seg2_apic_104',\n",
       " '4007': 'Seg3_apic_104',\n",
       " '4008': 'Seg4_apic_104',\n",
       " '4009': 'Seg5_apic_104',\n",
       " '4010': 'Seg6_apic_104',\n",
       " '4011': 'Seg7_apic_104',\n",
       " '1672': 'Seg0_apic_1',\n",
       " '1682': 'Seg10_apic_1',\n",
       " '1617': 'Seg0_dend_81',\n",
       " '1599': 'Seg0_dend_80',\n",
       " '1600': 'Seg1_dend_80',\n",
       " '1601': 'Seg2_dend_80',\n",
       " '1602': 'Seg3_dend_80',\n",
       " '1603': 'Seg4_dend_80',\n",
       " '1604': 'Seg5_dend_80',\n",
       " '1605': 'Seg6_dend_80',\n",
       " '1606': 'Seg7_dend_80',\n",
       " '1607': 'Seg8_dend_80',\n",
       " '1608': 'Seg9_dend_80',\n",
       " '1609': 'Seg10_dend_80',\n",
       " '1610': 'Seg11_dend_80',\n",
       " '1611': 'Seg12_dend_80',\n",
       " '1612': 'Seg13_dend_80',\n",
       " '1613': 'Seg14_dend_80',\n",
       " '1614': 'Seg15_dend_80',\n",
       " '1615': 'Seg16_dend_80',\n",
       " '1616': 'Seg17_dend_80',\n",
       " '1455': 'Seg0_dend_71',\n",
       " '1266': 'Seg0_dend_64',\n",
       " '938': 'Seg0_dend_46',\n",
       " '831': 'Seg0_dend_43',\n",
       " '812': 'Seg0_dend_41',\n",
       " '822': 'Seg10_dend_41',\n",
       " '780': 'Seg0_dend_40',\n",
       " '781': 'Seg1_dend_40',\n",
       " '782': 'Seg2_dend_40',\n",
       " '783': 'Seg3_dend_40',\n",
       " '784': 'Seg4_dend_40',\n",
       " '785': 'Seg5_dend_40',\n",
       " '786': 'Seg6_dend_40',\n",
       " '787': 'Seg7_dend_40',\n",
       " '788': 'Seg8_dend_40',\n",
       " '789': 'Seg9_dend_40',\n",
       " '790': 'Seg10_dend_40',\n",
       " '791': 'Seg11_dend_40',\n",
       " '792': 'Seg12_dend_40',\n",
       " '793': 'Seg13_dend_40',\n",
       " '794': 'Seg14_dend_40',\n",
       " '795': 'Seg15_dend_40',\n",
       " '796': 'Seg16_dend_40',\n",
       " '797': 'Seg17_dend_40',\n",
       " '798': 'Seg18_dend_40',\n",
       " '799': 'Seg19_dend_40',\n",
       " '800': 'Seg20_dend_40',\n",
       " '801': 'Seg21_dend_40',\n",
       " '802': 'Seg22_dend_40',\n",
       " '803': 'Seg23_dend_40',\n",
       " '804': 'Seg24_dend_40',\n",
       " '805': 'Seg25_dend_40',\n",
       " '806': 'Seg26_dend_40',\n",
       " '807': 'Seg27_dend_40',\n",
       " '808': 'Seg28_dend_40',\n",
       " '809': 'Seg29_dend_40',\n",
       " '810': 'Seg30_dend_40',\n",
       " '811': 'Seg31_dend_40',\n",
       " '637': 'Seg0_dend_34',\n",
       " '356': 'Seg0_dend_17',\n",
       " '242': 'Seg0_dend_11',\n",
       " '214': 'Seg0_dend_8',\n",
       " '165': 'Seg0_dend_6',\n",
       " '175': 'Seg10_dend_6',\n",
       " '185': 'Seg20_dend_6',\n",
       " '195': 'Seg30_dend_6',\n",
       " '205': 'Seg40_dend_6',\n",
       " '28': 'Seg0_dend_1',\n",
       " '4042': 'Seg0_apic_106',\n",
       " '4043': 'Seg1_apic_106',\n",
       " '4044': 'Seg2_apic_106',\n",
       " '4045': 'Seg3_apic_106',\n",
       " '4046': 'Seg4_apic_106',\n",
       " '4047': 'Seg5_apic_106',\n",
       " '4048': 'Seg6_apic_106',\n",
       " '4012': 'Seg0_apic_105',\n",
       " '4013': 'Seg1_apic_105',\n",
       " '4014': 'Seg2_apic_105',\n",
       " '4015': 'Seg3_apic_105',\n",
       " '4016': 'Seg4_apic_105',\n",
       " '4017': 'Seg5_apic_105',\n",
       " '4018': 'Seg6_apic_105',\n",
       " '4019': 'Seg7_apic_105',\n",
       " '4020': 'Seg8_apic_105',\n",
       " '4021': 'Seg9_apic_105',\n",
       " '4022': 'Seg10_apic_105',\n",
       " '4023': 'Seg11_apic_105',\n",
       " '4024': 'Seg12_apic_105',\n",
       " '4025': 'Seg13_apic_105',\n",
       " '4026': 'Seg14_apic_105',\n",
       " '4027': 'Seg15_apic_105',\n",
       " '4028': 'Seg16_apic_105',\n",
       " '4029': 'Seg17_apic_105',\n",
       " '4030': 'Seg18_apic_105',\n",
       " '4031': 'Seg19_apic_105',\n",
       " '4032': 'Seg20_apic_105',\n",
       " '4033': 'Seg21_apic_105',\n",
       " '4034': 'Seg22_apic_105',\n",
       " '4035': 'Seg23_apic_105',\n",
       " '4036': 'Seg24_apic_105',\n",
       " '4037': 'Seg25_apic_105',\n",
       " '4038': 'Seg26_apic_105',\n",
       " '4039': 'Seg27_apic_105',\n",
       " '4040': 'Seg28_apic_105',\n",
       " '4041': 'Seg29_apic_105',\n",
       " '3847': 'Seg0_apic_99',\n",
       " '1686': 'Seg0_apic_2',\n",
       " '1655': 'Seg0_dend_83',\n",
       " '1623': 'Seg0_dend_82',\n",
       " '1633': 'Seg10_dend_82',\n",
       " '1643': 'Seg20_dend_82',\n",
       " '1653': 'Seg30_dend_82',\n",
       " '1517': 'Seg0_dend_73',\n",
       " '1458': 'Seg0_dend_72',\n",
       " '1468': 'Seg10_dend_72',\n",
       " '1478': 'Seg20_dend_72',\n",
       " '1488': 'Seg30_dend_72',\n",
       " '1498': 'Seg40_dend_72',\n",
       " '1508': 'Seg50_dend_72',\n",
       " '1357': 'Seg0_dend_68',\n",
       " '1367': 'Seg10_dend_68',\n",
       " '1273': 'Seg0_dend_65',\n",
       " '995': 'Seg0_dend_52',\n",
       " '942': 'Seg0_dend_47',\n",
       " '880': 'Seg0_dend_45',\n",
       " '890': 'Seg10_dend_45',\n",
       " '900': 'Seg20_dend_45',\n",
       " '910': 'Seg30_dend_45',\n",
       " '920': 'Seg40_dend_45',\n",
       " '930': 'Seg50_dend_45',\n",
       " '841': 'Seg0_dend_44',\n",
       " '851': 'Seg10_dend_44',\n",
       " '861': 'Seg20_dend_44',\n",
       " '871': 'Seg30_dend_44',\n",
       " '690': 'Seg0_dend_36',\n",
       " '700': 'Seg10_dend_36',\n",
       " '643': 'Seg0_dend_35',\n",
       " '653': 'Seg10_dend_35',\n",
       " '663': 'Seg20_dend_35',\n",
       " '673': 'Seg30_dend_35',\n",
       " '683': 'Seg40_dend_35',\n",
       " '419': 'Seg0_dend_25',\n",
       " '359': 'Seg0_dend_18',\n",
       " '369': 'Seg10_dend_18',\n",
       " '341': 'Seg0_dend_15',\n",
       " '351': 'Seg10_dend_15',\n",
       " '244': 'Seg0_dend_12',\n",
       " '222': 'Seg0_dend_10',\n",
       " '223': 'Seg1_dend_10',\n",
       " '224': 'Seg2_dend_10',\n",
       " '225': 'Seg3_dend_10',\n",
       " '226': 'Seg4_dend_10',\n",
       " '227': 'Seg5_dend_10',\n",
       " '228': 'Seg6_dend_10',\n",
       " '229': 'Seg7_dend_10',\n",
       " '230': 'Seg8_dend_10',\n",
       " '231': 'Seg9_dend_10',\n",
       " '232': 'Seg10_dend_10',\n",
       " '233': 'Seg11_dend_10',\n",
       " '234': 'Seg12_dend_10',\n",
       " '235': 'Seg13_dend_10',\n",
       " '236': 'Seg14_dend_10',\n",
       " '237': 'Seg15_dend_10',\n",
       " '238': 'Seg16_dend_10',\n",
       " '239': 'Seg17_dend_10',\n",
       " '240': 'Seg18_dend_10',\n",
       " '241': 'Seg19_dend_10',\n",
       " '218': 'Seg0_dend_9',\n",
       " '80': 'Seg0_dend_3',\n",
       " '33': 'Seg0_dend_2',\n",
       " '43': 'Seg10_dend_2',\n",
       " '53': 'Seg20_dend_2',\n",
       " '63': 'Seg30_dend_2',\n",
       " '73': 'Seg40_dend_2',\n",
       " '4058': 'Seg0_apic_108',\n",
       " '4059': 'Seg1_apic_108',\n",
       " '4060': 'Seg2_apic_108',\n",
       " '4061': 'Seg3_apic_108',\n",
       " '4062': 'Seg4_apic_108',\n",
       " '4063': 'Seg5_apic_108',\n",
       " '4064': 'Seg6_apic_108',\n",
       " '4065': 'Seg7_apic_108',\n",
       " '4066': 'Seg8_apic_108',\n",
       " '4049': 'Seg0_apic_107',\n",
       " '4050': 'Seg1_apic_107',\n",
       " '4051': 'Seg2_apic_107',\n",
       " '4052': 'Seg3_apic_107',\n",
       " '4053': 'Seg4_apic_107',\n",
       " '4054': 'Seg5_apic_107',\n",
       " '4055': 'Seg6_apic_107',\n",
       " '4056': 'Seg7_apic_107',\n",
       " '4057': 'Seg8_apic_107',\n",
       " '3981': 'Seg0_apic_103',\n",
       " '3982': 'Seg1_apic_103',\n",
       " '3983': 'Seg2_apic_103',\n",
       " '3984': 'Seg3_apic_103',\n",
       " '3985': 'Seg4_apic_103',\n",
       " '3986': 'Seg5_apic_103',\n",
       " '3987': 'Seg6_apic_103',\n",
       " '3988': 'Seg7_apic_103',\n",
       " '3989': 'Seg8_apic_103',\n",
       " '3990': 'Seg9_apic_103',\n",
       " '3991': 'Seg10_apic_103',\n",
       " '3992': 'Seg11_apic_103',\n",
       " '3993': 'Seg12_apic_103',\n",
       " '3994': 'Seg13_apic_103',\n",
       " '3995': 'Seg14_apic_103',\n",
       " '3996': 'Seg15_apic_103',\n",
       " '3997': 'Seg16_apic_103',\n",
       " '3998': 'Seg17_apic_103',\n",
       " '3999': 'Seg18_apic_103',\n",
       " '4000': 'Seg19_apic_103',\n",
       " '4001': 'Seg20_apic_103',\n",
       " '4002': 'Seg21_apic_103',\n",
       " '4003': 'Seg22_apic_103',\n",
       " '3857': 'Seg0_apic_100',\n",
       " '3858': 'Seg1_apic_100',\n",
       " '3568': 'Seg0_apic_80',\n",
       " '3569': 'Seg1_apic_80',\n",
       " '3570': 'Seg2_apic_80',\n",
       " '3571': 'Seg3_apic_80',\n",
       " '3572': 'Seg4_apic_80',\n",
       " '1693': 'Seg0_apic_3',\n",
       " '1550': 'Seg0_dend_75',\n",
       " '1520': 'Seg0_dend_74',\n",
       " '1530': 'Seg10_dend_74',\n",
       " '1540': 'Seg20_dend_74',\n",
       " '1399': 'Seg0_dend_70',\n",
       " '1400': 'Seg1_dend_70',\n",
       " '1401': 'Seg2_dend_70',\n",
       " '1402': 'Seg3_dend_70',\n",
       " '1403': 'Seg4_dend_70',\n",
       " '1404': 'Seg5_dend_70',\n",
       " '1405': 'Seg6_dend_70',\n",
       " '1406': 'Seg7_dend_70',\n",
       " '1407': 'Seg8_dend_70',\n",
       " '1408': 'Seg9_dend_70',\n",
       " '1409': 'Seg10_dend_70',\n",
       " '1410': 'Seg11_dend_70',\n",
       " '1411': 'Seg12_dend_70',\n",
       " '1412': 'Seg13_dend_70',\n",
       " '1413': 'Seg14_dend_70',\n",
       " '1414': 'Seg15_dend_70',\n",
       " '1415': 'Seg16_dend_70',\n",
       " '1416': 'Seg17_dend_70',\n",
       " '1417': 'Seg18_dend_70',\n",
       " '1418': 'Seg19_dend_70',\n",
       " '1419': 'Seg20_dend_70',\n",
       " '1420': 'Seg21_dend_70',\n",
       " '1421': 'Seg22_dend_70',\n",
       " '1422': 'Seg23_dend_70',\n",
       " '1423': 'Seg24_dend_70',\n",
       " '1424': 'Seg25_dend_70',\n",
       " '1425': 'Seg26_dend_70',\n",
       " '1426': 'Seg27_dend_70',\n",
       " '1427': 'Seg28_dend_70',\n",
       " '1428': 'Seg29_dend_70',\n",
       " '1429': 'Seg30_dend_70',\n",
       " '1430': 'Seg31_dend_70',\n",
       " '1431': 'Seg32_dend_70',\n",
       " '1432': 'Seg33_dend_70',\n",
       " '1433': 'Seg34_dend_70',\n",
       " '1434': 'Seg35_dend_70',\n",
       " '1435': 'Seg36_dend_70',\n",
       " '1436': 'Seg37_dend_70',\n",
       " '1437': 'Seg38_dend_70',\n",
       " '1438': 'Seg39_dend_70',\n",
       " '1439': 'Seg40_dend_70',\n",
       " '1440': 'Seg41_dend_70',\n",
       " '1441': 'Seg42_dend_70',\n",
       " '1442': 'Seg43_dend_70',\n",
       " '1443': 'Seg44_dend_70',\n",
       " '1444': 'Seg45_dend_70',\n",
       " '1445': 'Seg46_dend_70',\n",
       " '1446': 'Seg47_dend_70',\n",
       " '1447': 'Seg48_dend_70',\n",
       " '1448': 'Seg49_dend_70',\n",
       " '1449': 'Seg50_dend_70',\n",
       " '1450': 'Seg51_dend_70',\n",
       " '1451': 'Seg52_dend_70',\n",
       " '1452': 'Seg53_dend_70',\n",
       " '1453': 'Seg54_dend_70',\n",
       " '1454': 'Seg55_dend_70',\n",
       " '1376': 'Seg0_dend_69',\n",
       " '1386': 'Seg10_dend_69',\n",
       " '1396': 'Seg20_dend_69',\n",
       " '1323': 'Seg0_dend_67',\n",
       " '1333': 'Seg10_dend_67',\n",
       " '1343': 'Seg20_dend_67',\n",
       " '1353': 'Seg30_dend_67',\n",
       " '1281': 'Seg0_dend_66',\n",
       " '1291': 'Seg10_dend_66',\n",
       " '1301': 'Seg20_dend_66',\n",
       " '1311': 'Seg30_dend_66',\n",
       " '1321': 'Seg40_dend_66',\n",
       " '1167': 'Seg0_dend_60',\n",
       " '1168': 'Seg1_dend_60',\n",
       " '1169': 'Seg2_dend_60',\n",
       " '1170': 'Seg3_dend_60',\n",
       " '1171': 'Seg4_dend_60',\n",
       " '1172': 'Seg5_dend_60',\n",
       " '1173': 'Seg6_dend_60',\n",
       " '1174': 'Seg7_dend_60',\n",
       " '1175': 'Seg8_dend_60',\n",
       " '1176': 'Seg9_dend_60',\n",
       " '1177': 'Seg10_dend_60',\n",
       " '1178': 'Seg11_dend_60',\n",
       " '1179': 'Seg12_dend_60',\n",
       " '1180': 'Seg13_dend_60',\n",
       " '1181': 'Seg14_dend_60',\n",
       " '1182': 'Seg15_dend_60',\n",
       " '1183': 'Seg16_dend_60',\n",
       " '1184': 'Seg17_dend_60',\n",
       " '1185': 'Seg18_dend_60',\n",
       " '1186': 'Seg19_dend_60',\n",
       " '1187': 'Seg20_dend_60',\n",
       " '1188': 'Seg21_dend_60',\n",
       " '1189': 'Seg22_dend_60',\n",
       " '1190': 'Seg23_dend_60',\n",
       " '1191': 'Seg24_dend_60',\n",
       " '1192': 'Seg25_dend_60',\n",
       " '1193': 'Seg26_dend_60',\n",
       " '1194': 'Seg27_dend_60',\n",
       " '997': 'Seg0_dend_53',\n",
       " '973': 'Seg0_dend_51',\n",
       " '983': 'Seg10_dend_51',\n",
       " '993': 'Seg20_dend_51',\n",
       " '945': 'Seg0_dend_48',\n",
       " '955': 'Seg10_dend_48',\n",
       " '730': 'Seg0_dend_38',\n",
       " '740': 'Seg10_dend_38',\n",
       " '709': 'Seg0_dend_37',\n",
       " '719': 'Seg10_dend_37',\n",
       " '729': 'Seg20_dend_37',\n",
       " '524': 'Seg0_dend_29',\n",
       " '429': 'Seg0_dend_26',\n",
       " '439': 'Seg10_dend_26',\n",
       " '383': 'Seg0_dend_20',\n",
       " '370': 'Seg0_dend_19',\n",
       " '380': 'Seg10_dend_19',\n",
       " '296': 'Seg0_dend_14',\n",
       " '306': 'Seg10_dend_14',\n",
       " '316': 'Seg20_dend_14',\n",
       " '326': 'Seg30_dend_14',\n",
       " '336': 'Seg40_dend_14',\n",
       " '254': 'Seg0_dend_13',\n",
       " '264': 'Seg10_dend_13',\n",
       " '274': 'Seg20_dend_13',\n",
       " '284': 'Seg30_dend_13',\n",
       " '294': 'Seg40_dend_13',\n",
       " '110': 'Seg0_dend_5',\n",
       " '120': 'Seg10_dend_5',\n",
       " '130': 'Seg20_dend_5',\n",
       " '140': 'Seg30_dend_5',\n",
       " '150': 'Seg40_dend_5',\n",
       " '160': 'Seg50_dend_5',\n",
       " '82': 'Seg0_dend_4',\n",
       " '92': 'Seg10_dend_4',\n",
       " '102': 'Seg20_dend_4',\n",
       " '3913': 'Seg0_apic_102',\n",
       " '3914': 'Seg1_apic_102',\n",
       " '3915': 'Seg2_apic_102',\n",
       " '3916': 'Seg3_apic_102',\n",
       " '3917': 'Seg4_apic_102',\n",
       " '3918': 'Seg5_apic_102',\n",
       " '3919': 'Seg6_apic_102',\n",
       " '3920': 'Seg7_apic_102',\n",
       " '3921': 'Seg8_apic_102',\n",
       " '3922': 'Seg9_apic_102',\n",
       " '3923': 'Seg10_apic_102',\n",
       " '3924': 'Seg11_apic_102',\n",
       " '3925': 'Seg12_apic_102',\n",
       " '3926': 'Seg13_apic_102',\n",
       " '3927': 'Seg14_apic_102',\n",
       " '3928': 'Seg15_apic_102',\n",
       " '3929': 'Seg16_apic_102',\n",
       " '3930': 'Seg17_apic_102',\n",
       " '3931': 'Seg18_apic_102',\n",
       " '3932': 'Seg19_apic_102',\n",
       " '3933': 'Seg20_apic_102',\n",
       " '3934': 'Seg21_apic_102',\n",
       " '3935': 'Seg22_apic_102',\n",
       " '3936': 'Seg23_apic_102',\n",
       " '3937': 'Seg24_apic_102',\n",
       " '3938': 'Seg25_apic_102',\n",
       " '3939': 'Seg26_apic_102',\n",
       " '3940': 'Seg27_apic_102',\n",
       " '3941': 'Seg28_apic_102',\n",
       " '3942': 'Seg29_apic_102',\n",
       " '3943': 'Seg30_apic_102',\n",
       " '3944': 'Seg31_apic_102',\n",
       " '3945': 'Seg32_apic_102',\n",
       " '3946': 'Seg33_apic_102',\n",
       " '3947': 'Seg34_apic_102',\n",
       " '3948': 'Seg35_apic_102',\n",
       " '3949': 'Seg36_apic_102',\n",
       " '3950': 'Seg37_apic_102',\n",
       " '3951': 'Seg38_apic_102',\n",
       " '3952': 'Seg39_apic_102',\n",
       " '3953': 'Seg40_apic_102',\n",
       " '3954': 'Seg41_apic_102',\n",
       " '3955': 'Seg42_apic_102',\n",
       " '3956': 'Seg43_apic_102',\n",
       " '3957': 'Seg44_apic_102',\n",
       " '3958': 'Seg45_apic_102',\n",
       " '3959': 'Seg46_apic_102',\n",
       " '3960': 'Seg47_apic_102',\n",
       " '3961': 'Seg48_apic_102',\n",
       " '3962': 'Seg49_apic_102',\n",
       " '3963': 'Seg50_apic_102',\n",
       " '3964': 'Seg51_apic_102',\n",
       " '3965': 'Seg52_apic_102',\n",
       " '3966': 'Seg53_apic_102',\n",
       " '3967': 'Seg54_apic_102',\n",
       " '3968': 'Seg55_apic_102',\n",
       " '3969': 'Seg56_apic_102',\n",
       " '3970': 'Seg57_apic_102',\n",
       " '3971': 'Seg58_apic_102',\n",
       " '3972': 'Seg59_apic_102',\n",
       " '3973': 'Seg60_apic_102',\n",
       " '3974': 'Seg61_apic_102',\n",
       " '3975': 'Seg62_apic_102',\n",
       " '3976': 'Seg63_apic_102',\n",
       " '3977': 'Seg64_apic_102',\n",
       " '3978': 'Seg65_apic_102',\n",
       " '3979': 'Seg66_apic_102',\n",
       " '3980': 'Seg67_apic_102',\n",
       " '3859': 'Seg0_apic_101',\n",
       " '3860': 'Seg1_apic_101',\n",
       " '3861': 'Seg2_apic_101',\n",
       " '3862': 'Seg3_apic_101',\n",
       " '3863': 'Seg4_apic_101',\n",
       " '3864': 'Seg5_apic_101',\n",
       " '3865': 'Seg6_apic_101',\n",
       " '3866': 'Seg7_apic_101',\n",
       " '3867': 'Seg8_apic_101',\n",
       " '3868': 'Seg9_apic_101',\n",
       " '3869': 'Seg10_apic_101',\n",
       " '3870': 'Seg11_apic_101',\n",
       " '3871': 'Seg12_apic_101',\n",
       " '3872': 'Seg13_apic_101',\n",
       " '3873': 'Seg14_apic_101',\n",
       " '3874': 'Seg15_apic_101',\n",
       " '3875': 'Seg16_apic_101',\n",
       " '3876': 'Seg17_apic_101',\n",
       " '3877': 'Seg18_apic_101',\n",
       " '3878': 'Seg19_apic_101',\n",
       " '3879': 'Seg20_apic_101',\n",
       " '3880': 'Seg21_apic_101',\n",
       " '3881': 'Seg22_apic_101',\n",
       " '3882': 'Seg23_apic_101',\n",
       " '3883': 'Seg24_apic_101',\n",
       " '3884': 'Seg25_apic_101',\n",
       " '3885': 'Seg26_apic_101',\n",
       " '3886': 'Seg27_apic_101',\n",
       " '3887': 'Seg28_apic_101',\n",
       " '3888': 'Seg29_apic_101',\n",
       " '3889': 'Seg30_apic_101',\n",
       " '3890': 'Seg31_apic_101',\n",
       " '3891': 'Seg32_apic_101',\n",
       " '3892': 'Seg33_apic_101',\n",
       " '3893': 'Seg34_apic_101',\n",
       " '3894': 'Seg35_apic_101',\n",
       " '3895': 'Seg36_apic_101',\n",
       " '3896': 'Seg37_apic_101',\n",
       " '3897': 'Seg38_apic_101',\n",
       " '3898': 'Seg39_apic_101',\n",
       " '3899': 'Seg40_apic_101',\n",
       " '3900': 'Seg41_apic_101',\n",
       " '3901': 'Seg42_apic_101',\n",
       " '3902': 'Seg43_apic_101',\n",
       " '3903': 'Seg44_apic_101',\n",
       " '3904': 'Seg45_apic_101',\n",
       " '3905': 'Seg46_apic_101',\n",
       " '3906': 'Seg47_apic_101',\n",
       " '3907': 'Seg48_apic_101',\n",
       " '3908': 'Seg49_apic_101',\n",
       " '3909': 'Seg50_apic_101',\n",
       " '3910': 'Seg51_apic_101',\n",
       " '3911': 'Seg52_apic_101',\n",
       " '3912': 'Seg53_apic_101',\n",
       " '3735': 'Seg0_apic_88',\n",
       " '3573': 'Seg0_apic_81',\n",
       " '3548': 'Seg0_apic_79',\n",
       " '3558': 'Seg10_apic_79',\n",
       " '1702': 'Seg0_apic_4',\n",
       " '1574': 'Seg0_dend_77',\n",
       " '1584': 'Seg10_dend_77',\n",
       " '1557': 'Seg0_dend_76',\n",
       " '1567': 'Seg10_dend_76',\n",
       " '1228': 'Seg0_dend_62',\n",
       " '1238': 'Seg10_dend_62',\n",
       " '1248': 'Seg20_dend_62',\n",
       " '1258': 'Seg30_dend_62',\n",
       " '1195': 'Seg0_dend_61',\n",
       " '1205': 'Seg10_dend_61',\n",
       " '1215': 'Seg20_dend_61',\n",
       " '1225': 'Seg30_dend_61',\n",
       " '1042': 'Seg0_dend_55',\n",
       " '1004': 'Seg0_dend_54',\n",
       " '1014': 'Seg10_dend_54',\n",
       " '1024': 'Seg20_dend_54',\n",
       " '1034': 'Seg30_dend_54',\n",
       " '970': 'Seg0_dend_50',\n",
       " '971': 'Seg1_dend_50',\n",
       " '972': 'Seg2_dend_50',\n",
       " '961': 'Seg0_dend_49',\n",
       " '607': 'Seg0_dend_33',\n",
       " '617': 'Seg10_dend_33',\n",
       " '627': 'Seg20_dend_33',\n",
       " '532': 'Seg0_dend_30',\n",
       " '533': 'Seg1_dend_30',\n",
       " '534': 'Seg2_dend_30',\n",
       " '535': 'Seg3_dend_30',\n",
       " '536': 'Seg4_dend_30',\n",
       " '537': 'Seg5_dend_30',\n",
       " '538': 'Seg6_dend_30',\n",
       " '539': 'Seg7_dend_30',\n",
       " '540': 'Seg8_dend_30',\n",
       " '469': 'Seg0_dend_28',\n",
       " '479': 'Seg10_dend_28',\n",
       " '489': 'Seg20_dend_28',\n",
       " '499': 'Seg30_dend_28',\n",
       " '509': 'Seg40_dend_28',\n",
       " '519': 'Seg50_dend_28',\n",
       " '440': 'Seg0_dend_27',\n",
       " '450': 'Seg10_dend_27',\n",
       " '460': 'Seg20_dend_27',\n",
       " '394': 'Seg0_dend_22',\n",
       " '404': 'Seg10_dend_22',\n",
       " '384': 'Seg0_dend_21',\n",
       " '3758': 'Seg0_apic_92',\n",
       " '3736': 'Seg0_apic_89',\n",
       " '3746': 'Seg10_apic_89',\n",
       " '3687': 'Seg0_apic_87',\n",
       " '3697': 'Seg10_apic_87',\n",
       " '3707': 'Seg20_apic_87',\n",
       " '3717': 'Seg30_apic_87',\n",
       " '3727': 'Seg40_apic_87',\n",
       " '3577': 'Seg0_apic_82',\n",
       " '3587': 'Seg10_apic_82',\n",
       " '1912': 'Seg0_apic_14',\n",
       " '1922': 'Seg10_apic_14',\n",
       " '1704': 'Seg0_apic_5',\n",
       " '1060': 'Seg0_dend_57',\n",
       " '1044': 'Seg0_dend_56',\n",
       " '1054': 'Seg10_dend_56',\n",
       " '571': 'Seg0_dend_32',\n",
       " '581': 'Seg10_dend_32',\n",
       " '591': 'Seg20_dend_32',\n",
       " '601': 'Seg30_dend_32',\n",
       " '541': 'Seg0_dend_31',\n",
       " '551': 'Seg10_dend_31',\n",
       " '561': 'Seg20_dend_31',\n",
       " '414': 'Seg0_dend_24',\n",
       " '411': 'Seg0_dend_23',\n",
       " '3801': 'Seg0_apic_94',\n",
       " '3764': 'Seg0_apic_93',\n",
       " '3774': 'Seg10_apic_93',\n",
       " '3784': 'Seg20_apic_93',\n",
       " '3794': 'Seg30_apic_93',\n",
       " '3753': 'Seg0_apic_91',\n",
       " '3750': 'Seg0_apic_90',\n",
       " '3751': 'Seg1_apic_90',\n",
       " '3752': 'Seg2_apic_90',\n",
       " '3656': 'Seg0_apic_86',\n",
       " '3666': 'Seg10_apic_86',\n",
       " '3676': 'Seg20_apic_86',\n",
       " '3686': 'Seg30_apic_86',\n",
       " '3588': 'Seg0_apic_83',\n",
       " '3598': 'Seg10_apic_83',\n",
       " '3608': 'Seg20_apic_83',\n",
       " '2108': 'Seg0_apic_20',\n",
       " '2109': 'Seg1_apic_20',\n",
       " '2110': 'Seg2_apic_20',\n",
       " '2111': 'Seg3_apic_20',\n",
       " '2112': 'Seg4_apic_20',\n",
       " '2113': 'Seg5_apic_20',\n",
       " '2114': 'Seg6_apic_20',\n",
       " '2115': 'Seg7_apic_20',\n",
       " '2116': 'Seg8_apic_20',\n",
       " '2117': 'Seg9_apic_20',\n",
       " '1927': 'Seg0_apic_15',\n",
       " '1805': 'Seg0_apic_11',\n",
       " '1708': 'Seg0_apic_6',\n",
       " '1112': 'Seg0_dend_59',\n",
       " '1122': 'Seg10_dend_59',\n",
       " '1132': 'Seg20_dend_59',\n",
       " '1142': 'Seg30_dend_59',\n",
       " '1152': 'Seg40_dend_59',\n",
       " '1162': 'Seg50_dend_59',\n",
       " '1067': 'Seg0_dend_58',\n",
       " '1077': 'Seg10_dend_58',\n",
       " '1087': 'Seg20_dend_58',\n",
       " '1097': 'Seg30_dend_58',\n",
       " '1107': 'Seg40_dend_58',\n",
       " '3828': 'Seg0_apic_96',\n",
       " '3838': 'Seg10_apic_96',\n",
       " '3808': 'Seg0_apic_95',\n",
       " '3818': 'Seg10_apic_95',\n",
       " '3631': 'Seg0_apic_85',\n",
       " '3641': 'Seg10_apic_85',\n",
       " '3651': 'Seg20_apic_85',\n",
       " '3615': 'Seg0_apic_84',\n",
       " '3625': 'Seg10_apic_84',\n",
       " '2154': 'Seg0_apic_26',\n",
       " '2118': 'Seg0_apic_21',\n",
       " '2053': 'Seg0_apic_19',\n",
       " '2063': 'Seg10_apic_19',\n",
       " '2073': 'Seg20_apic_19',\n",
       " '2083': 'Seg30_apic_19',\n",
       " '2093': 'Seg40_apic_19',\n",
       " '2103': 'Seg50_apic_19',\n",
       " '1932': 'Seg0_apic_16',\n",
       " '1859': 'Seg0_apic_13',\n",
       " '1869': 'Seg10_apic_13',\n",
       " '1879': 'Seg20_apic_13',\n",
       " '1889': 'Seg30_apic_13',\n",
       " '1899': 'Seg40_apic_13',\n",
       " '1909': 'Seg50_apic_13',\n",
       " '1806': 'Seg0_apic_12',\n",
       " '1816': 'Seg10_apic_12',\n",
       " '1826': 'Seg20_apic_12',\n",
       " '1836': 'Seg30_apic_12',\n",
       " '1846': 'Seg40_apic_12',\n",
       " '1856': 'Seg50_apic_12',\n",
       " '1777': 'Seg0_apic_10',\n",
       " '1778': 'Seg1_apic_10',\n",
       " '1779': 'Seg2_apic_10',\n",
       " '1780': 'Seg3_apic_10',\n",
       " '1781': 'Seg4_apic_10',\n",
       " '1782': 'Seg5_apic_10',\n",
       " '1783': 'Seg6_apic_10',\n",
       " '1784': 'Seg7_apic_10',\n",
       " '1785': 'Seg8_apic_10',\n",
       " '1786': 'Seg9_apic_10',\n",
       " '1787': 'Seg10_apic_10',\n",
       " '1788': 'Seg11_apic_10',\n",
       " '1789': 'Seg12_apic_10',\n",
       " '1790': 'Seg13_apic_10',\n",
       " '1791': 'Seg14_apic_10',\n",
       " '1792': 'Seg15_apic_10',\n",
       " '1793': 'Seg16_apic_10',\n",
       " '1794': 'Seg17_apic_10',\n",
       " '1795': 'Seg18_apic_10',\n",
       " '1796': 'Seg19_apic_10',\n",
       " '1797': 'Seg20_apic_10',\n",
       " '1798': 'Seg21_apic_10',\n",
       " '1799': 'Seg22_apic_10',\n",
       " '1800': 'Seg23_apic_10',\n",
       " '1801': 'Seg24_apic_10',\n",
       " '1802': 'Seg25_apic_10',\n",
       " '1803': 'Seg26_apic_10',\n",
       " '1804': 'Seg27_apic_10',\n",
       " '1713': 'Seg0_apic_7',\n",
       " '3844': 'Seg0_apic_98',\n",
       " '3841': 'Seg0_apic_97',\n",
       " '2263': 'Seg0_apic_34',\n",
       " '2273': 'Seg10_apic_34',\n",
       " '2158': 'Seg0_apic_27',\n",
       " '2147': 'Seg0_apic_25',\n",
       " '2124': 'Seg0_apic_22',\n",
       " '2134': 'Seg10_apic_22',\n",
       " '2004': 'Seg0_apic_18',\n",
       " '2014': 'Seg10_apic_18',\n",
       " '2024': 'Seg20_apic_18',\n",
       " '2034': 'Seg30_apic_18',\n",
       " '2044': 'Seg40_apic_18',\n",
       " '1938': 'Seg0_apic_17',\n",
       " '1948': 'Seg10_apic_17',\n",
       " '1958': 'Seg20_apic_17',\n",
       " '1968': 'Seg30_apic_17',\n",
       " '1978': 'Seg40_apic_17',\n",
       " '1988': 'Seg50_apic_17',\n",
       " '1998': 'Seg60_apic_17',\n",
       " '1735': 'Seg0_apic_9',\n",
       " '1745': 'Seg10_apic_9',\n",
       " '1755': 'Seg20_apic_9',\n",
       " '1765': 'Seg30_apic_9',\n",
       " '1775': 'Seg40_apic_9',\n",
       " '1721': 'Seg0_apic_8',\n",
       " '1731': 'Seg10_apic_8',\n",
       " '2310': 'Seg0_apic_36',\n",
       " '2320': 'Seg10_apic_36',\n",
       " '2330': 'Seg20_apic_36',\n",
       " '2340': 'Seg30_apic_36',\n",
       " '2350': 'Seg40_apic_36',\n",
       " '2360': 'Seg50_apic_36',\n",
       " '2278': 'Seg0_apic_35',\n",
       " '2288': 'Seg10_apic_35',\n",
       " '2298': 'Seg20_apic_35',\n",
       " '2308': 'Seg30_apic_35',\n",
       " '2232': 'Seg0_apic_33',\n",
       " '2242': 'Seg10_apic_33',\n",
       " '2252': 'Seg20_apic_33',\n",
       " '2262': 'Seg30_apic_33',\n",
       " '2159': 'Seg0_apic_28',\n",
       " '2141': 'Seg0_apic_24',\n",
       " '2135': 'Seg0_apic_23',\n",
       " '2678': 'Seg0_apic_50',\n",
       " '2679': 'Seg1_apic_50',\n",
       " '2680': 'Seg2_apic_50',\n",
       " '2681': 'Seg3_apic_50',\n",
       " '2682': 'Seg4_apic_50',\n",
       " '2683': 'Seg5_apic_50',\n",
       " '2684': 'Seg6_apic_50',\n",
       " '2685': 'Seg7_apic_50',\n",
       " '2686': 'Seg8_apic_50',\n",
       " '2687': 'Seg9_apic_50',\n",
       " '2688': 'Seg10_apic_50',\n",
       " '2689': 'Seg11_apic_50',\n",
       " '2690': 'Seg12_apic_50',\n",
       " '2691': 'Seg13_apic_50',\n",
       " '2366': 'Seg0_apic_37',\n",
       " '2376': 'Seg10_apic_37',\n",
       " '2386': 'Seg20_apic_37',\n",
       " '2396': 'Seg30_apic_37',\n",
       " '2406': 'Seg40_apic_37',\n",
       " '2416': 'Seg50_apic_37',\n",
       " '2426': 'Seg60_apic_37',\n",
       " '2195': 'Seg0_apic_30',\n",
       " '2196': 'Seg1_apic_30',\n",
       " '2197': 'Seg2_apic_30',\n",
       " '2198': 'Seg3_apic_30',\n",
       " '2199': 'Seg4_apic_30',\n",
       " '2200': 'Seg5_apic_30',\n",
       " '2201': 'Seg6_apic_30',\n",
       " '2202': 'Seg7_apic_30',\n",
       " '2203': 'Seg8_apic_30',\n",
       " '2204': 'Seg9_apic_30',\n",
       " '2205': 'Seg10_apic_30',\n",
       " '2206': 'Seg11_apic_30',\n",
       " '2207': 'Seg12_apic_30',\n",
       " '2208': 'Seg13_apic_30',\n",
       " '2209': 'Seg14_apic_30',\n",
       " '2210': 'Seg15_apic_30',\n",
       " '2211': 'Seg16_apic_30',\n",
       " '2212': 'Seg17_apic_30',\n",
       " '2213': 'Seg18_apic_30',\n",
       " '2214': 'Seg19_apic_30',\n",
       " '2215': 'Seg20_apic_30',\n",
       " '2216': 'Seg21_apic_30',\n",
       " '2217': 'Seg22_apic_30',\n",
       " '2218': 'Seg23_apic_30',\n",
       " '2219': 'Seg24_apic_30',\n",
       " '2220': 'Seg25_apic_30',\n",
       " '2221': 'Seg26_apic_30',\n",
       " '2222': 'Seg27_apic_30',\n",
       " '2223': 'Seg28_apic_30',\n",
       " '2164': 'Seg0_apic_29',\n",
       " '2174': 'Seg10_apic_29',\n",
       " '2184': 'Seg20_apic_29',\n",
       " '2194': 'Seg30_apic_29',\n",
       " '2890': 'Seg0_apic_60',\n",
       " '2891': 'Seg1_apic_60',\n",
       " '2892': 'Seg2_apic_60',\n",
       " '2893': 'Seg3_apic_60',\n",
       " '2894': 'Seg4_apic_60',\n",
       " '2895': 'Seg5_apic_60',\n",
       " '2896': 'Seg6_apic_60',\n",
       " '2897': 'Seg7_apic_60',\n",
       " '2898': 'Seg8_apic_60',\n",
       " '2899': 'Seg9_apic_60',\n",
       " '2900': 'Seg10_apic_60',\n",
       " '2901': 'Seg11_apic_60',\n",
       " '2902': 'Seg12_apic_60',\n",
       " '2903': 'Seg13_apic_60',\n",
       " '2904': 'Seg14_apic_60',\n",
       " '2905': 'Seg15_apic_60',\n",
       " '2906': 'Seg16_apic_60',\n",
       " '2907': 'Seg17_apic_60',\n",
       " '2908': 'Seg18_apic_60',\n",
       " '2909': 'Seg19_apic_60',\n",
       " '2910': 'Seg20_apic_60',\n",
       " '2911': 'Seg21_apic_60',\n",
       " '2912': 'Seg22_apic_60',\n",
       " '2913': 'Seg23_apic_60',\n",
       " '2914': 'Seg24_apic_60',\n",
       " '2915': 'Seg25_apic_60',\n",
       " '2916': 'Seg26_apic_60',\n",
       " '2917': 'Seg27_apic_60',\n",
       " '2918': 'Seg28_apic_60',\n",
       " '2919': 'Seg29_apic_60',\n",
       " '2920': 'Seg30_apic_60',\n",
       " '2921': 'Seg31_apic_60',\n",
       " '2922': 'Seg32_apic_60',\n",
       " '2923': 'Seg33_apic_60',\n",
       " '2924': 'Seg34_apic_60',\n",
       " '2925': 'Seg35_apic_60',\n",
       " '2926': 'Seg36_apic_60',\n",
       " '2927': 'Seg37_apic_60',\n",
       " '2928': 'Seg38_apic_60',\n",
       " '2929': 'Seg39_apic_60',\n",
       " '2930': 'Seg40_apic_60',\n",
       " '2931': 'Seg41_apic_60',\n",
       " '2932': 'Seg42_apic_60',\n",
       " '2933': 'Seg43_apic_60',\n",
       " '2934': 'Seg44_apic_60',\n",
       " '2935': 'Seg45_apic_60',\n",
       " '2936': 'Seg46_apic_60',\n",
       " '2937': 'Seg47_apic_60',\n",
       " '2938': 'Seg48_apic_60',\n",
       " '2939': 'Seg49_apic_60',\n",
       " '2940': 'Seg50_apic_60',\n",
       " '2941': 'Seg51_apic_60',\n",
       " '2942': 'Seg52_apic_60',\n",
       " '2943': 'Seg53_apic_60',\n",
       " '2944': 'Seg54_apic_60',\n",
       " '2945': 'Seg55_apic_60',\n",
       " '2946': 'Seg56_apic_60',\n",
       " '2947': 'Seg57_apic_60',\n",
       " '2692': 'Seg0_apic_51',\n",
       " '2702': 'Seg10_apic_51',\n",
       " '2712': 'Seg20_apic_51',\n",
       " '2722': 'Seg30_apic_51',\n",
       " '2732': 'Seg40_apic_51',\n",
       " '2742': 'Seg50_apic_51',\n",
       " '2593': 'Seg0_apic_45',\n",
       " '2603': 'Seg10_apic_45',\n",
       " '2613': 'Seg20_apic_45',\n",
       " '2431': 'Seg0_apic_38',\n",
       " '2441': 'Seg10_apic_38',\n",
       " '2451': 'Seg20_apic_38',\n",
       " '2229': 'Seg0_apic_32',\n",
       " '2224': 'Seg0_apic_31',\n",
       " '3181': 'Seg0_apic_68',\n",
       " '3191': 'Seg10_apic_68',\n",
       " '3201': 'Seg20_apic_68',\n",
       " '3211': 'Seg30_apic_68',\n",
       " '2948': 'Seg0_apic_61',\n",
       " '2958': 'Seg10_apic_61',\n",
       " '2968': 'Seg20_apic_61',\n",
       " '2978': 'Seg30_apic_61',\n",
       " '2988': 'Seg40_apic_61',\n",
       " '2998': 'Seg50_apic_61',\n",
       " '2799': 'Seg0_apic_53',\n",
       " '2809': 'Seg10_apic_53',\n",
       " '2819': 'Seg20_apic_53',\n",
       " '2829': 'Seg30_apic_53',\n",
       " '2839': 'Seg40_apic_53',\n",
       " '2849': 'Seg50_apic_53',\n",
       " '2859': 'Seg60_apic_53',\n",
       " '2748': 'Seg0_apic_52',\n",
       " '2758': 'Seg10_apic_52',\n",
       " '2768': 'Seg20_apic_52',\n",
       " '2778': 'Seg30_apic_52',\n",
       " '2788': 'Seg40_apic_52',\n",
       " '2798': 'Seg50_apic_52',\n",
       " '2633': 'Seg0_apic_49',\n",
       " '2643': 'Seg10_apic_49',\n",
       " '2653': 'Seg20_apic_49',\n",
       " '2663': 'Seg30_apic_49',\n",
       " '2673': 'Seg40_apic_49',\n",
       " '2616': 'Seg0_apic_46',\n",
       " '2475': 'Seg0_apic_40',\n",
       " '2476': 'Seg1_apic_40',\n",
       " '2477': 'Seg2_apic_40',\n",
       " '2478': 'Seg3_apic_40',\n",
       " '2479': 'Seg4_apic_40',\n",
       " '2480': 'Seg5_apic_40',\n",
       " '2481': 'Seg6_apic_40',\n",
       " '2482': 'Seg7_apic_40',\n",
       " '2483': 'Seg8_apic_40',\n",
       " '2484': 'Seg9_apic_40',\n",
       " '2485': 'Seg10_apic_40',\n",
       " '2486': 'Seg11_apic_40',\n",
       " '2487': 'Seg12_apic_40',\n",
       " '2488': 'Seg13_apic_40',\n",
       " '2489': 'Seg14_apic_40',\n",
       " '2490': 'Seg15_apic_40',\n",
       " '2491': 'Seg16_apic_40',\n",
       " '2492': 'Seg17_apic_40',\n",
       " '2493': 'Seg18_apic_40',\n",
       " '2494': 'Seg19_apic_40',\n",
       " '2495': 'Seg20_apic_40',\n",
       " '2496': 'Seg21_apic_40',\n",
       " '2497': 'Seg22_apic_40',\n",
       " '2498': 'Seg23_apic_40',\n",
       " '2499': 'Seg24_apic_40',\n",
       " '2500': 'Seg25_apic_40',\n",
       " '2501': 'Seg26_apic_40',\n",
       " '2502': 'Seg27_apic_40',\n",
       " '2503': 'Seg28_apic_40',\n",
       " '2504': 'Seg29_apic_40',\n",
       " '2505': 'Seg30_apic_40',\n",
       " '2506': 'Seg31_apic_40',\n",
       " '2507': 'Seg32_apic_40',\n",
       " '2508': 'Seg33_apic_40',\n",
       " '2509': 'Seg34_apic_40',\n",
       " '2510': 'Seg35_apic_40',\n",
       " '2511': 'Seg36_apic_40',\n",
       " '2512': 'Seg37_apic_40',\n",
       " '2513': 'Seg38_apic_40',\n",
       " '2514': 'Seg39_apic_40',\n",
       " '2515': 'Seg40_apic_40',\n",
       " '2516': 'Seg41_apic_40',\n",
       " '2517': 'Seg42_apic_40',\n",
       " '2518': 'Seg43_apic_40',\n",
       " '2519': 'Seg44_apic_40',\n",
       " '2520': 'Seg45_apic_40',\n",
       " '2521': 'Seg46_apic_40',\n",
       " '2522': 'Seg47_apic_40',\n",
       " '2523': 'Seg48_apic_40',\n",
       " '2524': 'Seg49_apic_40',\n",
       " '2525': 'Seg50_apic_40',\n",
       " '2526': 'Seg51_apic_40',\n",
       " '2527': 'Seg52_apic_40',\n",
       " '2528': 'Seg53_apic_40',\n",
       " '2529': 'Seg54_apic_40',\n",
       " '2530': 'Seg55_apic_40',\n",
       " '2531': 'Seg56_apic_40',\n",
       " '2532': 'Seg57_apic_40',\n",
       " '2533': 'Seg58_apic_40',\n",
       " '2534': 'Seg59_apic_40',\n",
       " '2535': 'Seg60_apic_40',\n",
       " '2536': 'Seg61_apic_40',\n",
       " '2537': 'Seg62_apic_40',\n",
       " '2538': 'Seg63_apic_40',\n",
       " '2539': 'Seg64_apic_40',\n",
       " '2540': 'Seg65_apic_40',\n",
       " '2541': 'Seg66_apic_40',\n",
       " '2542': 'Seg67_apic_40',\n",
       " '2458': 'Seg0_apic_39',\n",
       " '2468': 'Seg10_apic_39',\n",
       " '3348': 'Seg0_apic_74',\n",
       " '3358': 'Seg10_apic_74',\n",
       " '3213': 'Seg0_apic_69',\n",
       " '3223': 'Seg10_apic_69',\n",
       " '3233': 'Seg20_apic_69',\n",
       " '3243': 'Seg30_apic_69',\n",
       " '3253': 'Seg40_apic_69',\n",
       " '3263': 'Seg50_apic_69',\n",
       " '3115': 'Seg0_apic_67',\n",
       " '3125': 'Seg10_apic_67',\n",
       " '3135': 'Seg20_apic_67',\n",
       " '3145': 'Seg30_apic_67',\n",
       " '3155': 'Seg40_apic_67',\n",
       " '3165': 'Seg50_apic_67',\n",
       " '3175': 'Seg60_apic_67',\n",
       " '3001': 'Seg0_apic_62',\n",
       " ...}"
      ]
     },
     "execution_count": 27,
     "metadata": {},
     "output_type": "execute_result"
    }
   ],
   "source": [
    "soma_segments # use late to find stems in other compartment domains\n"
   ]
  },
  {
   "cell_type": "code",
   "execution_count": 28,
   "metadata": {},
   "outputs": [
    {
     "name": "stdout",
     "output_type": "stream",
     "text": [
      "{http://www.neuroml.org/schema/neuroml2}proximal {'x': '34.1634', 'y': '17.6215', 'z': '-50.25', 'diameter': '3.80039'}\n",
      "{http://www.neuroml.org/schema/neuroml2}distal {'x': '35.3196', 'y': '17.6937', 'z': '-50.25', 'diameter': '6.44373'}\n"
     ]
    }
   ],
   "source": [
    "for child in morpho[0]:\n",
    "    print(child.tag,child.attrib)"
   ]
  },
  {
   "cell_type": "code",
   "execution_count": 29,
   "metadata": {},
   "outputs": [],
   "source": [
    "def get_domain_segments(morpho,domain_groups,bounds=None):\n",
    "    domain_segments  = {}\n",
    "    \n",
    "    for segment in morpho.findall('{http://www.neuroml.org/schema/neuroml2}segment'):\n",
    "        # leverage standardized segment naming\n",
    "        seg_name = segment.attrib['name'].split('_')\n",
    "        this_group = seg_name[1]+'_'+seg_name[2]\n",
    "        \n",
    "        if this_group in domain_groups:\n",
    "            \n",
    "            if not bounds is None:\n",
    "                [y_lb,y_ub] = bounds[0]\n",
    "                rad_ub = bounds[1]\n",
    "                \n",
    "                # always the last field\n",
    "                distal = segment[-1]\n",
    "                x,y,z  = float(distal.attrib['x']),float(distal.attrib['y']),float(distal.attrib['z'])\n",
    "                \n",
    "                # project onto xz-plane\n",
    "                xz = np.sqrt(x**2+z**2)\n",
    "                \n",
    "                # cylinder interval\n",
    "                if is_in_interval(y,y_lb,y_ub) and xz<=rad_ub:\n",
    "                    domain_segments.update({segment.attrib['id']:segment.attrib['name']})\n",
    "                else:\n",
    "                    continue  \n",
    "                    \n",
    "            # only do if bounds not included\n",
    "            else:\n",
    "                domain_segments.update({segment.attrib['id']:segment.attrib['name']})\n",
    "                \n",
    "    return domain_segments\n",
    "\n",
    "\n",
    "def get_segment_coord_lists(domain_segments,morpho,stems,verbose=False):\n",
    "\n",
    "    segment_parents = {}\n",
    "    no_parent = {}\n",
    "\n",
    "    # for compute domain-level props\n",
    "    proximal_list = []\n",
    "    distal_list = []\n",
    "\n",
    "    for segment in morpho.findall('{http://www.neuroml.org/schema/neuroml2}segment'):\n",
    "        seg_id = segment.attrib['id']\n",
    "        seg_name = segment.attrib['name']\n",
    "\n",
    "\n",
    "        if seg_name in domain_segments.values():\n",
    "\n",
    "            parent_id = segment[0].attrib['segment']\n",
    "\n",
    "            # if not stem of soma, look at parent for proximal\n",
    "            if seg_name in stems.values():\n",
    "\n",
    "                # parent is segment[0]\n",
    "                proximal = segment[1]\n",
    "                distal = segment[2]\n",
    "                \n",
    "                segment_parents.update({seg_id:distal})\n",
    "            else:\n",
    "                # no proximal so distal is segment[1]\n",
    "                distal = segment[1]\n",
    "                segment_parents.update({seg_id:distal})\n",
    "                \n",
    "                # sometimes parent segment is out of bounds so not included\n",
    "                try:\n",
    "                    proximal = segment_parents[parent_id]\n",
    "            \n",
    "                except KeyError:\n",
    "                    no_parent.update({seg_id:{}})\n",
    "                    no_parent[seg_id].update({'Name':seg_name})\n",
    "                    no_parent[seg_id].update({'Parent ID':parent_id})\n",
    "                    \n",
    "                    # don't append anything to list\n",
    "                    continue\n",
    "                    \n",
    "            proximal_list.append(proximal)\n",
    "            distal_list.append(distal)\n",
    "    if verbose:\n",
    "        print('Removed %s segments from list...'%(len(domain_segments) - len(proximal_list)))\n",
    "    return proximal_list, distal_list\n"
   ]
  },
  {
   "cell_type": "code",
   "execution_count": 37,
   "metadata": {},
   "outputs": [
    {
     "ename": "KeyError",
     "evalue": "'y'",
     "output_type": "error",
     "traceback": [
      "\u001b[0;31m---------------------------------------------------------------------------\u001b[0m",
      "\u001b[0;31mKeyError\u001b[0m                                  Traceback (most recent call last)",
      "Cell \u001b[0;32mIn[37], line 14\u001b[0m\n\u001b[1;32m     11\u001b[0m distal \u001b[38;5;241m=\u001b[39m segment[\u001b[38;5;241m1\u001b[39m]\n\u001b[1;32m     13\u001b[0m \u001b[38;5;66;03m# most medial soma segment\u001b[39;00m\n\u001b[0;32m---> 14\u001b[0m soma_y_prox \u001b[38;5;241m=\u001b[39m \u001b[38;5;28mfloat\u001b[39m(\u001b[43mproximal\u001b[49m\u001b[38;5;241;43m.\u001b[39;49m\u001b[43mattrib\u001b[49m\u001b[43m[\u001b[49m\u001b[38;5;124;43m'\u001b[39;49m\u001b[38;5;124;43my\u001b[39;49m\u001b[38;5;124;43m'\u001b[39;49m\u001b[43m]\u001b[49m)\n\u001b[1;32m     15\u001b[0m soma_y_dist \u001b[38;5;241m=\u001b[39m \u001b[38;5;28mfloat\u001b[39m(distal\u001b[38;5;241m.\u001b[39mattrib[\u001b[38;5;124m'\u001b[39m\u001b[38;5;124my\u001b[39m\u001b[38;5;124m'\u001b[39m])\n\u001b[1;32m     18\u001b[0m \u001b[38;5;66;03m# get direction of prox->dist\u001b[39;00m\n",
      "\u001b[0;31mKeyError\u001b[0m: 'y'"
     ]
    }
   ],
   "source": [
    "soma_parents = {}\n",
    "\n",
    "these_segments = soma_segments\n",
    "for segment in morpho.findall('{http://www.neuroml.org/schema/neuroml2}segment'):\n",
    "    seg_id = segment.attrib['id']\n",
    "    if seg_id in these_segments.keys():\n",
    "\n",
    "        # this part only applies to soma compartments\n",
    "        if 'Seg0' in segment.attrib['name']: \n",
    "            proximal = segment[0]\n",
    "            distal = segment[1]\n",
    "            \n",
    "            # most medial soma segment\n",
    "            soma_y_prox = float(proximal.attrib['y'])\n",
    "            soma_y_dist = float(distal.attrib['y'])\n",
    "\n",
    "\n",
    "            # get direction of prox->dist\n",
    "            if soma_y_prox<soma_y_dist:\n",
    "                lb = soma_y_prox\n",
    "                ub = soma_y_dist # this needs to be updated\n",
    "                soma_dir = 1 # prox = more medial, dist = more lateral\n",
    "                soma_root = lb # seg set to origin in simulation\n",
    "            else:\n",
    "                lb = soma_y_dist # this needs to be updated\n",
    "                ub = soma_y_prox \n",
    "                soma_dir = -1 # prox = more lateral, dist = more medial\n",
    "                soma_root = ub # seg set to origin in simulation\n",
    "        else:\n",
    "\n",
    "            # find parent\n",
    "            parent_id = segment[0].attrib['segment']\n",
    "\n",
    "            proximal = soma_parents[parent_id]\n",
    "            distal = segment[1]\n",
    "\n",
    "            # update until find most lateral soma segment\n",
    "            if soma_dir==1 and float(distal.attrib['y'])>ub:\n",
    "                ub = float(distal.attrib['y'])\n",
    "            if soma_dir==-1 and float(distal.attrib['y'])<lb:\n",
    "                lb = float(distal.attrib['y'])\n",
    "\n",
    "        soma_parents.update({seg_id:distal})\n",
    "\n",
    "#         soma_length += compute_segment_length(proximal,distal)\n",
    "\n",
    "# compute soma center shift\n",
    "soma_center = lb + (ub-lb)/2 # this is used to define upper/lower groups of neurites\n",
    "soma_length = ub-lb"
   ]
  },
  {
   "cell_type": "code",
   "execution_count": null,
   "metadata": {},
   "outputs": [
    {
     "ename": "NameError",
     "evalue": "name 'soma_center' is not defined",
     "output_type": "error",
     "traceback": [
      "\u001b[0;31m---------------------------------------------------------------------------\u001b[0m",
      "\u001b[0;31mNameError\u001b[0m                                 Traceback (most recent call last)",
      "Cell \u001b[0;32mIn[47], line 1\u001b[0m\n\u001b[0;32m----> 1\u001b[0m \u001b[43msoma_center\u001b[49m, lb, ub, soma_length, ub\u001b[38;5;241m-\u001b[39mlb\n",
      "\u001b[0;31mNameError\u001b[0m: name 'soma_center' is not defined"
     ]
    }
   ],
   "source": [
    "soma_center, lb, ub, soma_length, ub-lb"
   ]
  },
  {
   "cell_type": "raw",
   "metadata": {},
   "source": [
    "these_segments = soma_segments\n",
    "soma_length = 0\n",
    "soma_parents = {}\n",
    "\n",
    "\n",
    "for segment in morpho.findall('{http://www.neuroml.org/schema/neuroml2}segment'):\n",
    "    seg_id = segment.attrib['id']\n",
    "    if seg_id in these_segments.keys():\n",
    "        \n",
    "        # this part only applies to soma compartments, other you have to find parent\n",
    "        if 'Seg0' in segment.attrib['name']:\n",
    "            proximal = segment[0]\n",
    "            distal = segment[1]\n",
    "        else:\n",
    "            \n",
    "            # find parent\n",
    "            parent_id = segment[0].attrib['segment']\n",
    "            \n",
    "            proximal = soma_parents[parent_id]\n",
    "            distal = segment[1]\n",
    "            \n",
    "        soma_parents.update({seg_id:distal})\n",
    "        \n",
    "        soma_length += compute_segment_length(proximal,distal)\n",
    "        "
   ]
  },
  {
   "cell_type": "code",
   "execution_count": null,
   "metadata": {},
   "outputs": [
    {
     "data": {
      "text/plain": [
       "33.869422393959425"
      ]
     },
     "execution_count": 34,
     "metadata": {},
     "output_type": "execute_result"
    }
   ],
   "source": [
    "soma_length"
   ]
  },
  {
   "cell_type": "markdown",
   "metadata": {},
   "source": [
    "# Find all stems"
   ]
  },
  {
   "cell_type": "code",
   "execution_count": null,
   "metadata": {},
   "outputs": [],
   "source": [
    "stems = {}\n",
    "\n",
    "for segment in morpho.findall('{http://www.neuroml.org/schema/neuroml2}segment'):\n",
    "    seg_id = segment.attrib['id']\n",
    "    seg_name = segment.attrib['name']\n",
    "    \n",
    "    if not seg_name in soma_segments.values():\n",
    "    \n",
    "        parent_id = segment[0].attrib['segment']\n",
    "\n",
    "        if parent_id in soma_parents.keys():\n",
    "            stems.update({seg_id:seg_name})\n",
    "            "
   ]
  },
  {
   "cell_type": "code",
   "execution_count": null,
   "metadata": {},
   "outputs": [
    {
     "name": "stdout",
     "output_type": "stream",
     "text": [
      "Number of stems = 10\n",
      "{'1254': 'Seg0_dend_52',\n",
      " '1489': 'Seg0_dend_61',\n",
      " '1879': 'Seg0_dend_72',\n",
      " '21': 'Seg0_dend_0',\n",
      " '2545': 'Seg0_dend_89',\n",
      " '2613': 'Seg0_apic_0',\n",
      " '284': 'Seg0_dend_15',\n",
      " '357': 'Seg0_dend_24',\n",
      " '5576': 'Seg0_axon_0',\n",
      " '944': 'Seg0_dend_43'}\n"
     ]
    }
   ],
   "source": [
    "print('Number of stems = %s'%len(stems))\n",
    "pprint(stems)"
   ]
  },
  {
   "cell_type": "code",
   "execution_count": null,
   "metadata": {},
   "outputs": [],
   "source": [
    "# compute stems cross-sectional areas\n",
    "stem_names = []\n",
    "stem_diams = []\n",
    "\n",
    "for segment in morpho.findall('{http://www.neuroml.org/schema/neuroml2}segment'):\n",
    "    seg_name = segment.attrib['name']\n",
    "\n",
    "    if seg_name in stems.values():\n",
    "                   \n",
    "        proximal = segment[1]\n",
    "        diameter = float(proximal.attrib['diameter'])\n",
    "        stem_names.append(seg_name)\n",
    "        stem_diams.append(diameter)\n",
    "\n",
    "stem_diams = np.array(stem_diams)"
   ]
  },
  {
   "cell_type": "code",
   "execution_count": null,
   "metadata": {},
   "outputs": [
    {
     "data": {
      "text/plain": [
       "array([6.42, 4.13, 1.61, 1.38, 1.61, 1.61, 1.83, 1.15, 2.75, 1.83])"
      ]
     },
     "execution_count": 38,
     "metadata": {},
     "output_type": "execute_result"
    }
   ],
   "source": [
    "stem_diams"
   ]
  },
  {
   "cell_type": "raw",
   "metadata": {},
   "source": [
    "def compute_stem_csa(diam):\n",
    "    return np.pi*np.square(diam/2)"
   ]
  },
  {
   "cell_type": "code",
   "execution_count": null,
   "metadata": {},
   "outputs": [],
   "source": [
    "stem_csas = compute_stem_csa(stem_diams)"
   ]
  },
  {
   "cell_type": "code",
   "execution_count": null,
   "metadata": {},
   "outputs": [
    {
     "name": "stdout",
     "output_type": "stream",
     "text": [
      "['Seg0_apic_0', 'Seg0_dend_89', 'Seg0_dend_72', 'Seg0_dend_61', 'Seg0_dend_52', 'Seg0_dend_43', 'Seg0_dend_24', 'Seg0_dend_15', 'Seg0_dend_0', 'Seg0_axon_0']\n"
     ]
    }
   ],
   "source": [
    "print(stem_names)"
   ]
  },
  {
   "cell_type": "code",
   "execution_count": null,
   "metadata": {},
   "outputs": [
    {
     "data": {
      "text/plain": [
       "65.60964929609996"
      ]
     },
     "execution_count": 41,
     "metadata": {},
     "output_type": "execute_result"
    }
   ],
   "source": [
    "np.sum(stem_csas)"
   ]
  },
  {
   "cell_type": "code",
   "execution_count": null,
   "metadata": {},
   "outputs": [
    {
     "name": "stdout",
     "output_type": "stream",
     "text": [
      "Seg0_apic_0  angle: 58.191075943475475\n",
      "Seg0_dend_89  angle: 270.56304900094375\n",
      "Seg0_dend_72  angle: 353.3284731161623\n",
      "Seg0_dend_61  angle: 354.5290815870912\n",
      "Seg0_dend_52  angle: 13.169625315911915\n",
      "Seg0_dend_43  angle: 357.0082916590082\n",
      "Seg0_dend_24  angle: 354.24301947688355\n",
      "Seg0_dend_15  angle: 356.9215364625044\n",
      "Seg0_dend_0  angle: 358.3036384909134\n",
      "Seg0_axon_0  angle: 88.08612138303171\n"
     ]
    }
   ],
   "source": [
    "for stem_id,name in stems.items():\n",
    "    \n",
    "    prox_list, dist_list = get_segment_coord_lists({stem_id:name},morpho,stems) \n",
    "    print(name,' angle:',compute_average_orientation(prox_list,dist_list)) # mean projection angle of all stem compartments off XZ-plane? -- needs to be restricted to local compartments e.g., apic\n"
   ]
  },
  {
   "cell_type": "code",
   "execution_count": null,
   "metadata": {},
   "outputs": [
    {
     "data": {
      "text/plain": [
       "('5576', 'Seg0_axon_0')"
      ]
     },
     "execution_count": 43,
     "metadata": {},
     "output_type": "execute_result"
    }
   ],
   "source": [
    "stem_id, name"
   ]
  },
  {
   "cell_type": "code",
   "execution_count": null,
   "metadata": {},
   "outputs": [
    {
     "data": {
      "text/plain": [
       "([<Element '{http://www.neuroml.org/schema/neuroml2}proximal' at 0x7fd966979c50>],\n",
       " [<Element '{http://www.neuroml.org/schema/neuroml2}distal' at 0x7fd966979cb0>])"
      ]
     },
     "execution_count": 44,
     "metadata": {},
     "output_type": "execute_result"
    }
   ],
   "source": [
    "prox_list, dist_list"
   ]
  },
  {
   "cell_type": "markdown",
   "metadata": {},
   "source": [
    "# Find all axon compartments"
   ]
  },
  {
   "cell_type": "code",
   "execution_count": null,
   "metadata": {},
   "outputs": [
    {
     "name": "stdout",
     "output_type": "stream",
     "text": [
      "{http://www.neuroml.org/schema/neuroml2}include {'segmentGroup': 'axon_0'}\n",
      "{http://www.neuroml.org/schema/neuroml2}include {'segmentGroup': 'axon_1'}\n"
     ]
    }
   ],
   "source": [
    "for child in comp_domains['axonal']:\n",
    "    print(child.tag,child.attrib)"
   ]
  },
  {
   "cell_type": "code",
   "execution_count": null,
   "metadata": {},
   "outputs": [],
   "source": [
    "domain = 'axonal'\n",
    "\n",
    "axon_groups = []\n",
    "\n",
    "for seg_group in comp_domains[domain]:\n",
    "    axon_groups.append(seg_group.attrib['segmentGroup'])"
   ]
  },
  {
   "cell_type": "code",
   "execution_count": null,
   "metadata": {},
   "outputs": [
    {
     "data": {
      "text/plain": [
       "['axon_0', 'axon_1']"
      ]
     },
     "execution_count": 47,
     "metadata": {},
     "output_type": "execute_result"
    }
   ],
   "source": [
    "axon_groups"
   ]
  },
  {
   "cell_type": "code",
   "execution_count": null,
   "metadata": {},
   "outputs": [],
   "source": [
    "axon_segments = {}\n",
    "\n",
    "for segment in morpho.findall('{http://www.neuroml.org/schema/neuroml2}segment'):\n",
    "    \n",
    "    # leverage standardized segment naming\n",
    "    seg_name = segment.attrib['name'].split('_')\n",
    "    this_group = seg_name[1]+'_'+seg_name[2]\n",
    "    \n",
    "    if this_group in axon_groups:\n",
    "        axon_segments.update({segment.attrib['id']:segment.attrib['name']})"
   ]
  },
  {
   "cell_type": "code",
   "execution_count": null,
   "metadata": {},
   "outputs": [
    {
     "data": {
      "text/plain": [
       "{'5576': 'Seg0_axon_0',\n",
       " '5577': 'Seg1_axon_0',\n",
       " '5578': 'Seg0_axon_1',\n",
       " '5579': 'Seg1_axon_1'}"
      ]
     },
     "execution_count": 49,
     "metadata": {},
     "output_type": "execute_result"
    }
   ],
   "source": [
    "axon_segments"
   ]
  },
  {
   "cell_type": "code",
   "execution_count": null,
   "metadata": {},
   "outputs": [],
   "source": [
    "stem_groups = [s.split('_')[1]+'_'+s.split('_')[2] for s in stems.values()]"
   ]
  },
  {
   "cell_type": "code",
   "execution_count": null,
   "metadata": {},
   "outputs": [
    {
     "data": {
      "text/plain": [
       "['apic_0',\n",
       " 'dend_89',\n",
       " 'dend_72',\n",
       " 'dend_61',\n",
       " 'dend_52',\n",
       " 'dend_43',\n",
       " 'dend_24',\n",
       " 'dend_15',\n",
       " 'dend_0',\n",
       " 'axon_0']"
      ]
     },
     "execution_count": 205,
     "metadata": {},
     "output_type": "execute_result"
    }
   ],
   "source": [
    "stem_groups"
   ]
  },
  {
   "cell_type": "code",
   "execution_count": null,
   "metadata": {},
   "outputs": [
    {
     "data": {
      "text/plain": [
       "44.6262"
      ]
     },
     "execution_count": 120,
     "metadata": {},
     "output_type": "execute_result"
    }
   ],
   "source": [
    "5.819410e+01-1.356790e+01 # apic_0 length - this is near the peak of the spatial prevalence of apical source"
   ]
  },
  {
   "cell_type": "code",
   "execution_count": null,
   "metadata": {},
   "outputs": [
    {
     "name": "stdout",
     "output_type": "stream",
     "text": [
      "3\n",
      "Seg0_axon_0\n",
      "... is stem or branch segment\n",
      "2\n",
      "Seg1_axon_0\n",
      "... is a middle segment\n",
      "3\n",
      "Seg0_axon_1\n",
      "... is stem or branch segment\n",
      "2\n",
      "Seg1_axon_1\n",
      "... is a middle segment\n"
     ]
    }
   ],
   "source": [
    "these_segments = axon_segments\n",
    "axon_length = 0\n",
    "axon_parents = {}\n",
    "\n",
    "# for compute domain-level props\n",
    "proximal_list = []\n",
    "distal_list = []\n",
    "\n",
    "for segment in morpho.findall('{http://www.neuroml.org/schema/neuroml2}segment'):\n",
    "    seg_id = segment.attrib['id']\n",
    "    seg_name = segment.attrib['name']\n",
    "\n",
    "    if seg_name in these_segments.values():\n",
    "        \n",
    "        print(len(segment))\n",
    "        print(seg_name)\n",
    "        if len(segment)==2:\n",
    "            print('... is a middle segment')\n",
    "        if len(segment)==3:\n",
    "            print('... is stem or branch segment')\n",
    "    \n",
    "        # all segments have parent id\n",
    "        parent_id = segment[0].attrib['segment']\n",
    "        \n",
    "        \n",
    "        # if not stem of soma, look at parent for proximal\n",
    "        if seg_name in stems.values(): # this will ignore branching -- NEED TO BE FIXED\n",
    "            \n",
    "            # parent is segment[0]\n",
    "            for seg_element in segment:\n",
    "                if 'proximal' in seg_element.tag:\n",
    "                    proximal = seg_element\n",
    "                if 'distal' in seg_element.tag:\n",
    "                    distal = seg_element\n",
    "            \n",
    "#             proximal = segment[1]\n",
    "#             distal = segment[2]\n",
    "        else:\n",
    "            # no proximal so distal is segment[1] for non-branch segments\n",
    "#             proximal = axon_parents[parent_id]\n",
    "#             distal = segment[1] # old\n",
    "            for seg_element in segment:\n",
    "                if 'proximal' in seg_element.tag:\n",
    "                    proximal = seg_element\n",
    "                elif 'distal' in seg_element.tag:\n",
    "                    distal = seg_element\n",
    "                else:\n",
    "                    proximal = axon_parents[parent_id]\n",
    "            \n",
    "            \n",
    "        proximal_list.append(proximal)\n",
    "        distal_list.append(distal)\n",
    "            \n",
    "        axon_parents.update({seg_id:distal})\n",
    "        \n",
    "        # test\n",
    "        axon_length += compute_segment_length(proximal,distal)\n",
    "        \n",
    "        "
   ]
  },
  {
   "cell_type": "code",
   "execution_count": null,
   "metadata": {},
   "outputs": [],
   "source": [
    "proximal"
   ]
  },
  {
   "cell_type": "code",
   "execution_count": null,
   "metadata": {},
   "outputs": [
    {
     "data": {
      "text/plain": [
       "True"
      ]
     },
     "execution_count": 179,
     "metadata": {},
     "output_type": "execute_result"
    }
   ],
   "source": [
    "'distal' in segment[1].tag"
   ]
  },
  {
   "cell_type": "code",
   "execution_count": null,
   "metadata": {},
   "outputs": [
    {
     "data": {
      "text/plain": [
       "60.000045658403835"
      ]
     },
     "execution_count": 180,
     "metadata": {},
     "output_type": "execute_result"
    }
   ],
   "source": [
    "axon_length # expected value is 60 um"
   ]
  },
  {
   "cell_type": "code",
   "execution_count": null,
   "metadata": {},
   "outputs": [
    {
     "data": {
      "text/plain": [
       "[<Element '{http://www.neuroml.org/schema/neuroml2}proximal' at 0x7fd966979c50>,\n",
       " <Element '{http://www.neuroml.org/schema/neuroml2}distal' at 0x7fd966979cb0>,\n",
       " <Element '{http://www.neuroml.org/schema/neuroml2}proximal' at 0x7fd9668814d0>,\n",
       " <Element '{http://www.neuroml.org/schema/neuroml2}distal' at 0x7fd966881530>]"
      ]
     },
     "execution_count": 181,
     "metadata": {},
     "output_type": "execute_result"
    }
   ],
   "source": [
    "# not all are prox, prox only exists for branches and \n",
    "# if not, proximal is taken to be the distal part of parent\n",
    "proximal_list # axon has 4 segments/2 compartments"
   ]
  },
  {
   "cell_type": "code",
   "execution_count": null,
   "metadata": {},
   "outputs": [
    {
     "data": {
      "text/plain": [
       "2"
      ]
     },
     "execution_count": 182,
     "metadata": {},
     "output_type": "execute_result"
    }
   ],
   "source": [
    "len(segment)"
   ]
  },
  {
   "cell_type": "code",
   "execution_count": null,
   "metadata": {},
   "outputs": [
    {
     "data": {
      "text/plain": [
       "[<Element '{http://www.neuroml.org/schema/neuroml2}distal' at 0x7fd966979cb0>,\n",
       " <Element '{http://www.neuroml.org/schema/neuroml2}distal' at 0x7fd966979dd0>,\n",
       " <Element '{http://www.neuroml.org/schema/neuroml2}distal' at 0x7fd966881530>,\n",
       " <Element '{http://www.neuroml.org/schema/neuroml2}distal' at 0x7fd966881650>]"
      ]
     },
     "execution_count": 183,
     "metadata": {},
     "output_type": "execute_result"
    }
   ],
   "source": [
    "distal_list"
   ]
  },
  {
   "cell_type": "code",
   "execution_count": null,
   "metadata": {},
   "outputs": [
    {
     "data": {
      "text/plain": [
       "{'y': '1.629010e+01',\n",
       " 'x': '8.358590e-01',\n",
       " 'z': '0.000000e+00',\n",
       " 'diameter': '1.830000e+00'}"
      ]
     },
     "execution_count": 184,
     "metadata": {},
     "output_type": "execute_result"
    }
   ],
   "source": [
    "proximal_list[0].attrib"
   ]
  },
  {
   "cell_type": "code",
   "execution_count": null,
   "metadata": {},
   "outputs": [
    {
     "data": {
      "text/plain": [
       "{'y': '6.128660e+01',\n",
       " 'x': '1.395830e+00',\n",
       " 'z': '0.000000e+00',\n",
       " 'diameter': '1.830000e+00'}"
      ]
     },
     "execution_count": 185,
     "metadata": {},
     "output_type": "execute_result"
    }
   ],
   "source": [
    "proximal_list[-1].attrib"
   ]
  },
  {
   "cell_type": "code",
   "execution_count": null,
   "metadata": {},
   "outputs": [],
   "source": [
    "x0, y0, z0 = np.float(proximal_list[0].attrib['x']), np.float(proximal_list[0].attrib['y']), np.float(proximal_list[0].attrib['z'])\n",
    "xf, yf, zf = np.float(distal_list[-1].attrib['x']), np.float(distal_list[-1].attrib['y']), np.float(distal_list[-1].attrib['z'])"
   ]
  },
  {
   "cell_type": "code",
   "execution_count": null,
   "metadata": {},
   "outputs": [
    {
     "data": {
      "text/plain": [
       "60.00004565840064"
      ]
     },
     "execution_count": 187,
     "metadata": {},
     "output_type": "execute_result"
    }
   ],
   "source": [
    "r = np.sqrt((xf-x0)**2 + (yf-y0)**2 + (zf-z0)**2)\n",
    "r"
   ]
  },
  {
   "cell_type": "code",
   "execution_count": null,
   "metadata": {},
   "outputs": [
    {
     "data": {
      "text/plain": [
       "59.995400000000004"
      ]
     },
     "execution_count": 188,
     "metadata": {},
     "output_type": "execute_result"
    }
   ],
   "source": [
    "yf-y0 # for projection onto y-axis"
   ]
  },
  {
   "cell_type": "code",
   "execution_count": null,
   "metadata": {},
   "outputs": [
    {
     "data": {
      "text/plain": [
       "88.14396333827916"
      ]
     },
     "execution_count": 189,
     "metadata": {},
     "output_type": "execute_result"
    }
   ],
   "source": [
    "compute_average_orientation(proximal_list,distal_list) # angle from XZ-plane\n"
   ]
  },
  {
   "cell_type": "markdown",
   "metadata": {},
   "source": [
    "# Find all apical compartments"
   ]
  },
  {
   "cell_type": "code",
   "execution_count": null,
   "metadata": {},
   "outputs": [
    {
     "name": "stdout",
     "output_type": "stream",
     "text": [
      "{http://www.neuroml.org/schema/neuroml2}include {'segmentGroup': 'apic_0'}\n",
      "{http://www.neuroml.org/schema/neuroml2}include {'segmentGroup': 'apic_1'}\n",
      "{http://www.neuroml.org/schema/neuroml2}include {'segmentGroup': 'apic_2'}\n",
      "{http://www.neuroml.org/schema/neuroml2}include {'segmentGroup': 'apic_3'}\n",
      "{http://www.neuroml.org/schema/neuroml2}include {'segmentGroup': 'apic_4'}\n",
      "{http://www.neuroml.org/schema/neuroml2}include {'segmentGroup': 'apic_5'}\n",
      "{http://www.neuroml.org/schema/neuroml2}include {'segmentGroup': 'apic_6'}\n",
      "{http://www.neuroml.org/schema/neuroml2}include {'segmentGroup': 'apic_7'}\n",
      "{http://www.neuroml.org/schema/neuroml2}include {'segmentGroup': 'apic_8'}\n",
      "{http://www.neuroml.org/schema/neuroml2}include {'segmentGroup': 'apic_9'}\n",
      "{http://www.neuroml.org/schema/neuroml2}include {'segmentGroup': 'apic_10'}\n",
      "...\n"
     ]
    }
   ],
   "source": [
    "for i, child in enumerate(comp_domains['apical']):\n",
    "    print(child.tag,child.attrib)\n",
    "    \n",
    "    if i==10:\n",
    "        print('...')\n",
    "        break"
   ]
  },
  {
   "cell_type": "code",
   "execution_count": null,
   "metadata": {},
   "outputs": [],
   "source": [
    "apical_groups = get_domain_groups('apical',comp_domains)"
   ]
  },
  {
   "cell_type": "code",
   "execution_count": null,
   "metadata": {},
   "outputs": [
    {
     "data": {
      "text/plain": [
       "(-155, 155, 50)"
      ]
     },
     "execution_count": 69,
     "metadata": {},
     "output_type": "execute_result"
    }
   ],
   "source": [
    "y_lb, y_ub, rad_ub"
   ]
  },
  {
   "cell_type": "code",
   "execution_count": null,
   "metadata": {},
   "outputs": [],
   "source": [
    "apical_init_groups = [group for group in apical_groups if group in stem_groups]"
   ]
  },
  {
   "cell_type": "code",
   "execution_count": null,
   "metadata": {},
   "outputs": [
    {
     "data": {
      "text/plain": [
       "['apic_0']"
      ]
     },
     "execution_count": 207,
     "metadata": {},
     "output_type": "execute_result"
    }
   ],
   "source": [
    "apical_init_groups"
   ]
  },
  {
   "cell_type": "code",
   "execution_count": null,
   "metadata": {},
   "outputs": [],
   "source": [
    "# get apical segments within cylindrical bounds\n",
    "# apical_segments = get_domain_segments(morpho,apical_groups,bounds=[[y_lb,y_ub],rad_ub])\n",
    "\n",
    "upper_apical_segments = get_domain_segments(morpho,apical_init_groups,bounds=[[0,np.inf],np.inf])\n",
    "lower_apical_segments = get_domain_segments(morpho,apical_init_groups,bounds=[[-np.inf,0],np.inf])\n"
   ]
  },
  {
   "cell_type": "code",
   "execution_count": null,
   "metadata": {},
   "outputs": [
    {
     "data": {
      "text/plain": [
       "{'2613': 'Seg0_apic_0',\n",
       " '2614': 'Seg1_apic_0',\n",
       " '2615': 'Seg2_apic_0',\n",
       " '2616': 'Seg3_apic_0',\n",
       " '2617': 'Seg4_apic_0',\n",
       " '2618': 'Seg5_apic_0',\n",
       " '2619': 'Seg6_apic_0',\n",
       " '2620': 'Seg7_apic_0',\n",
       " '2621': 'Seg8_apic_0',\n",
       " '2622': 'Seg9_apic_0',\n",
       " '2623': 'Seg10_apic_0',\n",
       " '2624': 'Seg11_apic_0',\n",
       " '2625': 'Seg12_apic_0',\n",
       " '2626': 'Seg13_apic_0'}"
      ]
     },
     "execution_count": 210,
     "metadata": {},
     "output_type": "execute_result"
    }
   ],
   "source": [
    "upper_apical_segments"
   ]
  },
  {
   "cell_type": "code",
   "execution_count": null,
   "metadata": {},
   "outputs": [
    {
     "data": {
      "text/plain": [
       "{}"
      ]
     },
     "execution_count": 211,
     "metadata": {},
     "output_type": "execute_result"
    }
   ],
   "source": [
    "lower_apical_segments"
   ]
  },
  {
   "cell_type": "code",
   "execution_count": null,
   "metadata": {},
   "outputs": [],
   "source": [
    "apical_segments = upper_apical_segments"
   ]
  },
  {
   "cell_type": "raw",
   "metadata": {},
   "source": [
    "# check if reduced length\n",
    "len(get_domain_segments(morpho,apical_groups,bounds=None))"
   ]
  },
  {
   "cell_type": "code",
   "execution_count": null,
   "metadata": {},
   "outputs": [
    {
     "name": "stdout",
     "output_type": "stream",
     "text": [
      "Removed 0 segments from list...\n"
     ]
    }
   ],
   "source": [
    "proximal_list, distal_list = get_segment_coord_lists(apical_segments,morpho,stems,verbose=True)"
   ]
  },
  {
   "cell_type": "code",
   "execution_count": null,
   "metadata": {},
   "outputs": [
    {
     "data": {
      "text/plain": [
       "47.16487921119917"
      ]
     },
     "execution_count": 214,
     "metadata": {},
     "output_type": "execute_result"
    }
   ],
   "source": [
    "compute_average_orientation(proximal_list,distal_list) "
   ]
  },
  {
   "cell_type": "raw",
   "metadata": {},
   "source": [
    "compute_CV_orientation(proximal_list,distal_list)"
   ]
  },
  {
   "cell_type": "code",
   "execution_count": null,
   "metadata": {},
   "outputs": [
    {
     "data": {
      "text/plain": [
       "7018.904031230538"
      ]
     },
     "execution_count": 100,
     "metadata": {},
     "output_type": "execute_result"
    }
   ],
   "source": [
    "compute_total_length(proximal_list,distal_list)"
   ]
  },
  {
   "cell_type": "code",
   "execution_count": null,
   "metadata": {},
   "outputs": [
    {
     "data": {
      "text/plain": [
       "351968.22404781164"
      ]
     },
     "execution_count": 101,
     "metadata": {},
     "output_type": "execute_result"
    }
   ],
   "source": [
    "compute_average_distance(distal_list)"
   ]
  },
  {
   "cell_type": "markdown",
   "metadata": {},
   "source": [
    "# Find all basal compartments"
   ]
  },
  {
   "cell_type": "code",
   "execution_count": null,
   "metadata": {},
   "outputs": [
    {
     "name": "stdout",
     "output_type": "stream",
     "text": [
      "{http://www.neuroml.org/schema/neuroml2}include {'segmentGroup': 'dend_0'}\n",
      "{http://www.neuroml.org/schema/neuroml2}include {'segmentGroup': 'dend_1'}\n",
      "{http://www.neuroml.org/schema/neuroml2}include {'segmentGroup': 'dend_2'}\n",
      "{http://www.neuroml.org/schema/neuroml2}include {'segmentGroup': 'dend_3'}\n",
      "{http://www.neuroml.org/schema/neuroml2}include {'segmentGroup': 'dend_4'}\n",
      "{http://www.neuroml.org/schema/neuroml2}include {'segmentGroup': 'dend_5'}\n",
      "{http://www.neuroml.org/schema/neuroml2}include {'segmentGroup': 'dend_6'}\n",
      "{http://www.neuroml.org/schema/neuroml2}include {'segmentGroup': 'dend_7'}\n",
      "{http://www.neuroml.org/schema/neuroml2}include {'segmentGroup': 'dend_8'}\n",
      "{http://www.neuroml.org/schema/neuroml2}include {'segmentGroup': 'dend_9'}\n",
      "{http://www.neuroml.org/schema/neuroml2}include {'segmentGroup': 'dend_10'}\n",
      "...\n"
     ]
    }
   ],
   "source": [
    "for i, child in enumerate(comp_domains['basal']):\n",
    "    print(child.tag,child.attrib)\n",
    "    \n",
    "    if i==10:\n",
    "        print('...')\n",
    "        break"
   ]
  },
  {
   "cell_type": "code",
   "execution_count": null,
   "metadata": {},
   "outputs": [
    {
     "name": "stdout",
     "output_type": "stream",
     "text": [
      "Removed 0 segments from list...\n"
     ]
    }
   ],
   "source": [
    "basal_groups = get_domain_groups('basal',comp_domains)\n",
    "# basal_segments = get_domain_segments(morpho,basal_groups,bounds=[[y_lb,y_ub],rad_ub])\n",
    "basal_segments = get_domain_segments(morpho,basal_groups,bounds=None)\n",
    "proximal_list, distal_list = get_segment_coord_lists(basal_segments,morpho,stems,verbose=True)"
   ]
  },
  {
   "cell_type": "markdown",
   "metadata": {},
   "source": [
    "## Stem end stuff"
   ]
  },
  {
   "cell_type": "code",
   "execution_count": null,
   "metadata": {},
   "outputs": [],
   "source": [
    "# compute max extent for the different compartment domains\n",
    "seg_ends = []\n",
    "lower_segs = []\n",
    "for seg, distal_end in zip(basal_segments.items(),distal_list):\n",
    "    y = np.float(distal_end.attrib['y'])\n",
    "    seg_ends.append(y)\n",
    "    \n",
    "    if y<0: lower_segs.append(seg)\n",
    "    \n",
    "upper_y_dist, lower_y_dist = np.max(seg_ends), np.min(seg_ends)\n",
    "\n"
   ]
  },
  {
   "cell_type": "code",
   "execution_count": null,
   "metadata": {},
   "outputs": [
    {
     "data": {
      "text/plain": [
       "(153.113, -257.129)"
      ]
     },
     "execution_count": 367,
     "metadata": {},
     "output_type": "execute_result"
    }
   ],
   "source": [
    "upper_y_dist, lower_y_dist"
   ]
  },
  {
   "cell_type": "code",
   "execution_count": null,
   "metadata": {},
   "outputs": [],
   "source": [
    "def get_domain_locs(comp_domains,morpho,stems,which_domain='basal'):\n",
    "    \n",
    "    \n",
    "    domain_groups = get_domain_groups(which_domain,comp_domains)\n",
    "    domain_segments = get_domain_segments(morpho,domain_groups,bounds=None)\n",
    "    proximal_list, distal_list = get_segment_coord_lists(domain_segments,morpho,stems,verbose=False)\n",
    "    \n",
    "    locs = np.zeros(len(proximal_list),3)\n",
    "    diams = np.zeros(len(proximal))\n",
    "    \n",
    "    for i, (prox_end,distal_end) in enumerate(zip(proximal_list,distal_list)):\n",
    "        xd, yd, zd = float(distal_end.attrib['x']),float(distal_end.attrib['y']),float(distal_end.attrib['z'])\n",
    "        xp, yp, zp = float(prox_end.attrib['x']),float(prox_end.attrib['y']),float(prox_end.attrib['z'])\n",
    "\n",
    "        locs[i,0], locs[i,1], locs[i,2] = (xd-xp)/2.,(yd-yp)/2.,(zd-zp)/2.\n",
    "\n",
    "        diams[i] = float(prox_end.attrib['diameter'])\n",
    "    \n",
    "    \n",
    "    return locs, diams"
   ]
  },
  {
   "cell_type": "code",
   "execution_count": null,
   "metadata": {},
   "outputs": [],
   "source": [
    "def get_stem_terminal_metrics(comp_domains,morpho,stems,which_stem_domain='basal',soma_center=0):\n",
    "    \"\"\"\n",
    "        Only meant for basal or non-basal/apical.\n",
    "    \"\"\"\n",
    "    \n",
    "    stem_domains = [s.split('_')[1]+'_'+s.split('_')[2] for s in stems.values()]\n",
    "    \n",
    "    stem_groups = get_domain_groups(which_stem_domain,comp_domains)\n",
    "    stem_segments = get_domain_segments(morpho,stem_groups,bounds=None)\n",
    "    terminal_segs = get_terminal_segments(morpho,comp_domains,which_domain=which_stem_domain)\n",
    "    \n",
    "    proximal_list, distal_list = get_terminal_coord_lists(terminal_segs,stem_segments,morpho,stems,verbose=False)\n",
    "    \n",
    "    \n",
    "  \n",
    "    lower_yfs = []\n",
    "    lower_xzfs = []\n",
    "    upper_yfs = []\n",
    "    upper_xzfs = []\n",
    "    upper_angles = []\n",
    "    lower_angles = []\n",
    "\n",
    "    for seg, distal_end, prox_end in zip(terminal_segs.items(),distal_list,proximal_list):\n",
    "        xd, yd, zd = float(distal_end.attrib['x']),float(distal_end.attrib['y']),float(distal_end.attrib['z'])\n",
    "        xp, yp, zp = float(prox_end.attrib['x']),float(prox_end.attrib['y']),float(prox_end.attrib['z'])\n",
    "        \n",
    "        \n",
    "        # project all segments onto XZ-plane\n",
    "        dist_xz = np.sqrt(np.square(xd)**2 + np.square(zd)**2)\n",
    "\n",
    "        # compute signed angle in radians\n",
    "        dist_y = yd\n",
    "        angle = np.arctan2(dist_y,dist_xz)\n",
    "\n",
    "        \n",
    "\n",
    "        if yp<soma_center: \n",
    "            lower_yfs.append(yd)\n",
    "            lower_angles.append(angle)\n",
    "            lower_xzfs.append(dist_xz)\n",
    "\n",
    "        else: \n",
    "            upper_yfs.append(yd)\n",
    "            upper_angles.append(angle)\n",
    "            upper_xzfs.append(dist_xz)\n",
    "\n",
    "\n",
    "\n",
    "    return lower_yfs, lower_xzfs, upper_yfs, upper_xzfs, [circmean(lower_angles),circmean(upper_angles),np.mean(lower_yfs),np.mean(upper_yfs)]\n",
    "\n"
   ]
  },
  {
   "cell_type": "code",
   "execution_count": null,
   "metadata": {},
   "outputs": [],
   "source": [
    "def get_terminal_segments(morpho,comp_domains,which_domain='basal',verbose=False):\n",
    "    \n",
    "    domain_groups = get_domain_groups(which_domain,comp_domains)\n",
    "    domain_segments = get_domain_segments(morpho,domain_groups,bounds=None)\n",
    "    \n",
    "    no_children = domain_segments.copy()\n",
    "    \n",
    "    \n",
    "    for segment in morpho.findall('{http://www.neuroml.org/schema/neuroml2}segment'):\n",
    "        seg_id = segment.attrib['id']\n",
    "        seg_name = segment.attrib['name']\n",
    "\n",
    "        \n",
    "        # find parents\n",
    "        if seg_name in domain_segments.values():\n",
    "            parent_id = segment[0].attrib['segment'] \n",
    "            \n",
    "            # if it is a parent, then remove it\n",
    "            try:\n",
    "                no_children.pop(parent_id)\n",
    "            except KeyError:\n",
    "                if verbose: print('Parent is not in %s domain.'%which_domain)\n",
    "            \n",
    "    return no_children"
   ]
  },
  {
   "cell_type": "code",
   "execution_count": null,
   "metadata": {},
   "outputs": [],
   "source": [
    "def get_terminal_coord_lists(terminal_segments,domain_segments,morpho,stems,verbose=False):\n",
    "    segment_parents = {}\n",
    "    no_parent = {}\n",
    "\n",
    "    # for compute domain-level props\n",
    "    proximal_list = []\n",
    "    distal_list = []\n",
    "\n",
    "    for segment in morpho.findall('{http://www.neuroml.org/schema/neuroml2}segment'):\n",
    "        seg_id = segment.attrib['id']\n",
    "        seg_name = segment.attrib['name']\n",
    "\n",
    "\n",
    "        if seg_name in domain_segments.values():\n",
    "\n",
    "            parent_id = segment[0].attrib['segment']\n",
    "\n",
    "            # if not stem of soma, look at parent for proximal\n",
    "            if seg_name in stems.values():\n",
    "\n",
    "                # parent is segment[0]\n",
    "                proximal = segment[1]\n",
    "                distal = segment[2]\n",
    "                \n",
    "                segment_parents.update({seg_id:distal})\n",
    "            else:\n",
    "                # no proximal so distal is segment[1]\n",
    "                distal = segment[1]\n",
    "                segment_parents.update({seg_id:distal})\n",
    "                \n",
    "                # sometimes parent segment is out of bounds so not included\n",
    "                try:\n",
    "                    proximal = segment_parents[parent_id]\n",
    "            \n",
    "                except KeyError:\n",
    "                    no_parent.update({seg_id:{}})\n",
    "                    no_parent[seg_id].update({'Name':seg_name})\n",
    "                    no_parent[seg_id].update({'Parent ID':parent_id})\n",
    "                    \n",
    "                    # don't append anything to list\n",
    "                    continue\n",
    "            \n",
    "            if seg_name in terminal_segments.values():\n",
    "                proximal_list.append(proximal)\n",
    "                distal_list.append(distal)\n",
    "                \n",
    "    return proximal_list,distal_list"
   ]
  },
  {
   "cell_type": "code",
   "execution_count": null,
   "metadata": {},
   "outputs": [],
   "source": [
    "axon_groups = get_domain_groups('axonal',comp_domains)\n",
    "axon_segments = get_domain_segments(morpho,axon_groups,bounds=None)\n"
   ]
  },
  {
   "cell_type": "code",
   "execution_count": null,
   "metadata": {},
   "outputs": [
    {
     "data": {
      "text/plain": [
       "{'5576': 'Seg0_axon_0',\n",
       " '5577': 'Seg1_axon_0',\n",
       " '5578': 'Seg0_axon_1',\n",
       " '5579': 'Seg1_axon_1'}"
      ]
     },
     "execution_count": 698,
     "metadata": {},
     "output_type": "execute_result"
    }
   ],
   "source": [
    "axon_segments"
   ]
  },
  {
   "cell_type": "code",
   "execution_count": null,
   "metadata": {},
   "outputs": [],
   "source": [
    "axon_terminal_segs = get_terminal_segments(morpho,comp_domains,which_domain='axonal')"
   ]
  },
  {
   "cell_type": "code",
   "execution_count": null,
   "metadata": {},
   "outputs": [
    {
     "data": {
      "text/plain": [
       "{'5579': 'Seg1_axon_1'}"
      ]
     },
     "execution_count": 711,
     "metadata": {},
     "output_type": "execute_result"
    }
   ],
   "source": [
    "axon_terminal_segs"
   ]
  },
  {
   "cell_type": "code",
   "execution_count": null,
   "metadata": {},
   "outputs": [],
   "source": [
    "proximal_list, distal_list = get_terminal_coord_lists(axon_terminal_segs,axon_segments,morpho,stems,verbose=False)"
   ]
  },
  {
   "cell_type": "code",
   "execution_count": null,
   "metadata": {},
   "outputs": [],
   "source": [
    "xp,yp,zp = float(proximal_list[0].attrib['x']),float(proximal_list[0].attrib['y']),float(proximal_list[0].attrib['z'])"
   ]
  },
  {
   "cell_type": "code",
   "execution_count": null,
   "metadata": {},
   "outputs": [],
   "source": [
    "xd,yd,zd = float(distal_list[-1].attrib['x']),float(distal_list[-1].attrib['y']),float(distal_list[-1].attrib['z'])"
   ]
  },
  {
   "cell_type": "code",
   "execution_count": null,
   "metadata": {},
   "outputs": [],
   "source": [
    "r = np.sqrt((xd-xp)**2 + (yd-yp)**2 + (zd-zp)**2)"
   ]
  },
  {
   "cell_type": "code",
   "execution_count": null,
   "metadata": {},
   "outputs": [
    {
     "data": {
      "text/plain": [
       "30.00002288519794"
      ]
     },
     "execution_count": 714,
     "metadata": {},
     "output_type": "execute_result"
    }
   ],
   "source": [
    "compute_total_length(proximal_list,distal_list)"
   ]
  },
  {
   "cell_type": "code",
   "execution_count": null,
   "metadata": {},
   "outputs": [],
   "source": [
    "def compute_average_relative_orientation(all_prox,all_dist,rads=False):\n",
    "    \n",
    "    dist_xs = np.zeros(len(all_dist))\n",
    "    dist_ys = np.zeros(len(all_dist))\n",
    "    dist_zs = np.zeros(len(all_dist))\n",
    "    \n",
    "    # shift to origin\n",
    "#     x0, y0, z0 = float(all_prox[0].attrib['x']), float(all_prox[0].attrib['y']), float(all_prox[0].attrib['z'])\n",
    "    \n",
    "    for i, (prox,dist) in enumerate(zip(all_prox,all_dist)):\n",
    "        x0,y0,z0 = float(prox.attrib['x']),float(prox.attrib['y']),float(prox.attrib['z'])\n",
    "        dist_xs[i], dist_ys[i], dist_zs[i] = float(dist.attrib['x'])-x0,float(dist.attrib['y'])-y0,float(dist.attrib['z'])-z0\n",
    "        \n",
    "        \n",
    "    # project all segments onto XZ-plane\n",
    "    dist_xzs = np.sqrt(np.square(dist_xs)+ np.square(dist_zs))\n",
    "    \n",
    "    # compute signed angle in radians\n",
    "    all_angles = np.arctan2(dist_ys,dist_xzs)\n",
    "    \n",
    "    # circular average\n",
    "    mean = circmean(all_angles)\n",
    "    \n",
    "    if not rads:\n",
    "        mean = np.degrees(mean)\n",
    "\n",
    "    return mean"
   ]
  },
  {
   "cell_type": "code",
   "execution_count": null,
   "metadata": {},
   "outputs": [],
   "source": [
    "axon_init_angle = compute_average_orientation(proximal_list,distal_list,rads=True)"
   ]
  },
  {
   "cell_type": "code",
   "execution_count": null,
   "metadata": {},
   "outputs": [
    {
     "data": {
      "text/plain": [
       "1.5379804496013643"
      ]
     },
     "execution_count": 726,
     "metadata": {},
     "output_type": "execute_result"
    }
   ],
   "source": [
    "axon_init_angle"
   ]
  },
  {
   "cell_type": "code",
   "execution_count": null,
   "metadata": {},
   "outputs": [
    {
     "data": {
      "text/plain": [
       "1.5583520151006183"
      ]
     },
     "execution_count": 738,
     "metadata": {},
     "output_type": "execute_result"
    }
   ],
   "source": [
    "compute_average_relative_orientation(proximal_list,distal_list,rads=True) # slightly bigger when shifted to origin"
   ]
  },
  {
   "cell_type": "code",
   "execution_count": null,
   "metadata": {},
   "outputs": [
    {
     "data": {
      "text/plain": [
       "(0.49603885256095864, 0.4895543818655055)"
      ]
     },
     "execution_count": 739,
     "metadata": {},
     "output_type": "execute_result"
    }
   ],
   "source": [
    "1.5583520151006183/np.pi, 1.5379804496013643/np.pi"
   ]
  },
  {
   "cell_type": "code",
   "execution_count": null,
   "metadata": {},
   "outputs": [
    {
     "data": {
      "text/plain": [
       "(29.983871095477973, 0.9843003820788786)"
      ]
     },
     "execution_count": 725,
     "metadata": {},
     "output_type": "execute_result"
    }
   ],
   "source": [
    "r*np.sin(axon_init_angle)"
   ]
  },
  {
   "cell_type": "code",
   "execution_count": null,
   "metadata": {},
   "outputs": [],
   "source": [
    "def get_domain_extent(comp_domains,morpho,stems,which_domain='basal',soma_center=0):\n",
    "    \n",
    "    these_groups = get_domain_groups(which_domain,comp_domains)\n",
    "    these_segments = get_domain_segments(morpho,these_groups,bounds=None)\n",
    "    proximal_list, distal_list = get_segment_coord_lists(these_segments,morpho,stems,verbose=False)\n",
    "\n",
    "\n",
    "    # compute max extent for the different compartment domains\n",
    "    dist_seg_ends = []\n",
    "    prox_seg_ends = []\n",
    "    lower_segs = []\n",
    "    upper_segs = []\n",
    "    for seg, distal_end, prox_end in zip(these_segments.items(),distal_list,proximal_list):\n",
    "        yd = np.float(distal_end.attrib['y'])\n",
    "        yp = np.float(prox_end.attrib['y'])\n",
    "        \n",
    "        \n",
    "        dist_seg_ends.append(yd)\n",
    "        prox_seg_ends.append(yp)\n",
    "\n",
    "        if yp<soma_center: lower_segs.append(seg)\n",
    "        else: upper_segs.append(seg)\n",
    "            \n",
    "            \n",
    "\n",
    "    upper_y_dist, lower_y_dist = np.max(dist_seg_ends), np.min(dist_seg_ends)\n",
    "    return upper_y_dist,lower_y_dist"
   ]
  },
  {
   "cell_type": "code",
   "execution_count": null,
   "metadata": {},
   "outputs": [],
   "source": [
    "axon_y_ub, axon_y_lb = get_domain_extent(comp_domains,morpho,stems,\n",
    "                                            which_domain='axonal')"
   ]
  },
  {
   "cell_type": "code",
   "execution_count": null,
   "metadata": {},
   "outputs": [
    {
     "data": {
      "text/plain": [
       "76.2855"
      ]
     },
     "execution_count": 710,
     "metadata": {},
     "output_type": "execute_result"
    }
   ],
   "source": [
    "axon_y_ub"
   ]
  },
  {
   "cell_type": "code",
   "execution_count": null,
   "metadata": {},
   "outputs": [],
   "source": []
  },
  {
   "cell_type": "code",
   "execution_count": null,
   "metadata": {},
   "outputs": [],
   "source": []
  },
  {
   "cell_type": "code",
   "execution_count": null,
   "metadata": {},
   "outputs": [],
   "source": [
    "basal_groups = get_domain_groups('basal',comp_domains)\n",
    "basal_segments = get_domain_segments(morpho,basal_groups,bounds=None)"
   ]
  },
  {
   "cell_type": "code",
   "execution_count": null,
   "metadata": {},
   "outputs": [],
   "source": [
    "basal_terminal_segs = get_terminal_segments(morpho,comp_domains,which_domain='basal')"
   ]
  },
  {
   "cell_type": "code",
   "execution_count": null,
   "metadata": {},
   "outputs": [
    {
     "data": {
      "text/plain": [
       "[('943', 'Seg146_dend_42'),\n",
       " ('2612', 'Seg3_dend_95'),\n",
       " ('2608', 'Seg0_dend_94'),\n",
       " ('2580', 'Seg4_dend_92'),\n",
       " ('2575', 'Seg0_dend_91')]"
      ]
     },
     "execution_count": 687,
     "metadata": {},
     "output_type": "execute_result"
    }
   ],
   "source": [
    "list(basal_terminal_segs.items())[:5]"
   ]
  },
  {
   "cell_type": "code",
   "execution_count": null,
   "metadata": {},
   "outputs": [],
   "source": [
    "proximal_list, distal_list = get_terminal_coord_lists(basal_terminal_segs,basal_segments,morpho,stems,verbose=False)"
   ]
  },
  {
   "cell_type": "code",
   "execution_count": null,
   "metadata": {},
   "outputs": [],
   "source": [
    "# compute max extent for the different compartment domains\n",
    "these_segments = basal_terminal_segs\n",
    "\n",
    "dist_seg_ends = []\n",
    "prox_seg_ends = []\n",
    "lower_segs = []\n",
    "lower_yfs = []\n",
    "upper_segs = []\n",
    "upper_yfs = []\n",
    "for seg, distal_end, prox_end in zip(these_segments.items(),distal_list,proximal_list):\n",
    "    yd = np.float(distal_end.attrib['y'])\n",
    "    yp = np.float(prox_end.attrib['y'])\n",
    "\n",
    "\n",
    "    dist_seg_ends.append(yd)\n",
    "    prox_seg_ends.append(yp)\n",
    "\n",
    "    if yp<soma_center: \n",
    "        lower_segs.append(seg)\n",
    "        lower_yfs.append(yd)\n",
    "        \n",
    "    else: \n",
    "        upper_segs.append(seg)\n",
    "        upper_yfs.append(yd)\n",
    "\n",
    "\n",
    "\n"
   ]
  },
  {
   "cell_type": "code",
   "execution_count": null,
   "metadata": {},
   "outputs": [
    {
     "data": {
      "image/png": "[encoded data removed]",
      "text/plain": [
       "<Figure size 216x720 with 1 Axes>"
      ]
     },
     "metadata": {
      "needs_background": "light"
     },
     "output_type": "display_data"
    }
   ],
   "source": [
    "plt.figure(figsize=(3,10))\n",
    "plt.plot(np.sort(upper_yfs),'o-')\n",
    "plt.yticks(np.arange(0,1250,50));"
   ]
  },
  {
   "cell_type": "code",
   "execution_count": null,
   "metadata": {},
   "outputs": [
    {
     "data": {
      "text/plain": [
       "(629.2688891304348, 314.6344445652174)"
      ]
     },
     "execution_count": 668,
     "metadata": {},
     "output_type": "execute_result"
    }
   ],
   "source": [
    "np.mean(upper_yfs), np.mean(upper_yfs)/2 # average extent and mid-point"
   ]
  },
  {
   "cell_type": "code",
   "execution_count": null,
   "metadata": {},
   "outputs": [
    {
     "data": {
      "text/plain": [
       "(-76.6223, -38.31115)"
      ]
     },
     "execution_count": 669,
     "metadata": {},
     "output_type": "execute_result"
    }
   ],
   "source": [
    "np.mean(lower_yfs), np.mean(lower_yfs)/2 # average extent and mid-point"
   ]
  },
  {
   "cell_type": "code",
   "execution_count": null,
   "metadata": {},
   "outputs": [],
   "source": [
    "basal_term_metrics = get_stem_terminal_metrics(comp_domains,morpho,stems,which_stem_domain='basal',soma_center=0)"
   ]
  },
  {
   "cell_type": "code",
   "execution_count": null,
   "metadata": {},
   "outputs": [
    {
     "data": {
      "text/plain": [
       "[<matplotlib.lines.Line2D at 0x7fd95a450b50>]"
      ]
     },
     "execution_count": 690,
     "metadata": {},
     "output_type": "execute_result"
    },
    {
     "data": {
      "image/png": "[encoded data removed]",
      "text/plain": [
       "<Figure size 216x720 with 1 Axes>"
      ]
     },
     "metadata": {
      "needs_background": "light"
     },
     "output_type": "display_data"
    }
   ],
   "source": [
    "plt.figure(figsize=(3,10))\n",
    "upper_yfs = basal_term_metrics[2]\n",
    "plt.plot(np.sort(upper_yfs),'o-')\n",
    "# plt.yticks(np.arange(0,1250,50));"
   ]
  },
  {
   "cell_type": "markdown",
   "metadata": {},
   "source": [
    "## Stem root stuff"
   ]
  },
  {
   "cell_type": "code",
   "execution_count": null,
   "metadata": {},
   "outputs": [],
   "source": [
    "basal_init_groups = [group for group in basal_groups if group in stem_groups]"
   ]
  },
  {
   "cell_type": "code",
   "execution_count": null,
   "metadata": {},
   "outputs": [
    {
     "data": {
      "text/plain": [
       "(['dend_0',\n",
       "  'dend_15',\n",
       "  'dend_24',\n",
       "  'dend_43',\n",
       "  'dend_52',\n",
       "  'dend_61',\n",
       "  'dend_72',\n",
       "  'dend_89'],\n",
       " 8)"
      ]
     },
     "execution_count": 366,
     "metadata": {},
     "output_type": "execute_result"
    }
   ],
   "source": [
    "basal_init_groups, len(basal_init_groups)"
   ]
  },
  {
   "cell_type": "code",
   "execution_count": null,
   "metadata": {},
   "outputs": [],
   "source": [
    "def get_stem_root_metrics(comp_domains,morpho,stems,which_stem_domain='basal',soma_center=0,divide_by='loc'):\n",
    "    \"\"\"\n",
    "        Only meant for basal or non-basal/apical.\n",
    "    \"\"\"\n",
    "    stem_domains = [s.split('_')[1]+'_'+s.split('_')[2] for s in stems.values()]\n",
    "    \n",
    "    stem_groups = get_domain_groups(which_stem_domain,comp_domains)\n",
    "    stem_init_groups = [group for group in stem_groups if group in stem_domains] # does it belong to the stem root\n",
    "    \n",
    "    \n",
    "    # to get average length, need to iterate through the initial segments\n",
    "    root_lengths = []\n",
    "    root_dists = []\n",
    "    root_angles = []\n",
    "    root_yis = []\n",
    "    root_yfs = []\n",
    "    root_xzis = []\n",
    "    root_xzfs = []\n",
    "    root_abs_ys = []\n",
    "\n",
    "    for group in stem_init_groups:\n",
    "\n",
    "        reduced_segments = get_domain_segments(morpho,[group],bounds=None) \n",
    "        proximal_list, distal_list = get_segment_coord_lists(reduced_segments,morpho,stems,verbose=False)\n",
    "\n",
    "        if len(proximal_list):\n",
    "            xi,yi,zi = np.float(proximal_list[0].attrib['x']),np.float(proximal_list[0].attrib['y']),np.float(proximal_list[0].attrib['z'])\n",
    "            xf,yf,zf = np.float(distal_list[-1].attrib['x']),np.float(distal_list[-1].attrib['y']),np.float(distal_list[-1].attrib['z'])                                                          \n",
    "\n",
    "            root_yis.append(yi) # root y pos\n",
    "            root_yfs.append(yf)\n",
    "            root_xzis.append(np.sqrt(xi**2+zi**2)) # root xz pos\n",
    "            root_xzfs.append(np.sqrt(xf**2+zf**2)) # root xz pos\n",
    "            root_abs_ys.append(yf-yi) # root y extent\n",
    "\n",
    "            L = np.sqrt((xf-xi)**2 + (yf-yi)**2 + (zf-zi)**2) # root extent\n",
    "            root_dists.append(L)\n",
    "\n",
    "            root_lengths.append(compute_total_length(proximal_list,distal_list)) # root length\n",
    "            root_angles.append(compute_average_orientation(proximal_list,distal_list)) # root angle\n",
    "    \n",
    "    \n",
    "    # divide into upper and lower based on projection angle or location \n",
    "    if divide_by == 'angle':\n",
    "        upper_angle =  circmean([radians(angle) for angle in root_angles if angle<180])\n",
    "        lower_angle =  circmean([radians(angle) for angle in root_angles if angle>180])\n",
    "    if divide_by == 'loc':\n",
    "        upper_angle =  circmean([radians(angle) for angle,yi in zip(root_angles,root_yis) if yi>soma_center])\n",
    "        lower_angle =  circmean([radians(angle) for angle,yi in zip(root_angles,root_yis) if yi<soma_center])\n",
    "        \n",
    "    if divide_by == 'angle':\n",
    "        upper_length =  np.mean([length for length, angle in zip(root_lengths,root_angles) if angle<180])\n",
    "        lower_length =  np.mean([length for length, angle in zip(root_lengths,root_angles) if angle>180])\n",
    "    if divide_by == 'loc':\n",
    "        upper_length = np.mean([length for length,yi in zip(root_lengths,root_yis) if yi>soma_center])\n",
    "        lower_length = np.mean([length for length,yi in zip(root_lengths,root_yis) if yi<soma_center])\n",
    "    \n",
    "    if divide_by == 'angle':\n",
    "        upper_dist = np.mean([dist for dist, angle in zip(root_dists,root_angles) if angle<180])\n",
    "        lower_dist = np.mean([dist for dist, angle in zip(root_dists,root_angles) if angle>180])\n",
    "    if divide_by == 'loc':\n",
    "        upper_dist = np.mean([dist for dist,yi in zip(root_dists,root_yis) if yi>soma_center])\n",
    "        lower_dist = np.mean([dist for dist,yi in zip(root_dists,root_yis) if yi<soma_center])\n",
    "        \n",
    "    if divide_by == 'angle':\n",
    "        upper_y_dist = np.mean([dist for dist, angle in zip(root_abs_ys,root_angles) if angle<180])\n",
    "        lower_y_dist = np.mean([dist for dist, angle in zip(root_abs_ys,root_angles) if angle>180])\n",
    "    if divide_by == 'loc':\n",
    "        upper_y_dist = np.mean([dist for dist,yi in zip(root_abs_ys,root_yis) if yi>soma_center])\n",
    "        lower_y_dist = np.mean([dist for dist,yi in zip(root_abs_ys,root_yis) if yi<soma_center])\n",
    "    \n",
    "    \n",
    "    return root_yis, root_yfs, root_xzis, root_xzfs, [upper_angle, lower_angle, upper_length, lower_length, upper_dist, lower_dist, upper_y_dist, lower_y_dist]"
   ]
  },
  {
   "cell_type": "code",
   "execution_count": null,
   "metadata": {},
   "outputs": [
    {
     "data": {
      "text/plain": [
       "-0.6433"
      ]
     },
     "execution_count": 564,
     "metadata": {},
     "output_type": "execute_result"
    }
   ],
   "source": [
    "soma_center"
   ]
  },
  {
   "cell_type": "code",
   "execution_count": null,
   "metadata": {},
   "outputs": [],
   "source": [
    "basal_metrics = get_stem_root_metrics(comp_domains,morpho,stems,\n",
    "                                      which_stem_domain='basal',\n",
    "                                      soma_center=soma_center,\n",
    "                                      divide_by='loc')"
   ]
  },
  {
   "cell_type": "code",
   "execution_count": null,
   "metadata": {},
   "outputs": [
    {
     "data": {
      "text/plain": [
       "[-3.98997, -5.9817, -8.60565, -5.17952, 12.1241, -8.00069, -8.24584, -12.0876]"
      ]
     },
     "execution_count": 572,
     "metadata": {},
     "output_type": "execute_result"
    }
   ],
   "source": [
    "basal_metrics[0]"
   ]
  },
  {
   "cell_type": "code",
   "execution_count": null,
   "metadata": {},
   "outputs": [
    {
     "data": {
      "text/plain": [
       "[0.24720245372993616,\n",
       " 6.097273349055169,\n",
       " 15.147227103270787,\n",
       " 13.037311162664663,\n",
       " 14.644792491998649,\n",
       " 12.64891868817857,\n",
       " 13.9582,\n",
       " -6.086572857142857]"
      ]
     },
     "execution_count": 573,
     "metadata": {},
     "output_type": "execute_result"
    }
   ],
   "source": [
    "basal_metrics[4] # 0 and 1 are averaged and so they are lists of values"
   ]
  },
  {
   "cell_type": "code",
   "execution_count": null,
   "metadata": {},
   "outputs": [],
   "source": [
    "apical_metrics = get_stem_root_metrics(comp_domains,morpho,stems,\n",
    "                                       which_stem_domain='apical',\n",
    "                                       soma_center=soma_center,\n",
    "                                      divide_by='loc')"
   ]
  },
  {
   "cell_type": "code",
   "execution_count": null,
   "metadata": {},
   "outputs": [
    {
     "data": {
      "text/plain": [
       "[0.8231824335408515,\n",
       " nan,\n",
       " 47.98387933852478,\n",
       " nan,\n",
       " 47.15245006246967,\n",
       " nan,\n",
       " 44.6262,\n",
       " nan]"
      ]
     },
     "execution_count": 580,
     "metadata": {},
     "output_type": "execute_result"
    }
   ],
   "source": [
    "apical_metrics[4]"
   ]
  },
  {
   "cell_type": "code",
   "execution_count": null,
   "metadata": {},
   "outputs": [
    {
     "data": {
      "text/plain": [
       "[13.5679]"
      ]
     },
     "execution_count": 581,
     "metadata": {},
     "output_type": "execute_result"
    }
   ],
   "source": [
    "apical_metrics[0]"
   ]
  },
  {
   "cell_type": "code",
   "execution_count": null,
   "metadata": {},
   "outputs": [
    {
     "data": {
      "image/png": "[encoded data removed]",
      "text/plain": [
       "<Figure size 432x288 with 1 Axes>"
      ]
     },
     "metadata": {
      "needs_background": "light"
     },
     "output_type": "display_data"
    },
    {
     "data": {
      "image/png": "[encoded data removed]",
      "text/plain": [
       "<Figure size 432x288 with 1 Axes>"
      ]
     },
     "metadata": {
      "needs_background": "light"
     },
     "output_type": "display_data"
    }
   ],
   "source": [
    "# every compartment acts as a dipole\n",
    "apic_yis = apical_metrics[0]\n",
    "basal_yis = basal_metrics[0]\n",
    "\n",
    "apic_yfs = apical_metrics[1]\n",
    "basal_yfs = basal_metrics[1]\n",
    "\n",
    "bins = np.linspace(np.min(basal_yfs),np.max(apic_yfs),10)\n",
    "\n",
    "plt.figure()\n",
    "plt.axhline(soma_center,color='k',linestyle='--')\n",
    "\n",
    "plt.hist(basal_yis,bins=bins,alpha=0.6,orientation='horizontal')\n",
    "plt.hist(apic_yis,bins=bins,alpha=0.6,orientation='horizontal');\n",
    "\n",
    "plt.title('Initial Ends')\n",
    "plt.ylim([-60,60]);\n",
    "\n",
    "\n",
    "\n",
    "plt.figure()\n",
    "plt.axhline(soma_center,color='k',linestyle='--')\n",
    "\n",
    "plt.hist(basal_yfs,bins=bins,alpha=0.6,orientation='horizontal')\n",
    "plt.hist(apic_yfs,bins=bins,alpha=0.6,orientation='horizontal');\n",
    "\n",
    "plt.title('Terminal Ends (first branch loc)')\n",
    "plt.ylim([-60,60]);"
   ]
  },
  {
   "cell_type": "code",
   "execution_count": null,
   "metadata": {},
   "outputs": [
    {
     "data": {
      "image/png": "[encoded data removed]",
      "text/plain": [
       "<Figure size 432x432 with 1 Axes>"
      ]
     },
     "metadata": {
      "needs_background": "light"
     },
     "output_type": "display_data"
    }
   ],
   "source": [
    "plt.figure(figsize=(6,6))\n",
    "plt.scatter(basal_yis,basal_yfs,label='basal',marker='x')\n",
    "plt.scatter(apic_yis,apic_yfs,label='apic',marker='x')\n",
    "\n",
    "plt.axvline(soma_center,color='k',linestyle='--')\n",
    "plt.axhline(soma_center,color='k',linestyle='--')\n",
    "\n",
    "plt.xlabel('initial ends')\n",
    "plt.ylabel('terminal ends')\n",
    "\n",
    "plt.legend(loc='upper left');\n"
   ]
  },
  {
   "cell_type": "code",
   "execution_count": null,
   "metadata": {},
   "outputs": [],
   "source": [
    "# to get average length, need to iterate through the initial segments\n",
    "basal_lengths = []\n",
    "basal_dists = []\n",
    "basal_angles = []\n",
    "basal_yis = []\n",
    "basal_xzis = []\n",
    "basal_abs_ys = []\n",
    "\n",
    "for group in basal_init_groups:\n",
    "\n",
    "    reduced_segments = get_domain_segments(morpho,[group],bounds=None) \n",
    "    proximal_list, distal_list = get_segment_coord_lists(reduced_segments,morpho,stems,verbose=False)\n",
    "        \n",
    "    if len(proximal_list):\n",
    "        xi,yi,zi = np.float(proximal_list[0].attrib['x']),np.float(proximal_list[0].attrib['y']),np.float(proximal_list[0].attrib['z'])\n",
    "        xf,yf,zf = np.float(distal_list[-1].attrib['x']),np.float(distal_list[-1].attrib['y']),np.float(distal_list[-1].attrib['z'])                                                          \n",
    "                                                                                                     \n",
    "        basal_yis.append(yi)\n",
    "        basal_xzis.append(np.sqrt(xi**2+zi**2))\n",
    "        basal_abs_ys.append(yf-yi)\n",
    "        \n",
    "        L = np.sqrt((xf-xi)**2 + (yf-yi)**2 + (zf-zi)**2)\n",
    "        basal_dists.append(L)\n",
    "                                                                 \n",
    "        basal_lengths.append(compute_total_length(proximal_list,distal_list))\n",
    "        basal_angles.append(compute_average_orientation(proximal_list,distal_list))"
   ]
  },
  {
   "cell_type": "code",
   "execution_count": null,
   "metadata": {},
   "outputs": [
    {
     "data": {
      "text/plain": [
       "array([ 0.        , -1.1097135 , -0.64117843, -0.04117604, -0.50243461,\n",
       "       -0.17294696, -0.32168814, -0.43204425])"
      ]
     },
     "execution_count": 332,
     "metadata": {},
     "output_type": "execute_result"
    }
   ],
   "source": [
    "np.array(basal_dists)-np.array(basal_lengths)"
   ]
  },
  {
   "cell_type": "code",
   "execution_count": null,
   "metadata": {},
   "outputs": [],
   "source": [
    "import matplotlib.pyplot as plt"
   ]
  },
  {
   "cell_type": "code",
   "execution_count": null,
   "metadata": {},
   "outputs": [
    {
     "data": {
      "image/png": "[encoded data removed]",
      "text/plain": [
       "<Figure size 432x288 with 1 Axes>"
      ]
     },
     "metadata": {
      "needs_background": "light"
     },
     "output_type": "display_data"
    }
   ],
   "source": [
    "plt.hist(basal_dists,bins=10);"
   ]
  },
  {
   "cell_type": "code",
   "execution_count": null,
   "metadata": {},
   "outputs": [
    {
     "name": "stdout",
     "output_type": "stream",
     "text": [
      "upper:\n",
      "14.163657284003357 15.147227103270787 14.644792491998649 13.9582\n",
      "lower:\n",
      "348.41054961722523 13.037311162664663 12.64891868817857 -6.086572857142857\n"
     ]
    }
   ],
   "source": [
    "upper_angles =  [angle for angle in basal_angles if angle<180]\n",
    "lower_angles =  [angle for angle in basal_angles if angle>180]\n",
    "\n",
    "# not sure if these are useful values, for deep pyramids these don't extend out enough - it's likely more related to the terminal points, but that's too much work\n",
    "upper_lengths =  [length for length, angle in zip(basal_lengths,basal_angles) if angle<180]\n",
    "lower_lengths =  [length for length, angle in zip(basal_lengths,basal_angles) if angle>180]\n",
    "\n",
    "upper_dists = [dist for dist, angle in zip(basal_dists,basal_angles) if angle<180]\n",
    "lower_dists = [dist for dist, angle in zip(basal_dists,basal_angles) if angle>180]\n",
    "\n",
    "upper_y_dists = [dist for dist, angle in zip(basal_abs_ys,basal_angles) if angle<180]\n",
    "lower_y_dists = [dist for dist, angle in zip(basal_abs_ys,basal_angles) if angle>180]\n",
    "\n",
    "# using upper and lower, so can use regular mean\n",
    "print('upper:')\n",
    "print(np.mean(upper_angles), np.mean(upper_lengths),np.mean(upper_dists),np.mean(upper_y_dists))\n",
    "\n",
    "print('lower:')\n",
    "print(np.mean(lower_angles), np.mean(lower_lengths),np.mean(lower_dists),np.mean(lower_y_dists))\n"
   ]
  },
  {
   "cell_type": "code",
   "execution_count": null,
   "metadata": {},
   "outputs": [
    {
     "data": {
      "text/plain": [
       "14.163657284003357"
      ]
     },
     "execution_count": 223,
     "metadata": {},
     "output_type": "execute_result"
    }
   ],
   "source": [
    "compute_average_orientation(proximal_list,distal_list)"
   ]
  },
  {
   "cell_type": "code",
   "execution_count": null,
   "metadata": {},
   "outputs": [
    {
     "ename": "NameError",
     "evalue": "name 'compute_CV_orientation' is not defined",
     "output_type": "error",
     "traceback": [
      "\u001b[0;31m---------------------------------------------------------------------------\u001b[0m",
      "\u001b[0;31mNameError\u001b[0m                                 Traceback (most recent call last)",
      "\u001b[0;32m<ipython-input-224-2471b6b81ce0>\u001b[0m in \u001b[0;36m<module>\u001b[0;34m\u001b[0m\n\u001b[0;32m----> 1\u001b[0;31m \u001b[0mcompute_CV_orientation\u001b[0m\u001b[0;34m(\u001b[0m\u001b[0mproximal_list\u001b[0m\u001b[0;34m,\u001b[0m\u001b[0mdistal_list\u001b[0m\u001b[0;34m)\u001b[0m\u001b[0;34m\u001b[0m\u001b[0;34m\u001b[0m\u001b[0m\n\u001b[0m",
      "\u001b[0;31mNameError\u001b[0m: name 'compute_CV_orientation' is not defined"
     ]
    }
   ],
   "source": [
    "compute_CV_orientation(proximal_list,distal_list)"
   ]
  },
  {
   "cell_type": "code",
   "execution_count": null,
   "metadata": {},
   "outputs": [
    {
     "data": {
      "text/plain": [
       "15.147227103270787"
      ]
     },
     "execution_count": 225,
     "metadata": {},
     "output_type": "execute_result"
    }
   ],
   "source": [
    "compute_total_length(proximal_list,distal_list)"
   ]
  },
  {
   "cell_type": "code",
   "execution_count": null,
   "metadata": {},
   "outputs": [
    {
     "data": {
      "text/plain": [
       "472.07461538199874"
      ]
     },
     "execution_count": 226,
     "metadata": {},
     "output_type": "execute_result"
    }
   ],
   "source": [
    "compute_average_distance(distal_list)"
   ]
  },
  {
   "cell_type": "code",
   "execution_count": null,
   "metadata": {},
   "outputs": [
    {
     "name": "stdout",
     "output_type": "stream",
     "text": [
      "Mean upper angle: 1.4327908497907937 , Mean lower angle: -11.525908021765105\n",
      "Upper angle dispersion: 1.425127586050782 , Lower angle dispersion: 1.397131782620319\n",
      "Orientation asymmetry | mean: 0.9280072284913561 , dispersion: 0.009919642305464379\n",
      "\n",
      "Total upper length: 431.38176866417973 , Total lower length: 1616.0009455271058\n",
      "Length asymmetry: -0.5786017282708423\n",
      "\n",
      "Mean upper distance: 1866.07459189607 , mean lower distance: 5534.695839913235\n",
      "Distance asymmetry | mean: -0.495708018755593\n"
     ]
    }
   ],
   "source": [
    "# assymetric version\n",
    "upper_basal_segments = get_domain_segments(morpho,basal_groups,bounds=[[0,y_ub],rad_ub])\n",
    "lower_basal_segments = get_domain_segments(morpho,basal_groups,bounds=[[y_lb,0],rad_ub])\n",
    "\n",
    "proximal_list_u, distal_list_u = get_segment_coord_lists(upper_basal_segments,morpho,stems)\n",
    "proximal_list_l, distal_list_l = get_segment_coord_lists(lower_basal_segments,morpho,stems)\n",
    "\n",
    "\n",
    "# angle stuff\n",
    "mean_orient_u = compute_average_orientation(proximal_list_u,distal_list_u)\n",
    "mean_orient_l = compute_average_orientation(proximal_list_l,distal_list_l)\n",
    "\n",
    "orientation_asym = (180-(mean_orient_u+np.abs(mean_orient_l)))/180\n",
    "\n",
    "cv_orient_u = compute_CV_orientation(proximal_list_u,distal_list_u)\n",
    "cv_orient_l = compute_CV_orientation(proximal_list_l,distal_list_l)\n",
    "\n",
    "cv_orientation_asym = (cv_orient_u-cv_orient_l)/(cv_orient_u+cv_orient_l)\n",
    "\n",
    "# segment length stuff\n",
    "upper_length = compute_total_length(proximal_list_u,distal_list_u)\n",
    "lower_length = compute_total_length(proximal_list_l,distal_list_l)\n",
    "\n",
    "length_asym = (upper_length-lower_length)/(upper_length+lower_length)\n",
    "\n",
    "# position stuff\n",
    "mean_dist_u = compute_average_distance(distal_list_u)\n",
    "mean_dist_l = compute_average_distance(distal_list_l)\n",
    "\n",
    "dist_asym = (mean_dist_u-mean_dist_l)/(mean_dist_u+mean_dist_l)\n",
    "\n",
    "\n",
    "\n",
    "print('Mean upper angle:',mean_orient_u,', Mean lower angle:',mean_orient_l)\n",
    "print('Upper angle dispersion:',cv_orient_u,', Lower angle dispersion:',cv_orient_l)\n",
    "print('Orientation asymmetry | mean:',orientation_asym,', dispersion:',cv_orientation_asym)\n",
    "\n",
    "print('\\nTotal upper length:',upper_length,', Total lower length:',lower_length)\n",
    "print('Length asymmetry:',length_asym)\n",
    "\n",
    "print('\\nMean upper distance:',mean_dist_u,', mean lower distance:',mean_dist_l)\n",
    "print('Distance asymmetry | mean:',dist_asym)"
   ]
  },
  {
   "cell_type": "code",
   "execution_count": null,
   "metadata": {},
   "outputs": [],
   "source": []
  }
 ],
 "metadata": {
  "kernelspec": {
   "display_name": "python3_9-spike",
   "language": "python",
   "name": "python3"
  },
  "language_info": {
   "codemirror_mode": {
    "name": "ipython",
    "version": 3
   },
   "file_extension": ".py",
   "mimetype": "text/x-python",
   "name": "python",
   "nbconvert_exporter": "python",
   "pygments_lexer": "ipython3",
   "version": "3.9.16"
  }
 },
 "nbformat": 4,
 "nbformat_minor": 4
}
