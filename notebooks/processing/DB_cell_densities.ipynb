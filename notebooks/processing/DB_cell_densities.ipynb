{
 "cells": [
  {
   "cell_type": "code",
   "execution_count": 41,
   "metadata": {},
   "outputs": [],
   "source": [
    "import pickle\n",
    "import os"
   ]
  },
  {
   "cell_type": "code",
   "execution_count": 42,
   "metadata": {},
   "outputs": [],
   "source": [
    "cells_dir = '/home/kedoxey/CRCNS/Macaque_auditory_thalamocortical_model_data/model/cells'\n",
    "cellDensity_path = os.path.join(cells_dir,'cellDensity.pkl')"
   ]
  },
  {
   "cell_type": "code",
   "execution_count": 43,
   "metadata": {},
   "outputs": [],
   "source": [
    "with open(cellDensity_path, 'rb') as fileObj: density = pickle.load(fileObj)['density']\n",
    "density = {k: [x * 1.0 for x in v] for k,v in density.items()} # Scale densities "
   ]
  },
  {
   "cell_type": "code",
   "execution_count": 44,
   "metadata": {},
   "outputs": [],
   "source": [
    "Epops = ['IT2',                             # L2\n",
    "         'IT3',                             # L3\n",
    "         'ITP4', 'ITS4',                    # L4\n",
    "         'IT5A', 'CT5A',                    # L5A\n",
    "         'IT5B', 'CT5B', 'PT5B',            # L5B\n",
    "         'IT6', 'CT6']                      # L6\n",
    "\n",
    "Ipops = ['NGF1',                            # L1\n",
    "        'PV2', 'SOM2', 'VIP2', 'NGF2',      # L2\n",
    "        'PV3', 'SOM3', 'VIP3', 'NGF3',      # L3\n",
    "        'PV4', 'SOM4', 'VIP4', 'NGF4',      # L4\n",
    "        'PV5A', 'SOM5A', 'VIP5A', 'NGF5A',  # L5A  \n",
    "        'PV5B', 'SOM5B', 'VIP5B', 'NGF5B',  # L5B\n",
    "        'PV6', 'SOM6', 'VIP6', 'NGF6']      # L6 "
   ]
  },
  {
   "cell_type": "code",
   "execution_count": 45,
   "metadata": {},
   "outputs": [],
   "source": [
    "density_db_I = {'NGF': ('A1','nonVIP'),\n",
    "                'PV': ('A1','PV'),\n",
    "                'SOM': ('A1','SOM'),\n",
    "                'VIP': ('A1','VIP')}\n",
    "\n",
    "density_db_E = {'IT': ('A1','E'),\n",
    "               'ITP': ('A1','E'),\n",
    "               'ITS': ('A1','E'),\n",
    "               'PT': ('A1','E'),\n",
    "               'CT': ('A1','E')}\n"
   ]
  },
  {
   "cell_type": "code",
   "execution_count": 46,
   "metadata": {},
   "outputs": [],
   "source": [
    "exclude_Epops = [['IT', 'ITP', 'ITS', 'PT', 'CT'],  # L1\n",
    "                 ['ITP', 'ITS', 'PT', 'CT'],        # L2/3\n",
    "                 ['IT', 'PT', 'CT'],                # L4\n",
    "                 ['ITP', 'ITS', 'PT'],              # L5A   \n",
    "                 ['ITP', 'ITS'],                    # L5B\n",
    "                 ['ITP', 'ITS', 'PT']]              # L6\n",
    "\n",
    "scale_Epops = {0: (['IT', 'ITP', 'ITS', 'PT', 'CT'],1),    # L1\n",
    "               1: (['IT', 'ITP', 'ITS', 'PT', 'CT'],1),    # L2/3\n",
    "               2: (['ITP', 'ITS'],0.5),                      # L4\n",
    "               3: (['IT', 'CT'],0.5),                        # L5A   \n",
    "               4: (['IT', 'CT', 'PT'],1/3),                        # L5B\n",
    "               5: (['IT', 'CT'],0.5)}                       # L6"
   ]
  },
  {
   "cell_type": "code",
   "execution_count": 47,
   "metadata": {},
   "outputs": [
    {
     "name": "stdout",
     "output_type": "stream",
     "text": [
      "DENSITITIES BY TYPE\n",
      "{'IT': 636554.0, 'ITP': 88872.0, 'ITS': 88872.0, 'PT': 69471.0, 'CT': 276986.0, 'total': 2321510.0}\n",
      "DENSITITIES BY LAYER\n",
      "{'L1': 0, 'L2/3': 359568.0, 'L4': 177744.0, 'L5A': 272160.0, 'L5B': 208413.0, 'L6': 142870.0, 'total': 2321510.0}\n"
     ]
    }
   ],
   "source": [
    "densities_by_type_E = {'IT': 0,\n",
    "                       'ITP': 0,\n",
    "                       'ITS': 0,\n",
    "                       'PT': 0,\n",
    "                       'CT': 0}\n",
    "densities_by_layer_E = {'L1': 0,\n",
    "                        'L2/3': 0,\n",
    "                        'L4': 0,\n",
    "                        'L5A': 0,\n",
    "                        'L5B': 0,\n",
    "                        'L6': 0}\n",
    "\n",
    "for Epop, dens in density_db_E.items():\n",
    "    for i in range(6):\n",
    "        Ecell = f'{Epop}{i+1}'\n",
    "        density_num = density[density_db_E[Epop]][i]\n",
    "        if i == 0:\n",
    "            density_num = 0\n",
    "        if i == 1:\n",
    "            density_num *= 2\n",
    "\n",
    "        if Epop in scale_Epops[i][0]:\n",
    "            density_num *= scale_Epops[i][1]\n",
    "        \n",
    "        if Epop in exclude_Epops[i]:\n",
    "            density_num = 0\n",
    "        # else:\n",
    "        densities_by_layer_E[list(densities_by_layer_E.keys())[i]] += density_num\n",
    "\n",
    "        densities_by_type_E[Epop] += density_num\n",
    "\n",
    "        # print(f'{Ecell}, {density_num}')\n",
    "\n",
    "densities_by_type_E['total'] = 0\n",
    "for dens in densities_by_type_E.values():\n",
    "    densities_by_type_E['total'] += dens\n",
    "print('DENSITITIES BY TYPE')\n",
    "print(densities_by_type_E)\n",
    "\n",
    "densities_by_layer_E['total'] = 0\n",
    "for dens in densities_by_layer_E.values():\n",
    "    densities_by_layer_E['total'] += dens\n",
    "print('DENSITITIES BY LAYER')\n",
    "print(densities_by_layer_E)"
   ]
  },
  {
   "cell_type": "code",
   "execution_count": 48,
   "metadata": {},
   "outputs": [
    {
     "data": {
      "text/plain": [
       "{'L1': 0,\n",
       " 'L2/3': 359568.0,\n",
       " 'L4': 177744.0,\n",
       " 'L5A': 272160.0,\n",
       " 'L5B': 208413.0,\n",
       " 'L6': 142870.0,\n",
       " 'total': 2321510.0}"
      ]
     },
     "execution_count": 48,
     "metadata": {},
     "output_type": "execute_result"
    }
   ],
   "source": [
    "densities_by_layer_E"
   ]
  },
  {
   "cell_type": "code",
   "execution_count": 49,
   "metadata": {},
   "outputs": [
    {
     "name": "stdout",
     "output_type": "stream",
     "text": [
      "DENSITITIES BY TYPE\n",
      "{'NGF': 71554.293, 'PV': 77960.751, 'SOM': 45935.319, 'VIP': 25945.115999999998, 'total': 442790.95800000004}\n",
      "DENSITITIES BY LAYER\n",
      "{'L1': 48240.0, 'L2/3': 49032.0, 'L4': 15471.455999999993, 'L5A': 51891.84000000001, 'L5B': 42644.31300000001, 'L6': 14115.869999999994, 'total': 442790.958}\n"
     ]
    }
   ],
   "source": [
    "densities_by_type_I = {'NGF': 0,\n",
    "                       'PV': 0,\n",
    "                       'SOM': 0,\n",
    "                       'VIP': 0}\n",
    "densities_by_layer_I = {'L1': 0,\n",
    "                        'L2/3': 0,\n",
    "                        'L4': 0,\n",
    "                        'L5A': 0,\n",
    "                        'L5B': 0,\n",
    "                        'L6': 0}\n",
    "\n",
    "for Ipop, dens in density_db_I.items():\n",
    "    for i in range(6):\n",
    "\n",
    "        Icell = f'{Ipop}{i+1}'\n",
    "        density_num = density[density_db_I[Ipop]][i]\n",
    "        if i == 0:\n",
    "            if 'NGF' not in Ipop:\n",
    "                density_num = 0\n",
    "        if i == 1:\n",
    "            density_num *= 2\n",
    "\n",
    "        densities_by_layer_I[list(densities_by_layer_I.keys())[i]] += density_num\n",
    "        densities_by_type_I[Ipop] += density_num\n",
    "\n",
    "        # print(f'{Icell}, {density_num}')\n",
    "\n",
    "densities_by_type_I['total'] = 0\n",
    "for dens in densities_by_type_I.values():\n",
    "    densities_by_type_I['total'] += dens\n",
    "print('DENSITITIES BY TYPE')\n",
    "print(densities_by_type_I)\n",
    "\n",
    "densities_by_layer_I['total'] = 0\n",
    "for dens in densities_by_layer_I.values():\n",
    "    densities_by_layer_I['total'] += dens\n",
    "print('DENSITITIES BY LAYER')\n",
    "print(densities_by_layer_I)"
   ]
  },
  {
   "cell_type": "code",
   "execution_count": 50,
   "metadata": {},
   "outputs": [
    {
     "data": {
      "text/plain": [
       "{'L1': 48240.0,\n",
       " 'L2/3': 408600.0,\n",
       " 'L4': 193215.456,\n",
       " 'L5A': 324051.84,\n",
       " 'L5B': 251057.31300000002,\n",
       " 'L6': 156985.87,\n",
       " 'total': 2764300.9580000006}"
      ]
     },
     "execution_count": 50,
     "metadata": {},
     "output_type": "execute_result"
    }
   ],
   "source": [
    "densities_by_layer = {'L1': 0,\n",
    "                      'L2/3': 0,\n",
    "                      'L4': 0,\n",
    "                      'L5A': 0,\n",
    "                      'L5B': 0,\n",
    "                      'L6': 0}\n",
    "\n",
    "for layer in densities_by_layer.keys():\n",
    "    densities_by_layer[layer] = densities_by_layer_E[layer] + densities_by_layer_I[layer]\n",
    "\n",
    "densities_by_layer['total'] = 0\n",
    "for dens in densities_by_layer.values():\n",
    "    densities_by_layer['total'] += dens\n",
    "densities_by_layer"
   ]
  },
  {
   "cell_type": "markdown",
   "metadata": {},
   "source": [
    "## Cell densities to pyramidal L5B"
   ]
  },
  {
   "cell_type": "code",
   "execution_count": 52,
   "metadata": {},
   "outputs": [
    {
     "data": {
      "text/plain": [
       "{'E': 1071883.0, 'I': 23314.293000000005, 'total': 1095197.293}"
      ]
     },
     "execution_count": 52,
     "metadata": {},
     "output_type": "execute_result"
    }
   ],
   "source": [
    "total_to_PT = {'E': 0,\n",
    "               'I': 0,\n",
    "               'total': 0}\n",
    "\n",
    "cell_types_to_PT = ['IT', 'PT', 'CT']\n",
    "for cell_type in cell_types_to_PT:\n",
    "    total_to_PT['E'] += densities_by_type_E[cell_type]\n",
    "\n",
    "density_ITS4 = 0.5*density[('A1','E')][2]\n",
    "total_to_PT['E'] += density_ITS4\n",
    "density_NGF = densities_by_type_I['NGF'] - density[('A1','nonVIP')][0]\n",
    "total_to_PT['I'] += density_NGF\n",
    "\n",
    "total_to_PT['total'] = total_to_PT['E'] + total_to_PT['I']\n",
    "total_to_PT"
   ]
  },
  {
   "cell_type": "markdown",
   "metadata": {},
   "source": []
  }
 ],
 "metadata": {
  "kernelspec": {
   "display_name": "python3_9-NEW",
   "language": "python",
   "name": "python3"
  },
  "language_info": {
   "codemirror_mode": {
    "name": "ipython",
    "version": 3
   },
   "file_extension": ".py",
   "mimetype": "text/x-python",
   "name": "python",
   "nbconvert_exporter": "python",
   "pygments_lexer": "ipython3",
   "version": "3.9.16"
  }
 },
 "nbformat": 4,
 "nbformat_minor": 2
}
