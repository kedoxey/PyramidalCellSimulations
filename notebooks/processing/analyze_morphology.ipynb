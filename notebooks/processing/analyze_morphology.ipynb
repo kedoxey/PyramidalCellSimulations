{
 "cells": [
  {
   "cell_type": "code",
   "execution_count": 2,
   "metadata": {},
   "outputs": [],
   "source": [
    "import os\n",
    "from utils import *\n",
    "from os.path import join\n",
    "from pprint import pprint\n",
    "\n",
    "import numpy as np\n",
    "from scipy.stats import circmean\n",
    "from math import radians\n",
    "\n",
    "import requests\n",
    "import xml.etree.ElementTree as ET\n",
    "import numpy as np\n",
    "import pandas as pd\n",
    "import matplotlib.pyplot as plt\n",
    "%matplotlib inline"
   ]
  },
  {
   "cell_type": "code",
   "execution_count": 3,
   "metadata": {},
   "outputs": [
    {
     "name": "stderr",
     "output_type": "stream",
     "text": [
      "Warning: no DISPLAY environment variable.\n",
      "--No graphics will be displayed.\n"
     ]
    }
   ],
   "source": [
    "import os\n",
    "import json\n",
    "import model_helpers as mh\n",
    "from neuron import h, load_mechanisms"
   ]
  },
  {
   "cell_type": "code",
   "execution_count": 4,
   "metadata": {},
   "outputs": [
    {
     "name": "stdout",
     "output_type": "stream",
     "text": [
      "Model NMLCL000073 already downloaded.\n"
     ]
    }
   ],
   "source": [
    "code_version = 'Hay'\n",
    "model_version = 'NeuroML'\n",
    "nmldb_id = 'NMLCL000073'  # 'NMLCL000073' (Hay et al. 2011)\n",
    "model_name = f'{nmldb_id}-{model_version}'\n",
    "mh.download_from_nmldb(nmldb_id, model_version)"
   ]
  },
  {
   "cell_type": "code",
   "execution_count": 5,
   "metadata": {},
   "outputs": [
    {
     "data": {
      "text/plain": [
       "('/home/kedoxey/CRCNS/PyramidalCellSimulations/models/NeuroML/NMLCL000073-NeuroML/output',\n",
       " '/home/kedoxey/CRCNS/PyramidalCellSimulations/models/NeuroML/NMLCL000073-NeuroML/output/morphology')"
      ]
     },
     "execution_count": 5,
     "metadata": {},
     "output_type": "execute_result"
    }
   ],
   "source": [
    "sim_name = 'morphology'\n",
    "cwd = os.getcwd()\n",
    "models_dir = os.path.join(cwd, 'models') \n",
    "model_dir = os.path.join(models_dir, model_version, model_name)  # 'L5bPCmodelsEH')\n",
    "hocs_dir = model_dir if 'biophys' not in model_name else os.path.join(model_dir,'models')\n",
    "mod_dir = model_dir if 'biophys' not in model_name else os.path.join(model_dir, 'mod')\n",
    "output_dir, sim_dir = mh.create_output_dirs(sim_name, model_dir)\n",
    "output_dir, sim_dir"
   ]
  },
  {
   "cell_type": "code",
   "execution_count": 6,
   "metadata": {},
   "outputs": [],
   "source": [
    "cell_name = 'L5PC'\n",
    "nml_file = os.path.join(model_dir,cell_name+'.cell.nml')\n",
    "model_tree = ET.parse(nml_file)"
   ]
  },
  {
   "cell_type": "code",
   "execution_count": 7,
   "metadata": {},
   "outputs": [],
   "source": [
    "spacing = 10\n",
    "\n",
    "# NOTE: can set bounds to np.inf if desired\n",
    "# NOTE: Works for cylindrical bounds\n",
    "\n",
    "# bound in Y\n",
    "if spacing == 10:\n",
    "    y_lb, y_ub = -155, 155\n",
    "elif spacing == 20:\n",
    "    y_lb, y_ub = -310,310\n",
    "else:\n",
    "    pass\n",
    "    \n",
    "\n",
    "# bound in XZ-plane\n",
    "rad_ub = 100"
   ]
  },
  {
   "cell_type": "code",
   "execution_count": 8,
   "metadata": {},
   "outputs": [],
   "source": [
    "root = model_tree.getroot()"
   ]
  },
  {
   "cell_type": "code",
   "execution_count": 9,
   "metadata": {},
   "outputs": [
    {
     "data": {
      "text/plain": [
       "('{http://www.neuroml.org/schema/neuroml2}neuroml',\n",
       " {'{http://www.w3.org/2001/XMLSchema-instance}schemaLocation': 'http://www.neuroml.org/schema/neuroml2  https://raw.githubusercontent.com/NeuroML/NeuroML2/development/Schemas/NeuroML2/NeuroML_v2beta4.xsd',\n",
       "  'id': 'L5PC'})"
      ]
     },
     "execution_count": 9,
     "metadata": {},
     "output_type": "execute_result"
    }
   ],
   "source": [
    "root.tag, root.attrib"
   ]
  },
  {
   "cell_type": "code",
   "execution_count": 10,
   "metadata": {},
   "outputs": [
    {
     "name": "stdout",
     "output_type": "stream",
     "text": [
      "{http://www.neuroml.org/schema/neuroml2}include {'href': 'Ca_HVA.channel.nml'}\n",
      "{http://www.neuroml.org/schema/neuroml2}include {'href': 'Ca_LVAst.channel.nml'}\n",
      "{http://www.neuroml.org/schema/neuroml2}include {'href': 'CaDynamics_E2_NML2__decay122__gamma5_09Emin4.nml'}\n",
      "{http://www.neuroml.org/schema/neuroml2}include {'href': 'CaDynamics_E2_NML2__decay460__gamma5_01Emin4.nml'}\n",
      "{http://www.neuroml.org/schema/neuroml2}include {'href': 'Ih.channel.nml'}\n",
      "{http://www.neuroml.org/schema/neuroml2}include {'href': 'Im.channel.nml'}\n",
      "{http://www.neuroml.org/schema/neuroml2}include {'href': 'K_Pst.channel.nml'}\n",
      "{http://www.neuroml.org/schema/neuroml2}include {'href': 'K_Tst.channel.nml'}\n",
      "{http://www.neuroml.org/schema/neuroml2}include {'href': 'Nap_Et2.channel.nml'}\n",
      "{http://www.neuroml.org/schema/neuroml2}include {'href': 'NaTa_t.channel.nml'}\n",
      "{http://www.neuroml.org/schema/neuroml2}include {'href': 'pas.channel.nml'}\n",
      "{http://www.neuroml.org/schema/neuroml2}include {'href': 'SK_E2.channel.nml'}\n",
      "{http://www.neuroml.org/schema/neuroml2}include {'href': 'SKv3_1.channel.nml'}\n",
      "{http://www.neuroml.org/schema/neuroml2}cell {'id': 'L5PC'}\n"
     ]
    }
   ],
   "source": [
    "for child in root:\n",
    "    print(child.tag, child.attrib)"
   ]
  },
  {
   "cell_type": "code",
   "execution_count": 11,
   "metadata": {},
   "outputs": [
    {
     "data": {
      "text/plain": [
       "<Element '{http://www.neuroml.org/schema/neuroml2}cell' at 0x7f7e0131e950>"
      ]
     },
     "execution_count": 11,
     "metadata": {},
     "output_type": "execute_result"
    }
   ],
   "source": [
    "cell= root[-1]\n",
    "cell"
   ]
  },
  {
   "cell_type": "code",
   "execution_count": 12,
   "metadata": {},
   "outputs": [
    {
     "name": "stdout",
     "output_type": "stream",
     "text": [
      "{http://www.neuroml.org/schema/neuroml2}notes {}\n",
      "{http://www.neuroml.org/schema/neuroml2}morphology {'id': 'morphology_L5PC'}\n",
      "{http://www.neuroml.org/schema/neuroml2}biophysicalProperties {'id': 'biophys'}\n"
     ]
    }
   ],
   "source": [
    "for child in cell:\n",
    "    print(child.tag, child.attrib)"
   ]
  },
  {
   "cell_type": "markdown",
   "metadata": {},
   "source": [
    "## Morphology"
   ]
  },
  {
   "cell_type": "code",
   "execution_count": 13,
   "metadata": {},
   "outputs": [
    {
     "data": {
      "text/plain": [
       "<Element '{http://www.neuroml.org/schema/neuroml2}morphology' at 0x7f7e0131e8b0>"
      ]
     },
     "execution_count": 13,
     "metadata": {},
     "output_type": "execute_result"
    }
   ],
   "source": [
    "morpho = cell[1]\n",
    "morpho"
   ]
  },
  {
   "cell_type": "code",
   "execution_count": 14,
   "metadata": {},
   "outputs": [],
   "source": [
    "segmentGroups = {}\n",
    "for i, group in enumerate(morpho.findall('{http://www.neuroml.org/schema/neuroml2}segmentGroup')):\n",
    "    \n",
    "    segmentGroups.update({i:group})\n"
   ]
  },
  {
   "cell_type": "code",
   "execution_count": 15,
   "metadata": {},
   "outputs": [
    {
     "data": {
      "text/plain": [
       "False"
      ]
     },
     "execution_count": 15,
     "metadata": {},
     "output_type": "execute_result"
    }
   ],
   "source": [
    "\"k8\".isdigit()"
   ]
  },
  {
   "cell_type": "markdown",
   "metadata": {},
   "source": [
    "### Segment names"
   ]
  },
  {
   "cell_type": "code",
   "execution_count": 16,
   "metadata": {},
   "outputs": [
    {
     "data": {
      "text/plain": [
       "['soma',\n",
       " 'axon',\n",
       " 'apic',\n",
       " 'dend',\n",
       " 'all',\n",
       " 'soma_group',\n",
       " 'apical_dends_and_soma',\n",
       " 'dends_and_soma',\n",
       " 'soma_and_axon',\n",
       " 'basal_dends_and_soma',\n",
       " 'axon_group',\n",
       " 'dendrite_group',\n",
       " 'apical_dends',\n",
       " 'non_hot_apical_dends',\n",
       " 'OneSecGrp_SectionRef',\n",
       " 'basal_dends']"
      ]
     },
     "execution_count": 16,
     "metadata": {},
     "output_type": "execute_result"
    }
   ],
   "source": [
    "seg_names = []\n",
    "for i in segmentGroups:\n",
    "    segmentGroup = segmentGroups[i]\n",
    "    id = segmentGroup.attrib['id']\n",
    "\n",
    "    if any(map(str.isdigit, id)):\n",
    "        name = id.rsplit('_', 1)[0]\n",
    "    else:\n",
    "        name = id\n",
    "    # name = id\n",
    "    if name not in seg_names:\n",
    "        seg_names.append(name)\n",
    "seg_names"
   ]
  },
  {
   "cell_type": "code",
   "execution_count": 17,
   "metadata": {},
   "outputs": [],
   "source": [
    "comp_domain_names = ['soma_group', 'axon_group', 'apical_dends', 'basal_dends']\n",
    "comp_domains = {}\n",
    "for key, val in segmentGroups.items():\n",
    "    if val.attrib['id'] in comp_domain_names:\n",
    "        comp_domains.update({val.attrib['id']:val})"
   ]
  },
  {
   "cell_type": "code",
   "execution_count": 18,
   "metadata": {},
   "outputs": [
    {
     "data": {
      "text/plain": [
       "{'soma_group': <Element '{http://www.neuroml.org/schema/neuroml2}segmentGroup' at 0x7f7dffc6fdb0>,\n",
       " 'axon_group': <Element '{http://www.neuroml.org/schema/neuroml2}segmentGroup' at 0x7f7dffc2cb80>,\n",
       " 'apical_dends': <Element '{http://www.neuroml.org/schema/neuroml2}segmentGroup' at 0x7f7dffc4a900>,\n",
       " 'basal_dends': <Element '{http://www.neuroml.org/schema/neuroml2}segmentGroup' at 0x7f7dffbeb720>}"
      ]
     },
     "execution_count": 18,
     "metadata": {},
     "output_type": "execute_result"
    }
   ],
   "source": [
    "comp_domains"
   ]
  },
  {
   "cell_type": "markdown",
   "metadata": {},
   "source": [
    "## Somatic compartments"
   ]
  },
  {
   "cell_type": "code",
   "execution_count": 19,
   "metadata": {},
   "outputs": [
    {
     "data": {
      "text/plain": [
       "<Element '{http://www.neuroml.org/schema/neuroml2}segmentGroup' at 0x7f7dffc6fdb0>"
      ]
     },
     "execution_count": 19,
     "metadata": {},
     "output_type": "execute_result"
    }
   ],
   "source": [
    "comp_domains['soma_group']"
   ]
  },
  {
   "cell_type": "code",
   "execution_count": 20,
   "metadata": {},
   "outputs": [
    {
     "name": "stdout",
     "output_type": "stream",
     "text": [
      "{http://www.neuroml.org/schema/neuroml2}include {'segmentGroup': 'soma_0'}\n"
     ]
    }
   ],
   "source": [
    "for child in comp_domains['soma_group']:\n",
    "    print(child.tag, child.attrib)"
   ]
  },
  {
   "cell_type": "code",
   "execution_count": 21,
   "metadata": {},
   "outputs": [],
   "source": [
    "soma_group = comp_domains['soma_group'][0].attrib['segmentGroup']"
   ]
  },
  {
   "cell_type": "code",
   "execution_count": 22,
   "metadata": {},
   "outputs": [
    {
     "data": {
      "text/plain": [
       "{'0': 'Seg0_soma_0',\n",
       " '2': 'Seg1_soma_0',\n",
       " '3': 'Seg2_soma_0',\n",
       " '4': 'Seg3_soma_0',\n",
       " '5': 'Seg4_soma_0',\n",
       " '6': 'Seg5_soma_0',\n",
       " '7': 'Seg6_soma_0',\n",
       " '8': 'Seg7_soma_0',\n",
       " '9': 'Seg8_soma_0',\n",
       " '10': 'Seg9_soma_0',\n",
       " '11': 'Seg10_soma_0',\n",
       " '12': 'Seg11_soma_0',\n",
       " '13': 'Seg12_soma_0',\n",
       " '14': 'Seg13_soma_0',\n",
       " '15': 'Seg14_soma_0',\n",
       " '16': 'Seg15_soma_0',\n",
       " '17': 'Seg16_soma_0',\n",
       " '18': 'Seg17_soma_0',\n",
       " '19': 'Seg18_soma_0',\n",
       " '20': 'Seg19_soma_0'}"
      ]
     },
     "execution_count": 22,
     "metadata": {},
     "output_type": "execute_result"
    }
   ],
   "source": [
    "soma_segments = {}\n",
    "for segment in morpho.findall('{http://www.neuroml.org/schema/neuroml2}segment'):\n",
    "    if soma_group in segment.attrib['name']:\n",
    "        soma_segments.update({segment.attrib['id']:segment.attrib['name']})\n",
    "soma_segments"
   ]
  },
  {
   "cell_type": "code",
   "execution_count": 23,
   "metadata": {},
   "outputs": [
    {
     "name": "stdout",
     "output_type": "stream",
     "text": [
      "{http://www.neuroml.org/schema/neuroml2}proximal {'x': '34.1634', 'y': '17.6215', 'z': '-50.25', 'diameter': '3.80039'}\n",
      "{http://www.neuroml.org/schema/neuroml2}distal {'x': '35.3196', 'y': '17.6937', 'z': '-50.25', 'diameter': '6.44373'}\n"
     ]
    }
   ],
   "source": [
    "for child in morpho[0]:\n",
    "    print(child.tag,child.attrib)"
   ]
  },
  {
   "cell_type": "markdown",
   "metadata": {},
   "source": [
    "### Soma length and y-bounds"
   ]
  },
  {
   "cell_type": "code",
   "execution_count": 24,
   "metadata": {},
   "outputs": [],
   "source": [
    "these_segments = soma_segments\n",
    "soma_length = 0\n",
    "soma_parents = {}\n",
    "\n",
    "for segment in morpho.findall('{http://www.neuroml.org/schema/neuroml2}segment'):\n",
    "    seg_id = segment.attrib['id']\n",
    "    \n",
    "    if seg_id in these_segments.keys():\n",
    "        \n",
    "        if 'Seg0' in segment.attrib['name']:\n",
    "            proximal = segment[0]\n",
    "            distal = segment[1]\n",
    "\n",
    "            soma_y_prox = float(proximal.attrib['y'])\n",
    "            soma_y_dist = float(distal.attrib['y'])\n",
    "\n",
    "            if soma_y_prox < soma_y_dist:\n",
    "                lb = soma_y_prox\n",
    "                ub = soma_y_dist\n",
    "                soma_dir = 1  # prox->dist\n",
    "                soma_root = lb\n",
    "            else:\n",
    "                lb = soma_y_dist\n",
    "                ub = soma_y_prox\n",
    "                soma_dir = -1  # dist->prox\n",
    "                soma_root = ub\n",
    "\n",
    "        else:\n",
    "            parent_id = segment[0].attrib['segment']\n",
    "\n",
    "            proximal = soma_parents[parent_id]\n",
    "            distal = segment[1]\n",
    "\n",
    "            if soma_dir==1 and float(distal.attrib['y'])>ub:\n",
    "                ub = float(distal.attrib['y'])\n",
    "            if soma_dir==1 and float(distal.attrib['y'])<lb:\n",
    "                lb = float(distal.attrib['y'])  \n",
    "        \n",
    "        soma_parents.update({seg_id: distal})\n",
    "\n",
    "        soma_length += compute_segment_length(proximal, distal)\n",
    "\n",
    "soma_center = lb + (ub-lb)/2\n",
    "# soma_length = ub-lb"
   ]
  },
  {
   "cell_type": "code",
   "execution_count": 25,
   "metadata": {},
   "outputs": [
    {
     "data": {
      "text/plain": [
       "(18.34365, 17.6215, 19.0658, 23.169360230727168, 1.4442999999999984)"
      ]
     },
     "execution_count": 25,
     "metadata": {},
     "output_type": "execute_result"
    }
   ],
   "source": [
    "soma_center, lb, ub, soma_length, ub-lb"
   ]
  },
  {
   "cell_type": "markdown",
   "metadata": {},
   "source": [
    "### Soma width and bounds"
   ]
  },
  {
   "cell_type": "code",
   "execution_count": 26,
   "metadata": {},
   "outputs": [],
   "source": [
    "these_segments = soma_segments\n",
    "soma_width = 0\n",
    "soma_parents = {}\n",
    "\n",
    "for segment in morpho.findall('{http://www.neuroml.org/schema/neuroml2}segment'):\n",
    "    seg_id = segment.attrib['id']\n",
    "    \n",
    "    if seg_id in these_segments.keys():\n",
    "        \n",
    "        if 'Seg0' in segment.attrib['name']:\n",
    "            proximal = segment[0]\n",
    "            distal = segment[1]\n",
    "\n",
    "            soma_x_prox = float(proximal.attrib['x'])\n",
    "            soma_x_dist = float(distal.attrib['x'])\n",
    "\n",
    "            if soma_x_prox < soma_x_dist:\n",
    "                lb = soma_x_prox\n",
    "                ub = soma_x_dist\n",
    "                soma_dir = 1  # prox->dist\n",
    "                soma_root = lb\n",
    "            else:\n",
    "                lb = soma_x_dist\n",
    "                ub = soma_x_prox\n",
    "                soma_dir = -1  # dist->prox\n",
    "                soma_root = ub\n",
    "\n",
    "        else:\n",
    "            parent_id = segment[0].attrib['segment']\n",
    "\n",
    "            proximal = soma_parents[parent_id]\n",
    "            distal = segment[1]\n",
    "\n",
    "            if soma_dir==1 and float(distal.attrib['x'])>ub:\n",
    "                ub = float(distal.attrib['x'])\n",
    "            if soma_dir==1 and float(distal.attrib['x'])<lb:\n",
    "                lb = float(distal.attrib['x'])  \n",
    "        \n",
    "        soma_parents.update({seg_id: distal})\n",
    "\n",
    "        soma_width += compute_segment_length(proximal, distal)\n",
    "\n",
    "soma_center = lb + (ub-lb)/2"
   ]
  },
  {
   "cell_type": "code",
   "execution_count": 27,
   "metadata": {},
   "outputs": [
    {
     "data": {
      "text/plain": [
       "(45.72555, 34.1634, 57.2877, 23.169360230727168, 23.124299999999998)"
      ]
     },
     "execution_count": 27,
     "metadata": {},
     "output_type": "execute_result"
    }
   ],
   "source": [
    "soma_center, lb, ub, soma_width, ub-lb"
   ]
  },
  {
   "cell_type": "markdown",
   "metadata": {},
   "source": [
    "## Stems"
   ]
  },
  {
   "cell_type": "code",
   "execution_count": 28,
   "metadata": {},
   "outputs": [
    {
     "name": "stdout",
     "output_type": "stream",
     "text": [
      "Number of stems = 10\n"
     ]
    },
    {
     "data": {
      "text/plain": [
       "{'4067': 'Seg0_axon_0',\n",
       " '1660': 'Seg0_apic_0',\n",
       " '1594': 'Seg0_dend_79',\n",
       " '1585': 'Seg0_dend_78',\n",
       " '1260': 'Seg0_dend_63',\n",
       " '827': 'Seg0_dend_42',\n",
       " '749': 'Seg0_dend_39',\n",
       " '353': 'Seg0_dend_16',\n",
       " '206': 'Seg0_dend_7',\n",
       " '21': 'Seg0_dend_0'}"
      ]
     },
     "execution_count": 28,
     "metadata": {},
     "output_type": "execute_result"
    }
   ],
   "source": [
    "stems = {}\n",
    "\n",
    "for segment in morpho.findall('{http://www.neuroml.org/schema/neuroml2}segment'):\n",
    "    seg_id = segment.attrib['id']\n",
    "    seg_name = segment.attrib['name']\n",
    "\n",
    "    if not seg_name in soma_segments.values():\n",
    "\n",
    "        parent_id = segment[0].attrib['segment']\n",
    "\n",
    "        if parent_id in soma_parents.keys():\n",
    "            stems.update({seg_id: seg_name})\n",
    "    \n",
    "print(f'Number of stems = {len(stems)}')\n",
    "stems"
   ]
  },
  {
   "cell_type": "markdown",
   "metadata": {},
   "source": [
    "### compute stem cross-sectional areas"
   ]
  },
  {
   "cell_type": "code",
   "execution_count": 29,
   "metadata": {},
   "outputs": [
    {
     "data": {
      "text/plain": [
       "array([ 1.  , 10.8 ,  0.88,  0.29,  1.46,  0.58,  0.88,  1.46,  0.29,\n",
       "        0.58])"
      ]
     },
     "execution_count": 29,
     "metadata": {},
     "output_type": "execute_result"
    }
   ],
   "source": [
    "stem_names = []\n",
    "stem_diams = []\n",
    "\n",
    "for segment in morpho.findall('{http://www.neuroml.org/schema/neuroml2}segment'):\n",
    "    seg_name = segment.attrib['name']\n",
    "\n",
    "    if seg_name in stems.values():\n",
    "                   \n",
    "        proximal = segment[1]\n",
    "        diameter = float(proximal.attrib['diameter'])\n",
    "        stem_names.append(seg_name)\n",
    "        stem_diams.append(diameter)\n",
    "\n",
    "stem_diams = np.array(stem_diams)\n",
    "stem_diams"
   ]
  },
  {
   "cell_type": "code",
   "execution_count": 30,
   "metadata": {},
   "outputs": [],
   "source": [
    "def compute_stem_csa(diam):\n",
    "    return np.pi*np.square(diam/2)"
   ]
  },
  {
   "cell_type": "code",
   "execution_count": 31,
   "metadata": {},
   "outputs": [
    {
     "data": {
      "text/plain": [
       "array([7.85398163e-01, 9.16088418e+01, 6.08212338e-01, 6.60519855e-02,\n",
       "       1.67415473e+00, 2.64207942e-01, 6.08212338e-01, 1.67415473e+00,\n",
       "       6.60519855e-02, 2.64207942e-01])"
      ]
     },
     "execution_count": 31,
     "metadata": {},
     "output_type": "execute_result"
    }
   ],
   "source": [
    "stem_csas = compute_stem_csa(stem_diams)\n",
    "stem_csas"
   ]
  },
  {
   "cell_type": "code",
   "execution_count": 32,
   "metadata": {},
   "outputs": [
    {
     "data": {
      "text/plain": [
       "['Seg0_axon_0',\n",
       " 'Seg0_apic_0',\n",
       " 'Seg0_dend_79',\n",
       " 'Seg0_dend_78',\n",
       " 'Seg0_dend_63',\n",
       " 'Seg0_dend_42',\n",
       " 'Seg0_dend_39',\n",
       " 'Seg0_dend_16',\n",
       " 'Seg0_dend_7',\n",
       " 'Seg0_dend_0']"
      ]
     },
     "execution_count": 32,
     "metadata": {},
     "output_type": "execute_result"
    }
   ],
   "source": [
    "stem_names"
   ]
  },
  {
   "cell_type": "code",
   "execution_count": 33,
   "metadata": {},
   "outputs": [
    {
     "data": {
      "text/plain": [
       "97.61949392315906"
      ]
     },
     "execution_count": 33,
     "metadata": {},
     "output_type": "execute_result"
    }
   ],
   "source": [
    "np.sum(stem_csas)"
   ]
  },
  {
   "cell_type": "code",
   "execution_count": 34,
   "metadata": {},
   "outputs": [
    {
     "name": "stdout",
     "output_type": "stream",
     "text": [
      "Seg0_axon_0  angle: 0.51678330799935\n",
      "Seg0_apic_0  angle: 0.5771213449789857\n",
      "Seg0_dend_79  angle: 0.34116452615574666\n",
      "Seg0_dend_78  angle: 0.2050942633818013\n",
      "Seg0_dend_63  angle: 0.1575069491200203\n",
      "Seg0_dend_42  angle: 0.3198006361688046\n",
      "Seg0_dend_39  angle: 0.2712484457812747\n",
      "Seg0_dend_16  angle: 0.21440570451713192\n",
      "Seg0_dend_7  angle: 0.24256382200546311\n",
      "Seg0_dend_0  angle: 0.2818319164172626\n"
     ]
    }
   ],
   "source": [
    "for stem_id,name in stems.items():\n",
    "    \n",
    "    prox_list, dist_list = get_segment_coord_lists({stem_id:name},morpho,stems) \n",
    "    print(name,' angle:',compute_average_orientation(prox_list,dist_list)) # mean projection angle of all stem compartments off XZ-plane? -- needs to be restricted to local compartments e.g., apic\n"
   ]
  },
  {
   "cell_type": "markdown",
   "metadata": {},
   "source": [
    "## Axon compartments"
   ]
  },
  {
   "cell_type": "code",
   "execution_count": 35,
   "metadata": {},
   "outputs": [
    {
     "name": "stdout",
     "output_type": "stream",
     "text": [
      "{http://www.neuroml.org/schema/neuroml2}include {'segmentGroup': 'axon_0'}\n",
      "{http://www.neuroml.org/schema/neuroml2}include {'segmentGroup': 'axon_1'}\n"
     ]
    }
   ],
   "source": [
    "for child in comp_domains['axon_group']:\n",
    "    print(child.tag,child.attrib)"
   ]
  },
  {
   "cell_type": "code",
   "execution_count": 36,
   "metadata": {},
   "outputs": [
    {
     "data": {
      "text/plain": [
       "['axon_0', 'axon_1']"
      ]
     },
     "execution_count": 36,
     "metadata": {},
     "output_type": "execute_result"
    }
   ],
   "source": [
    "domain = 'axon_group'\n",
    "\n",
    "axon_groups = []\n",
    "\n",
    "for seg_group in comp_domains[domain]:\n",
    "    axon_groups.append(seg_group.attrib['segmentGroup'])\n",
    "\n",
    "axon_groups"
   ]
  },
  {
   "cell_type": "code",
   "execution_count": 37,
   "metadata": {},
   "outputs": [
    {
     "data": {
      "text/plain": [
       "{'4067': 'Seg0_axon_0',\n",
       " '4068': 'Seg1_axon_0',\n",
       " '4069': 'Seg0_axon_1',\n",
       " '4070': 'Seg1_axon_1'}"
      ]
     },
     "execution_count": 37,
     "metadata": {},
     "output_type": "execute_result"
    }
   ],
   "source": [
    "axon_segments = {}\n",
    "\n",
    "for segment in morpho.findall('{http://www.neuroml.org/schema/neuroml2}segment'):\n",
    "    \n",
    "    # leverage standardized segment naming\n",
    "    seg_name = segment.attrib['name'].split('_')\n",
    "    this_group = seg_name[1]+'_'+seg_name[2]\n",
    "    \n",
    "    if this_group in axon_groups:\n",
    "        axon_segments.update({segment.attrib['id']:segment.attrib['name']})\n",
    "\n",
    "axon_segments"
   ]
  },
  {
   "cell_type": "code",
   "execution_count": 38,
   "metadata": {},
   "outputs": [
    {
     "data": {
      "text/plain": [
       "['axon_0',\n",
       " 'apic_0',\n",
       " 'dend_79',\n",
       " 'dend_78',\n",
       " 'dend_63',\n",
       " 'dend_42',\n",
       " 'dend_39',\n",
       " 'dend_16',\n",
       " 'dend_7',\n",
       " 'dend_0']"
      ]
     },
     "execution_count": 38,
     "metadata": {},
     "output_type": "execute_result"
    }
   ],
   "source": [
    "stem_groups = [s.split('_')[1]+'_'+s.split('_')[2] for s in stems.values()]\n",
    "stem_groups"
   ]
  },
  {
   "cell_type": "code",
   "execution_count": 39,
   "metadata": {},
   "outputs": [
    {
     "name": "stdout",
     "output_type": "stream",
     "text": [
      "3\n",
      "Seg0_axon_0\n",
      "... is stem or branch segment\n",
      "2\n",
      "Seg1_axon_0\n",
      "... is a middle segment\n",
      "3\n",
      "Seg0_axon_1\n",
      "... is stem or branch segment\n",
      "2\n",
      "Seg1_axon_1\n",
      "... is a middle segment\n"
     ]
    }
   ],
   "source": [
    "these_segments = axon_segments\n",
    "axon_length = 0\n",
    "axon_parents = {}\n",
    "\n",
    "# for compute domain-level props\n",
    "proximal_list = []\n",
    "distal_list = []\n",
    "\n",
    "for segment in morpho.findall('{http://www.neuroml.org/schema/neuroml2}segment'):\n",
    "    seg_id = segment.attrib['id']\n",
    "    seg_name = segment.attrib['name']\n",
    "\n",
    "    if seg_name in these_segments.values():\n",
    "        \n",
    "        print(len(segment))\n",
    "        print(seg_name)\n",
    "        if len(segment)==2:\n",
    "            print('... is a middle segment')\n",
    "        if len(segment)==3:\n",
    "            print('... is stem or branch segment')\n",
    "    \n",
    "        # all segments have parent id\n",
    "        parent_id = segment[0].attrib['segment']\n",
    "        \n",
    "        \n",
    "        # if not stem of soma, look at parent for proximal\n",
    "        if seg_name in stems.values(): # this will ignore branching -- NEED TO BE FIXED\n",
    "            \n",
    "            # parent is segment[0]\n",
    "            for seg_element in segment:\n",
    "                if 'proximal' in seg_element.tag:\n",
    "                    proximal = seg_element\n",
    "                if 'distal' in seg_element.tag:\n",
    "                    distal = seg_element\n",
    "            \n",
    "#             proximal = segment[1]\n",
    "#             distal = segment[2]\n",
    "        else:\n",
    "            # no proximal so distal is segment[1] for non-branch segments\n",
    "#             proximal = axon_parents[parent_id]\n",
    "#             distal = segment[1] # old\n",
    "            for seg_element in segment:\n",
    "                if 'proximal' in seg_element.tag:\n",
    "                    proximal = seg_element\n",
    "                elif 'distal' in seg_element.tag:\n",
    "                    distal = seg_element\n",
    "                else:\n",
    "                    proximal = axon_parents[parent_id]\n",
    "            \n",
    "            \n",
    "        proximal_list.append(proximal)\n",
    "        distal_list.append(distal)\n",
    "            \n",
    "        axon_parents.update({seg_id:distal})\n",
    "        \n",
    "        # test\n",
    "        axon_length += compute_segment_length(proximal,distal)\n",
    "        \n",
    "        "
   ]
  },
  {
   "cell_type": "code",
   "execution_count": 40,
   "metadata": {},
   "outputs": [
    {
     "data": {
      "text/plain": [
       "59.999951281683465"
      ]
     },
     "execution_count": 40,
     "metadata": {},
     "output_type": "execute_result"
    }
   ],
   "source": [
    "axon_length"
   ]
  },
  {
   "cell_type": "code",
   "execution_count": 41,
   "metadata": {},
   "outputs": [],
   "source": [
    "x0, y0, z0 = float(proximal_list[0].attrib['x']), float(proximal_list[0].attrib['y']), float(proximal_list[0].attrib['z'])\n",
    "xf, yf, zf = float(distal_list[-1].attrib['x']), float(distal_list[-1].attrib['y']), float(distal_list[-1].attrib['z'])"
   ]
  },
  {
   "cell_type": "code",
   "execution_count": 42,
   "metadata": {},
   "outputs": [
    {
     "data": {
      "text/plain": [
       "59.99995128164689"
      ]
     },
     "execution_count": 42,
     "metadata": {},
     "output_type": "execute_result"
    }
   ],
   "source": [
    "r = np.sqrt((xf-x0)**2 + (yf-y0)**2 + (zf-z0)**2)\n",
    "r"
   ]
  },
  {
   "cell_type": "code",
   "execution_count": 43,
   "metadata": {},
   "outputs": [
    {
     "data": {
      "text/plain": [
       "56.6126"
      ]
     },
     "execution_count": 43,
     "metadata": {},
     "output_type": "execute_result"
    }
   ],
   "source": [
    "yf-y0"
   ]
  },
  {
   "cell_type": "code",
   "execution_count": 44,
   "metadata": {},
   "outputs": [
    {
     "data": {
      "text/plain": [
       "0.7068098819832662"
      ]
     },
     "execution_count": 44,
     "metadata": {},
     "output_type": "execute_result"
    }
   ],
   "source": [
    "compute_average_orientation(proximal_list,distal_list) # angle from XZ-plane\n"
   ]
  },
  {
   "cell_type": "markdown",
   "metadata": {},
   "source": [
    "## Apical compartments"
   ]
  },
  {
   "cell_type": "code",
   "execution_count": 45,
   "metadata": {},
   "outputs": [
    {
     "name": "stdout",
     "output_type": "stream",
     "text": [
      "{http://www.neuroml.org/schema/neuroml2}include {'segmentGroup': 'apic_0'}\n",
      "{http://www.neuroml.org/schema/neuroml2}include {'segmentGroup': 'apic_104'}\n",
      "{http://www.neuroml.org/schema/neuroml2}include {'segmentGroup': 'apic_1'}\n",
      "{http://www.neuroml.org/schema/neuroml2}include {'segmentGroup': 'apic_106'}\n",
      "{http://www.neuroml.org/schema/neuroml2}include {'segmentGroup': 'apic_105'}\n",
      "{http://www.neuroml.org/schema/neuroml2}include {'segmentGroup': 'apic_99'}\n",
      "{http://www.neuroml.org/schema/neuroml2}include {'segmentGroup': 'apic_2'}\n",
      "{http://www.neuroml.org/schema/neuroml2}include {'segmentGroup': 'apic_108'}\n",
      "{http://www.neuroml.org/schema/neuroml2}include {'segmentGroup': 'apic_107'}\n",
      "{http://www.neuroml.org/schema/neuroml2}include {'segmentGroup': 'apic_103'}\n",
      "{http://www.neuroml.org/schema/neuroml2}include {'segmentGroup': 'apic_100'}\n",
      "...\n"
     ]
    }
   ],
   "source": [
    "for i, child in enumerate(comp_domains['apical_dends']):\n",
    "    print(child.tag,child.attrib)\n",
    "    \n",
    "    if i==10:\n",
    "        print('...')\n",
    "        break"
   ]
  },
  {
   "cell_type": "code",
   "execution_count": 46,
   "metadata": {},
   "outputs": [],
   "source": [
    "apical_groups = get_domain_groups('apical_dends',comp_domains)"
   ]
  },
  {
   "cell_type": "code",
   "execution_count": 47,
   "metadata": {},
   "outputs": [
    {
     "data": {
      "text/plain": [
       "(-155, 155, 100)"
      ]
     },
     "execution_count": 47,
     "metadata": {},
     "output_type": "execute_result"
    }
   ],
   "source": [
    "y_lb, y_ub, rad_ub"
   ]
  },
  {
   "cell_type": "code",
   "execution_count": 48,
   "metadata": {},
   "outputs": [
    {
     "data": {
      "text/plain": [
       "['apic_0']"
      ]
     },
     "execution_count": 48,
     "metadata": {},
     "output_type": "execute_result"
    }
   ],
   "source": [
    "apical_init_groups = [group for group in apical_groups if group in stem_groups]\n",
    "apical_init_groups"
   ]
  },
  {
   "cell_type": "code",
   "execution_count": 49,
   "metadata": {},
   "outputs": [],
   "source": [
    "# get apical segments within cylindrical bounds\n",
    "# apical_segments = get_domain_segments(morpho,apical_groups,bounds=[[y_lb,y_ub],rad_ub])\n",
    "\n",
    "upper_apical_segments = get_domain_segments(morpho,apical_init_groups,bounds=[[0,np.inf],np.inf])\n",
    "lower_apical_segments = get_domain_segments(morpho,apical_init_groups,bounds=[[-np.inf,0],np.inf])\n"
   ]
  },
  {
   "cell_type": "code",
   "execution_count": 50,
   "metadata": {},
   "outputs": [
    {
     "data": {
      "text/plain": [
       "{'1660': 'Seg0_apic_0',\n",
       " '1662': 'Seg2_apic_0',\n",
       " '1663': 'Seg3_apic_0',\n",
       " '1664': 'Seg4_apic_0',\n",
       " '1665': 'Seg5_apic_0',\n",
       " '1666': 'Seg6_apic_0',\n",
       " '1667': 'Seg7_apic_0',\n",
       " '1668': 'Seg8_apic_0',\n",
       " '1669': 'Seg9_apic_0',\n",
       " '1670': 'Seg10_apic_0',\n",
       " '1671': 'Seg11_apic_0'}"
      ]
     },
     "execution_count": 50,
     "metadata": {},
     "output_type": "execute_result"
    }
   ],
   "source": [
    "upper_apical_segments"
   ]
  },
  {
   "cell_type": "code",
   "execution_count": 51,
   "metadata": {},
   "outputs": [
    {
     "data": {
      "text/plain": [
       "{}"
      ]
     },
     "execution_count": 51,
     "metadata": {},
     "output_type": "execute_result"
    }
   ],
   "source": [
    "lower_apical_segments"
   ]
  },
  {
   "cell_type": "code",
   "execution_count": 52,
   "metadata": {},
   "outputs": [],
   "source": [
    "apical_segments = upper_apical_segments"
   ]
  },
  {
   "cell_type": "code",
   "execution_count": 53,
   "metadata": {},
   "outputs": [
    {
     "name": "stdout",
     "output_type": "stream",
     "text": [
      "Removed 0 segments from list...\n"
     ]
    }
   ],
   "source": [
    "proximal_list, distal_list = get_segment_coord_lists(apical_segments,morpho,stems,verbose=True)"
   ]
  },
  {
   "cell_type": "code",
   "execution_count": 54,
   "metadata": {},
   "outputs": [
    {
     "data": {
      "text/plain": [
       "0.8853862397650601"
      ]
     },
     "execution_count": 54,
     "metadata": {},
     "output_type": "execute_result"
    }
   ],
   "source": [
    "compute_average_orientation(proximal_list,distal_list) "
   ]
  },
  {
   "cell_type": "code",
   "execution_count": 55,
   "metadata": {},
   "outputs": [
    {
     "data": {
      "text/plain": [
       "46.13561135987528"
      ]
     },
     "execution_count": 55,
     "metadata": {},
     "output_type": "execute_result"
    }
   ],
   "source": [
    "compute_total_length(proximal_list,distal_list)"
   ]
  },
  {
   "cell_type": "code",
   "execution_count": 56,
   "metadata": {},
   "outputs": [
    {
     "data": {
      "text/plain": [
       "4149.221884153519"
      ]
     },
     "execution_count": 56,
     "metadata": {},
     "output_type": "execute_result"
    }
   ],
   "source": [
    "compute_average_distance(distal_list)"
   ]
  },
  {
   "cell_type": "markdown",
   "metadata": {},
   "source": [
    "## Basal compartments"
   ]
  },
  {
   "cell_type": "code",
   "execution_count": 57,
   "metadata": {},
   "outputs": [
    {
     "name": "stdout",
     "output_type": "stream",
     "text": [
      "{http://www.neuroml.org/schema/neuroml2}include {'segmentGroup': 'dend_79'}\n",
      "{http://www.neuroml.org/schema/neuroml2}include {'segmentGroup': 'dend_78'}\n",
      "{http://www.neuroml.org/schema/neuroml2}include {'segmentGroup': 'dend_63'}\n",
      "{http://www.neuroml.org/schema/neuroml2}include {'segmentGroup': 'dend_42'}\n",
      "{http://www.neuroml.org/schema/neuroml2}include {'segmentGroup': 'dend_39'}\n",
      "{http://www.neuroml.org/schema/neuroml2}include {'segmentGroup': 'dend_16'}\n",
      "{http://www.neuroml.org/schema/neuroml2}include {'segmentGroup': 'dend_7'}\n",
      "{http://www.neuroml.org/schema/neuroml2}include {'segmentGroup': 'dend_0'}\n",
      "{http://www.neuroml.org/schema/neuroml2}include {'segmentGroup': 'dend_81'}\n",
      "{http://www.neuroml.org/schema/neuroml2}include {'segmentGroup': 'dend_80'}\n",
      "{http://www.neuroml.org/schema/neuroml2}include {'segmentGroup': 'dend_71'}\n",
      "...\n"
     ]
    }
   ],
   "source": [
    "for i, child in enumerate(comp_domains['basal_dends']):\n",
    "    print(child.tag,child.attrib)\n",
    "    \n",
    "    if i==10:\n",
    "        print('...')\n",
    "        break"
   ]
  },
  {
   "cell_type": "code",
   "execution_count": 58,
   "metadata": {},
   "outputs": [
    {
     "name": "stdout",
     "output_type": "stream",
     "text": [
      "Removed 0 segments from list...\n"
     ]
    }
   ],
   "source": [
    "basal_groups = get_domain_groups('basal_dends',comp_domains)\n",
    "# basal_segments = get_domain_segments(morpho,basal_groups,bounds=[[y_lb,y_ub],rad_ub])\n",
    "basal_segments = get_domain_segments(morpho,basal_groups,bounds=None)\n",
    "proximal_list, distal_list = get_segment_coord_lists(basal_segments,morpho,stems,verbose=True)"
   ]
  },
  {
   "cell_type": "markdown",
   "metadata": {},
   "source": [
    "## Stem ends"
   ]
  },
  {
   "cell_type": "code",
   "execution_count": 61,
   "metadata": {},
   "outputs": [],
   "source": [
    "# compute max extent for the different compartment domains\n",
    "seg_ends = []\n",
    "lower_segs = []\n",
    "for seg, distal_end in zip(basal_segments.items(),distal_list):\n",
    "    y = float(distal_end.attrib['y'])\n",
    "    seg_ends.append(y)\n",
    "    \n",
    "    if y<0: lower_segs.append(seg)\n",
    "    \n",
    "upper_y_dist, lower_y_dist = np.max(seg_ends), np.min(seg_ends)\n",
    "\n"
   ]
  },
  {
   "cell_type": "code",
   "execution_count": 62,
   "metadata": {},
   "outputs": [
    {
     "data": {
      "text/plain": [
       "(116.357, -190.093)"
      ]
     },
     "execution_count": 62,
     "metadata": {},
     "output_type": "execute_result"
    }
   ],
   "source": [
    "upper_y_dist, lower_y_dist"
   ]
  },
  {
   "cell_type": "code",
   "execution_count": 63,
   "metadata": {},
   "outputs": [],
   "source": [
    "def get_domain_locs(comp_domains,morpho,stems,which_domain='basal'):\n",
    "    \n",
    "    \n",
    "    domain_groups = get_domain_groups(which_domain,comp_domains)\n",
    "    domain_segments = get_domain_segments(morpho,domain_groups,bounds=None)\n",
    "    proximal_list, distal_list = get_segment_coord_lists(domain_segments,morpho,stems,verbose=False)\n",
    "    \n",
    "    locs = np.zeros(len(proximal_list),3)\n",
    "    diams = np.zeros(len(proximal))\n",
    "    \n",
    "    for i, (prox_end,distal_end) in enumerate(zip(proximal_list,distal_list)):\n",
    "        xd, yd, zd = float(distal_end.attrib['x']),float(distal_end.attrib['y']),float(distal_end.attrib['z'])\n",
    "        xp, yp, zp = float(prox_end.attrib['x']),float(prox_end.attrib['y']),float(prox_end.attrib['z'])\n",
    "\n",
    "        locs[i,0], locs[i,1], locs[i,2] = (xd-xp)/2.,(yd-yp)/2.,(zd-zp)/2.\n",
    "\n",
    "        diams[i] = float(prox_end.attrib['diameter'])\n",
    "    \n",
    "    \n",
    "    return locs, diams"
   ]
  },
  {
   "cell_type": "code",
   "execution_count": 65,
   "metadata": {},
   "outputs": [],
   "source": [
    "def get_terminal_segments(morpho,comp_domains,which_domain='basal',verbose=False):\n",
    "    \n",
    "    domain_groups = get_domain_groups(which_domain,comp_domains)\n",
    "    domain_segments = get_domain_segments(morpho,domain_groups,bounds=None)\n",
    "    \n",
    "    no_children = domain_segments.copy()\n",
    "    \n",
    "    \n",
    "    for segment in morpho.findall('{http://www.neuroml.org/schema/neuroml2}segment'):\n",
    "        seg_id = segment.attrib['id']\n",
    "        seg_name = segment.attrib['name']\n",
    "\n",
    "        \n",
    "        # find parents\n",
    "        if seg_name in domain_segments.values():\n",
    "            parent_id = segment[0].attrib['segment'] \n",
    "            \n",
    "            # if it is a parent, then remove it\n",
    "            try:\n",
    "                no_children.pop(parent_id)\n",
    "            except KeyError:\n",
    "                if verbose: print('Parent is not in %s domain.'%which_domain)\n",
    "            \n",
    "    return no_children"
   ]
  },
  {
   "cell_type": "code",
   "execution_count": 66,
   "metadata": {},
   "outputs": [],
   "source": [
    "def get_terminal_coord_lists(terminal_segments,domain_segments,morpho,stems,verbose=False):\n",
    "    segment_parents = {}\n",
    "    no_parent = {}\n",
    "\n",
    "    # for compute domain-level props\n",
    "    proximal_list = []\n",
    "    distal_list = []\n",
    "\n",
    "    for segment in morpho.findall('{http://www.neuroml.org/schema/neuroml2}segment'):\n",
    "        seg_id = segment.attrib['id']\n",
    "        seg_name = segment.attrib['name']\n",
    "\n",
    "\n",
    "        if seg_name in domain_segments.values():\n",
    "\n",
    "            parent_id = segment[0].attrib['segment']\n",
    "\n",
    "            # if not stem of soma, look at parent for proximal\n",
    "            if seg_name in stems.values():\n",
    "\n",
    "                # parent is segment[0]\n",
    "                proximal = segment[1]\n",
    "                distal = segment[2]\n",
    "                \n",
    "                segment_parents.update({seg_id:distal})\n",
    "            else:\n",
    "                # no proximal so distal is segment[1]\n",
    "                distal = segment[1]\n",
    "                segment_parents.update({seg_id:distal})\n",
    "                \n",
    "                # sometimes parent segment is out of bounds so not included\n",
    "                try:\n",
    "                    proximal = segment_parents[parent_id]\n",
    "            \n",
    "                except KeyError:\n",
    "                    no_parent.update({seg_id:{}})\n",
    "                    no_parent[seg_id].update({'Name':seg_name})\n",
    "                    no_parent[seg_id].update({'Parent ID':parent_id})\n",
    "                    \n",
    "                    # don't append anything to list\n",
    "                    continue\n",
    "            \n",
    "            if seg_name in terminal_segments.values():\n",
    "                proximal_list.append(proximal)\n",
    "                distal_list.append(distal)\n",
    "                \n",
    "    return proximal_list,distal_list"
   ]
  },
  {
   "cell_type": "code",
   "execution_count": 64,
   "metadata": {},
   "outputs": [],
   "source": [
    "def get_stem_terminal_metrics(comp_domains,morpho,stems,which_stem_domain='basal',soma_center=0):\n",
    "    \"\"\"\n",
    "        Only meant for basal or non-basal/apical.\n",
    "    \"\"\"\n",
    "    \n",
    "    stem_domains = [s.split('_')[1]+'_'+s.split('_')[2] for s in stems.values()]\n",
    "    \n",
    "    stem_groups = get_domain_groups(which_stem_domain,comp_domains)\n",
    "    stem_segments = get_domain_segments(morpho,stem_groups,bounds=None)\n",
    "    terminal_segs = get_terminal_segments(morpho,comp_domains,which_domain=which_stem_domain)\n",
    "    \n",
    "    proximal_list, distal_list = get_terminal_coord_lists(terminal_segs,stem_segments,morpho,stems,verbose=False)\n",
    "    \n",
    "    \n",
    "  \n",
    "    lower_yfs = []\n",
    "    lower_xzfs = []\n",
    "    upper_yfs = []\n",
    "    upper_xzfs = []\n",
    "    upper_angles = []\n",
    "    lower_angles = []\n",
    "\n",
    "    for seg, distal_end, prox_end in zip(terminal_segs.items(),distal_list,proximal_list):\n",
    "        xd, yd, zd = float(distal_end.attrib['x']),float(distal_end.attrib['y']),float(distal_end.attrib['z'])\n",
    "        xp, yp, zp = float(prox_end.attrib['x']),float(prox_end.attrib['y']),float(prox_end.attrib['z'])\n",
    "        \n",
    "        \n",
    "        # project all segments onto XZ-plane\n",
    "        dist_xz = np.sqrt(np.square(xd)**2 + np.square(zd)**2)\n",
    "\n",
    "        # compute signed angle in radians\n",
    "        dist_y = yd\n",
    "        angle = np.arctan2(dist_y,dist_xz)\n",
    "\n",
    "        \n",
    "\n",
    "        if yp<soma_center: \n",
    "            lower_yfs.append(yd)\n",
    "            lower_angles.append(angle)\n",
    "            lower_xzfs.append(dist_xz)\n",
    "\n",
    "        else: \n",
    "            upper_yfs.append(yd)\n",
    "            upper_angles.append(angle)\n",
    "            upper_xzfs.append(dist_xz)\n",
    "\n",
    "\n",
    "\n",
    "    return lower_yfs, lower_xzfs, upper_yfs, upper_xzfs, [circmean(lower_angles),circmean(upper_angles),np.mean(lower_yfs),np.mean(upper_yfs)]\n",
    "\n"
   ]
  },
  {
   "cell_type": "code",
   "execution_count": 68,
   "metadata": {},
   "outputs": [],
   "source": [
    "axon_groups = get_domain_groups('axon_group',comp_domains)\n",
    "axon_segments = get_domain_segments(morpho,axon_groups,bounds=None)\n",
    "axon_segments"
   ]
  },
  {
   "cell_type": "code",
   "execution_count": 71,
   "metadata": {},
   "outputs": [
    {
     "data": {
      "text/plain": [
       "{'4070': 'Seg1_axon_1'}"
      ]
     },
     "execution_count": 71,
     "metadata": {},
     "output_type": "execute_result"
    }
   ],
   "source": [
    "axon_terminal_segs = get_terminal_segments(morpho,comp_domains,which_domain='axon_group')\n",
    "axon_terminal_segs"
   ]
  },
  {
   "cell_type": "code",
   "execution_count": 72,
   "metadata": {},
   "outputs": [
    {
     "data": {
      "text/plain": [
       "[<Element '{http://www.neuroml.org/schema/neuroml2}proximal' at 0x7f7e0087cf40>]"
      ]
     },
     "execution_count": 72,
     "metadata": {},
     "output_type": "execute_result"
    }
   ],
   "source": [
    "proximal_list, distal_list = get_terminal_coord_lists(axon_terminal_segs,axon_segments,morpho,stems,verbose=False)\n",
    "proximal_list"
   ]
  },
  {
   "cell_type": "code",
   "execution_count": null,
   "metadata": {},
   "outputs": [],
   "source": []
  }
 ],
 "metadata": {
  "kernelspec": {
   "display_name": "python3_9-NEW",
   "language": "python",
   "name": "python3"
  },
  "language_info": {
   "codemirror_mode": {
    "name": "ipython",
    "version": 3
   },
   "file_extension": ".py",
   "mimetype": "text/x-python",
   "name": "python",
   "nbconvert_exporter": "python",
   "pygments_lexer": "ipython3",
   "version": "3.9.16"
  }
 },
 "nbformat": 4,
 "nbformat_minor": 2
}
