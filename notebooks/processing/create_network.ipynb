{
 "cells": [
  {
   "cell_type": "code",
   "execution_count": 2,
   "metadata": {},
   "outputs": [],
   "source": [
    "import matplotlib\n",
    "import os\n",
    "import json\n",
    "import model_helpers as mh\n",
    "from pyneuroml import pynml\n",
    "from neuroml.utils import component_factory\n",
    "import neuroml as nml\n",
    "import neuroml.writers as writers\n",
    "%matplotlib inline"
   ]
  },
  {
   "cell_type": "code",
   "execution_count": 3,
   "metadata": {},
   "outputs": [],
   "source": [
    "nmldb_id = \"NMLCL000073\"\n",
    "model_version = 'NeuroML'\n",
    "cell_name = \"L5PC\""
   ]
  },
  {
   "cell_type": "code",
   "execution_count": 4,
   "metadata": {},
   "outputs": [],
   "source": [
    "cwd = os.getcwd()\n",
    "models_dir = os.path.join(cwd, 'models')\n",
    "model_dir = os.path.join(models_dir, model_version, f'{nmldb_id}-{model_version}')"
   ]
  },
  {
   "cell_type": "code",
   "execution_count": 5,
   "metadata": {},
   "outputs": [
    {
     "name": "stdout",
     "output_type": "stream",
     "text": [
      "Model NMLCL000073 already downloaded.\n"
     ]
    }
   ],
   "source": [
    "mh.download_from_nmldb(nmldb_id, model_version)"
   ]
  },
  {
   "cell_type": "code",
   "execution_count": 6,
   "metadata": {},
   "outputs": [
    {
     "data": {
      "text/plain": [
       "'/home/kedoxey/CRCNS/PyramidalCellSimulations/models/NeuroML/NMLCL000073-NeuroML/L5PC.cell.nml'"
      ]
     },
     "execution_count": 6,
     "metadata": {},
     "output_type": "execute_result"
    }
   ],
   "source": [
    "cell_fname = os.path.join(model_dir,cell_name) + '.cell.nml'\n",
    "cell_fname"
   ]
  },
  {
   "cell_type": "code",
   "execution_count": 7,
   "metadata": {},
   "outputs": [
    {
     "name": "stderr",
     "output_type": "stream",
     "text": [
      "pyNeuroML >>> INFO - Loading NeuroML2 file: /home/kedoxey/CRCNS/PyramidalCellSimulations/models/NeuroML/NMLCL000073-NeuroML/L5PC.cell.nml\n"
     ]
    }
   ],
   "source": [
    "cell_nml = pynml.read_neuroml2_file(cell_fname)"
   ]
  },
  {
   "cell_type": "code",
   "execution_count": 8,
   "metadata": {},
   "outputs": [],
   "source": [
    "nml_doc = component_factory(\"NeuroMLDocument\", id=f'{cell_name}_Net')"
   ]
  },
  {
   "cell_type": "code",
   "execution_count": 9,
   "metadata": {},
   "outputs": [],
   "source": [
    "net = nml_doc.add('Network', id=f'{cell_name}_Net', validate=False)\n",
    "net.type = 'networkWithTemperature'\n",
    "net.temperature = '6.3degC'"
   ]
  },
  {
   "cell_type": "code",
   "execution_count": 10,
   "metadata": {},
   "outputs": [],
   "source": [
    "input_amp = 0.35477\n",
    "pg = nml.PulseGenerator(id=f'input_{input_amp}',\n",
    "                        delay=f'{700}ms',\n",
    "                        duration=f'{2000}ms',\n",
    "                        amplitude=f'{input_amp}nA')\n",
    "nml_doc.pulse_generators.append(pg)"
   ]
  },
  {
   "cell_type": "code",
   "execution_count": 11,
   "metadata": {},
   "outputs": [
    {
     "data": {
      "text/plain": [
       "<neuroml.nml.nml.Population at 0x7f2b83de1b80>"
      ]
     },
     "execution_count": 11,
     "metadata": {},
     "output_type": "execute_result"
    }
   ],
   "source": [
    "nml_doc.add('IncludeType', href=cell_fname)\n",
    "\n",
    "pop = component_factory('Population', id=f'{cell_name}_Pop', component=cell_nml.id, size=1, type='population')\n",
    "net.add(pop)"
   ]
  },
  {
   "cell_type": "code",
   "execution_count": 12,
   "metadata": {},
   "outputs": [],
   "source": [
    "nml_net_file = os.path.join(model_dir,cell_name) + '_Network.net.nml'\n",
    "writers.NeuroMLWriter.write(nml_doc, nml_net_file)"
   ]
  },
  {
   "cell_type": "code",
   "execution_count": null,
   "metadata": {},
   "outputs": [],
   "source": []
  }
 ],
 "metadata": {
  "kernelspec": {
   "display_name": "OBModel_linux",
   "language": "python",
   "name": "python3"
  },
  "language_info": {
   "codemirror_mode": {
    "name": "ipython",
    "version": 3
   },
   "file_extension": ".py",
   "mimetype": "text/x-python",
   "name": "python",
   "nbconvert_exporter": "python",
   "pygments_lexer": "ipython3",
   "version": "3.7.12"
  },
  "orig_nbformat": 4
 },
 "nbformat": 4,
 "nbformat_minor": 2
}
